{
  "nbformat": 4,
  "nbformat_minor": 0,
  "metadata": {
    "colab": {
      "provenance": [],
      "authorship_tag": "ABX9TyOxd9qoZkymiVgNmfpH6sB2",
      "include_colab_link": true
    },
    "kernelspec": {
      "name": "python3",
      "display_name": "Python 3"
    },
    "language_info": {
      "name": "python"
    }
  },
  "cells": [
    {
      "cell_type": "markdown",
      "metadata": {
        "id": "view-in-github",
        "colab_type": "text"
      },
      "source": [
        "<a href=\"https://colab.research.google.com/github/kylegrecki/csc221_kgrec003/blob/main/assignment7.ipynb\" target=\"_parent\"><img src=\"https://colab.research.google.com/assets/colab-badge.svg\" alt=\"Open In Colab\"/></a>"
      ]
    },
    {
      "cell_type": "markdown",
      "source": [
        "Kyle Grecki\n",
        "\n",
        "Assignment 7"
      ],
      "metadata": {
        "id": "qO0mTyiLcBIX"
      }
    },
    {
      "cell_type": "code",
      "source": [
        "alien_0 = {'color': 'green','points': 5}\n",
        "print(alien_0['color'])\n",
        "print(alien_0['points'])"
      ],
      "metadata": {
        "colab": {
          "base_uri": "https://localhost:8080/"
        },
        "id": "70bH72FucMMy",
        "outputId": "5ff893ae-3e25-4c02-82e3-bdd1b0b876ad"
      },
      "execution_count": null,
      "outputs": [
        {
          "output_type": "stream",
          "name": "stdout",
          "text": [
            "green\n",
            "5\n"
          ]
        }
      ]
    },
    {
      "cell_type": "code",
      "source": [
        "alien_0 = {'color': 'green'}\n",
        "print(alien_0['color'])"
      ],
      "metadata": {
        "colab": {
          "base_uri": "https://localhost:8080/"
        },
        "id": "u4aqE6EgceZC",
        "outputId": "b4f7130b-f328-411d-fa04-f802ca59563b"
      },
      "execution_count": null,
      "outputs": [
        {
          "output_type": "stream",
          "name": "stdout",
          "text": [
            "green\n"
          ]
        }
      ]
    },
    {
      "cell_type": "code",
      "source": [
        "alien_0 = {'color': 'green','points': 5}\n",
        "new_points = alien_0['points']\n",
        "print(f\"you just earned {new_points} points!\")"
      ],
      "metadata": {
        "colab": {
          "base_uri": "https://localhost:8080/"
        },
        "id": "Yq8mvrrWcxaI",
        "outputId": "ef7a5dc2-9dcd-4cfd-fcd6-eb2711d2baf9"
      },
      "execution_count": null,
      "outputs": [
        {
          "output_type": "stream",
          "name": "stdout",
          "text": [
            "you just earned 5 points!\n"
          ]
        }
      ]
    },
    {
      "cell_type": "code",
      "source": [
        "alien_0 = {'color': 'green','points': 5}\n",
        "print(alien_0)\n",
        "\n",
        "alien_0['x_position'] = 0\n",
        "alien_0['y_position'] = 25\n",
        "print(alien_0)"
      ],
      "metadata": {
        "colab": {
          "base_uri": "https://localhost:8080/"
        },
        "id": "rb_YX6ZodSCK",
        "outputId": "7fce4e41-96b6-4e95-9730-4a1cac17834b"
      },
      "execution_count": null,
      "outputs": [
        {
          "output_type": "stream",
          "name": "stdout",
          "text": [
            "{'color': 'green', 'points': 5}\n",
            "{'color': 'green', 'points': 5, 'x_position': 0, 'y_position': 25}\n"
          ]
        }
      ]
    },
    {
      "cell_type": "code",
      "source": [
        "alien_0 = {}\n",
        "\n",
        "alien_0['color'] = 'green'\n",
        "alien_0['points'] = 5\n",
        "print(alien_0)"
      ],
      "metadata": {
        "colab": {
          "base_uri": "https://localhost:8080/"
        },
        "id": "i5lvth_LduG1",
        "outputId": "f1e18942-2355-4f02-81e4-3b92923554ea"
      },
      "execution_count": null,
      "outputs": [
        {
          "output_type": "stream",
          "name": "stdout",
          "text": [
            "{'color': 'green', 'points': 5}\n"
          ]
        }
      ]
    },
    {
      "cell_type": "code",
      "source": [
        "alien_0 = {'color': 'green'}\n",
        "print(f\"The alien is {alien_0['color']}.\")\n",
        "\n",
        "alien_0['color'] = 'yellow'\n",
        "print(f\"The alien is now {alien_0['color']}.\")"
      ],
      "metadata": {
        "colab": {
          "base_uri": "https://localhost:8080/"
        },
        "id": "iXG9avsZeIsL",
        "outputId": "b235a142-ac48-476b-a71c-063b2808c088"
      },
      "execution_count": null,
      "outputs": [
        {
          "output_type": "stream",
          "name": "stdout",
          "text": [
            "The alien is green.\n",
            "The alien is now yellow.\n"
          ]
        }
      ]
    },
    {
      "cell_type": "code",
      "source": [
        "alien_0 = {'x_position': 0, 'y_position': 25, 'speed': 'medium'}\n",
        "print(f\"Original position: {alien_0['x_position']}\")\n",
        "\n",
        "if alien_0['speed'] == 'slow':\n",
        "      x_increment = 1\n",
        "elif alien_0['speed'] == 'medium':\n",
        "      x_increment = 2\n",
        "else:\n",
        "      x_increment = 3\n",
        "\n",
        "alien_0['x_position'] = alien_0['x_position'] + x_increment\n",
        "print(f\"New position: {alien_0['x_position']}\")"
      ],
      "metadata": {
        "colab": {
          "base_uri": "https://localhost:8080/"
        },
        "id": "R3YgZ8JJempU",
        "outputId": "897d0d5a-3381-43b5-bfe5-da19ff06108f"
      },
      "execution_count": null,
      "outputs": [
        {
          "output_type": "stream",
          "name": "stdout",
          "text": [
            "Original position: 0\n",
            "New position: 2\n"
          ]
        }
      ]
    },
    {
      "cell_type": "code",
      "source": [
        "alien_0 = {'color': 'green', 'points': 5}\n",
        "print(alien_0)\n",
        "del alien_0['points']\n",
        "print(alien_0)"
      ],
      "metadata": {
        "colab": {
          "base_uri": "https://localhost:8080/"
        },
        "id": "H_LJRCvofY2d",
        "outputId": "da02af3f-1e35-44a1-8e8b-6a9e7a964224"
      },
      "execution_count": null,
      "outputs": [
        {
          "output_type": "stream",
          "name": "stdout",
          "text": [
            "{'color': 'green', 'points': 5}\n",
            "{'color': 'green'}\n"
          ]
        }
      ]
    },
    {
      "cell_type": "code",
      "source": [
        "favorite_languages = {\n",
        "    'jen':'python',\n",
        "    'sarah':'c',\n",
        "    'edward':'rust',\n",
        "    'phil':'python',\n",
        "    }\n",
        "\n",
        "language = favorite_languages['sarah'].title()\n",
        "print(f\"Sarah's favorite language is {language}.\")"
      ],
      "metadata": {
        "colab": {
          "base_uri": "https://localhost:8080/"
        },
        "id": "61cI-nlofl1o",
        "outputId": "46be4b24-c93a-42d8-8bad-40b3ca274c48"
      },
      "execution_count": null,
      "outputs": [
        {
          "output_type": "stream",
          "name": "stdout",
          "text": [
            "Sarah's favorite language is C.\n"
          ]
        }
      ]
    },
    {
      "cell_type": "code",
      "source": [
        "alien_0 = {'color': 'green', 'speed': 'slow'}\n",
        "print(alien_0['points'])"
      ],
      "metadata": {
        "colab": {
          "base_uri": "https://localhost:8080/",
          "height": 191
        },
        "id": "yoOx8zBSisbP",
        "outputId": "4bc8e9b3-66bb-495e-e018-aa9d12d3d5dd"
      },
      "execution_count": null,
      "outputs": [
        {
          "output_type": "error",
          "ename": "KeyError",
          "evalue": "ignored",
          "traceback": [
            "\u001b[0;31m---------------------------------------------------------------------------\u001b[0m",
            "\u001b[0;31mKeyError\u001b[0m                                  Traceback (most recent call last)",
            "\u001b[0;32m<ipython-input-19-3914d637e9f3>\u001b[0m in \u001b[0;36m<cell line: 2>\u001b[0;34m()\u001b[0m\n\u001b[1;32m      1\u001b[0m \u001b[0malien_0\u001b[0m \u001b[0;34m=\u001b[0m \u001b[0;34m{\u001b[0m\u001b[0;34m'color'\u001b[0m\u001b[0;34m:\u001b[0m \u001b[0;34m'green'\u001b[0m\u001b[0;34m,\u001b[0m \u001b[0;34m'speed'\u001b[0m\u001b[0;34m:\u001b[0m \u001b[0;34m'slow'\u001b[0m\u001b[0;34m}\u001b[0m\u001b[0;34m\u001b[0m\u001b[0;34m\u001b[0m\u001b[0m\n\u001b[0;32m----> 2\u001b[0;31m \u001b[0mprint\u001b[0m\u001b[0;34m(\u001b[0m\u001b[0malien_0\u001b[0m\u001b[0;34m[\u001b[0m\u001b[0;34m'points'\u001b[0m\u001b[0;34m]\u001b[0m\u001b[0;34m)\u001b[0m\u001b[0;34m\u001b[0m\u001b[0;34m\u001b[0m\u001b[0m\n\u001b[0m",
            "\u001b[0;31mKeyError\u001b[0m: 'points'"
          ]
        }
      ]
    },
    {
      "cell_type": "code",
      "source": [
        "alien_0 = {'color': 'green', 'speed': 'slow'}\n",
        "\n",
        "point_value = alien_0.get('points', 'No point value assigned.')\n",
        "print(point_value)"
      ],
      "metadata": {
        "colab": {
          "base_uri": "https://localhost:8080/"
        },
        "id": "1vSLmcP9i5GQ",
        "outputId": "66376cbd-b25f-4663-d869-c7ad496d8e7a"
      },
      "execution_count": null,
      "outputs": [
        {
          "output_type": "stream",
          "name": "stdout",
          "text": [
            "No point value assigned.\n"
          ]
        }
      ]
    },
    {
      "cell_type": "code",
      "source": [
        "person = {\n",
        "    'first_name': 'chris',\n",
        "    'last_name': 'esposito',\n",
        "    'age': 24,\n",
        "    'city': 'new york',\n",
        "    }\n",
        "\n",
        "print(person['first_name'])\n",
        "print(person['last_name'])\n",
        "print(person['age'])\n",
        "print(person['city'])"
      ],
      "metadata": {
        "colab": {
          "base_uri": "https://localhost:8080/"
        },
        "id": "vAfyb6Y4i_Ip",
        "outputId": "86cc77b2-f5bd-4c1a-a5f7-d36d4080599e"
      },
      "execution_count": null,
      "outputs": [
        {
          "output_type": "stream",
          "name": "stdout",
          "text": [
            "chris\n",
            "esposito\n",
            "24\n",
            "new york\n"
          ]
        }
      ]
    },
    {
      "cell_type": "code",
      "source": [
        "favorite_numbers = {\n",
        "    'chris': 23,\n",
        "    'mike': 48,\n",
        "    'joe': 99,\n",
        "    'cole': 8,\n",
        "    'alex': 9_000_000,\n",
        "    }\n",
        "\n",
        "num = favorite_numbers['chris']\n",
        "print(f\"chris' favorite number is {num}.\")\n",
        "\n",
        "num = favorite_numbers['mike']\n",
        "print(f\"mike's favorite number is {num}.\")\n",
        "\n",
        "num = favorite_numbers['joe']\n",
        "print(f\"joe's favorite number is {num}.\")\n",
        "\n",
        "num = favorite_numbers['cole']\n",
        "print(f\"cole's favorite number is {num}.\")\n",
        "\n",
        "num = favorite_numbers['alex']\n",
        "print(f\"alex's favorite number is {num}.\")"
      ],
      "metadata": {
        "colab": {
          "base_uri": "https://localhost:8080/"
        },
        "id": "nu27hZtvjZ59",
        "outputId": "4380fcff-b399-4398-9fca-3311c72f8262"
      },
      "execution_count": null,
      "outputs": [
        {
          "output_type": "stream",
          "name": "stdout",
          "text": [
            "chris' favorite number is 23.\n",
            "mike's favorite number is 48.\n",
            "joe's favorite number is 99.\n",
            "cole's favorite number is 8.\n",
            "alex's favorite number is 9000000.\n"
          ]
        }
      ]
    },
    {
      "cell_type": "code",
      "source": [
        "glossary = {\n",
        "    'dictionary': 'A collection of key-value pairs.',\n",
        "    'if': 'used to start a conditional statement.',\n",
        "    'list': 'A collection of items in a particular order.',\n",
        "    'loop': 'Work through a collection of items, one at a time.',\n",
        "    'string': 'A series of characters.',\n",
        "    }\n",
        "word = 'dictionary'\n",
        "print(f\"\\n{word.title()}: {glossary[word]}\")\n",
        "\n",
        "word = 'if'\n",
        "print(f\"\\n{word.title()}: {glossary[word]}\")\n",
        "\n",
        "word = 'list'\n",
        "print(f\"\\n{word.title()}: {glossary[word]}\")\n",
        "\n",
        "word = 'loop'\n",
        "print(f\"\\n{word.title()}: {glossary[word]}\")\n",
        "\n",
        "word = 'string'\n",
        "print(f\"\\n{word.title()}: {glossary[word]}\")"
      ],
      "metadata": {
        "colab": {
          "base_uri": "https://localhost:8080/"
        },
        "id": "dV4QDhu9kf3B",
        "outputId": "de0753f9-b021-4ddf-ed53-bd495153bd13"
      },
      "execution_count": null,
      "outputs": [
        {
          "output_type": "stream",
          "name": "stdout",
          "text": [
            "\n",
            "Dictionary: A collection of key-value pairs.\n",
            "\n",
            "If: used to start a conditional statement.\n",
            "\n",
            "List: A collection of items in a particular order.\n",
            "\n",
            "Loop: Work through a collection of items, one at a time.\n",
            "\n",
            "String: A series of characters.\n"
          ]
        }
      ]
    },
    {
      "cell_type": "code",
      "source": [
        "user_0 = {\n",
        "'username': 'efermi',\n",
        "            'first': 'enrico',\n",
        "            'last': 'fermi',\n",
        " }\n",
        "\n",
        "for key, value in user_0.items():\n",
        "  print(f\"\\nKey: {key}\")\n",
        "  print(f\"Value: {value}\")"
      ],
      "metadata": {
        "colab": {
          "base_uri": "https://localhost:8080/"
        },
        "id": "6tdEXuvWmhUV",
        "outputId": "605e6520-1cda-4092-bb70-2b7dff7eb575"
      },
      "execution_count": null,
      "outputs": [
        {
          "output_type": "stream",
          "name": "stdout",
          "text": [
            "\n",
            "Key: username\n",
            "Value: efermi\n",
            "\n",
            "Key: first\n",
            "Value: enrico\n",
            "\n",
            "Key: last\n",
            "Value: fermi\n"
          ]
        }
      ]
    },
    {
      "cell_type": "code",
      "source": [
        "for name, language in favorite_languages.items():\n",
        "    print(f\"{name.title()}'s favorite language is {language.title()}.\")"
      ],
      "metadata": {
        "colab": {
          "base_uri": "https://localhost:8080/"
        },
        "id": "irVoBXm2nJ7i",
        "outputId": "cb7f8c78-de5d-42c0-ac99-05374022a230"
      },
      "execution_count": null,
      "outputs": [
        {
          "output_type": "stream",
          "name": "stdout",
          "text": [
            "Jen's favorite language is Python.\n",
            "Sarah's favorite language is C.\n",
            "Edward's favorite language is Rust.\n",
            "Phil's favorite language is Python.\n"
          ]
        }
      ]
    },
    {
      "cell_type": "code",
      "source": [
        "for name in favorite_languages.keys():\n",
        "    print(name.title())"
      ],
      "metadata": {
        "colab": {
          "base_uri": "https://localhost:8080/"
        },
        "id": "-I3yn7USnXPz",
        "outputId": "df8938d3-7582-4879-fe77-48d367f26b96"
      },
      "execution_count": null,
      "outputs": [
        {
          "output_type": "stream",
          "name": "stdout",
          "text": [
            "Jen\n",
            "Sarah\n",
            "Edward\n",
            "Phil\n"
          ]
        }
      ]
    },
    {
      "cell_type": "code",
      "source": [
        "for name in favorite_languages:\n",
        "    print(name.title())"
      ],
      "metadata": {
        "colab": {
          "base_uri": "https://localhost:8080/"
        },
        "id": "zuzFuWOpn3nj",
        "outputId": "791ac1fa-fbb6-4d12-f0cd-c82243807cf6"
      },
      "execution_count": null,
      "outputs": [
        {
          "output_type": "stream",
          "name": "stdout",
          "text": [
            "Jen\n",
            "Sarah\n",
            "Edward\n",
            "Phil\n"
          ]
        }
      ]
    },
    {
      "cell_type": "code",
      "source": [
        "friends = ['phil', 'sarah']\n",
        "for name in favorite_languages.keys():\n",
        "    print(f\"Hi {name.title()}.\")\n",
        "    if name in friends:\n",
        "        language = favorite_languages[name].title()\n",
        "        print(f\"\\t{name.title()}, I see you love {language}!\")"
      ],
      "metadata": {
        "colab": {
          "base_uri": "https://localhost:8080/"
        },
        "id": "MJ9BG1yzn6o_",
        "outputId": "8a9bbcb2-1fe9-437c-e90b-770228d9832a"
      },
      "execution_count": null,
      "outputs": [
        {
          "output_type": "stream",
          "name": "stdout",
          "text": [
            "Hi Jen.\n",
            "Hi Sarah.\n",
            "\tSarah, I see you love C!\n",
            "Hi Edward.\n",
            "Hi Phil.\n",
            "\tPhil, I see you love Python!\n"
          ]
        }
      ]
    },
    {
      "cell_type": "code",
      "source": [
        "if 'erin' not in favorite_languages.keys():\n",
        "    print(\"Erin, please take our poll!\")"
      ],
      "metadata": {
        "colab": {
          "base_uri": "https://localhost:8080/"
        },
        "id": "nRRlnwmCodAp",
        "outputId": "b825e4e2-09ad-4d66-c121-0d972c73c11d"
      },
      "execution_count": null,
      "outputs": [
        {
          "output_type": "stream",
          "name": "stdout",
          "text": [
            "Erin, please take our poll!\n"
          ]
        }
      ]
    },
    {
      "cell_type": "code",
      "source": [
        "for name in sorted(favorite_languages.keys()):\n",
        "    print(f\"{name.title()}, thank you for taking the poll.\")"
      ],
      "metadata": {
        "colab": {
          "base_uri": "https://localhost:8080/"
        },
        "id": "Ac2w7Ka1oeGm",
        "outputId": "3dcc9d2c-a9eb-47c1-8fed-5277512fbb88"
      },
      "execution_count": null,
      "outputs": [
        {
          "output_type": "stream",
          "name": "stdout",
          "text": [
            "Edward, thank you for taking the poll.\n",
            "Jen, thank you for taking the poll.\n",
            "Phil, thank you for taking the poll.\n",
            "Sarah, thank you for taking the poll.\n"
          ]
        }
      ]
    },
    {
      "cell_type": "code",
      "source": [
        "print(\"The following languages have been mentioned:\")\n",
        "for language in favorite_languages.values():\n",
        "    print(language.title())"
      ],
      "metadata": {
        "colab": {
          "base_uri": "https://localhost:8080/"
        },
        "id": "KjVVRd4aomuq",
        "outputId": "4af9deaa-fd0c-4bb8-9a29-dcf7cf1e6208"
      },
      "execution_count": null,
      "outputs": [
        {
          "output_type": "stream",
          "name": "stdout",
          "text": [
            "The following languages have been mentioned:\n",
            "Python\n",
            "C\n",
            "Rust\n",
            "Python\n"
          ]
        }
      ]
    },
    {
      "cell_type": "code",
      "source": [
        "print(\"The following languages have been mentioned:\")\n",
        "for language in set(favorite_languages.values()):\n",
        "    print(language.title())"
      ],
      "metadata": {
        "colab": {
          "base_uri": "https://localhost:8080/"
        },
        "id": "uoNmdq9ropah",
        "outputId": "6a395269-942e-44c7-f1b9-d09a2584b6a9"
      },
      "execution_count": null,
      "outputs": [
        {
          "output_type": "stream",
          "name": "stdout",
          "text": [
            "The following languages have been mentioned:\n",
            "C\n",
            "Python\n",
            "Rust\n"
          ]
        }
      ]
    },
    {
      "cell_type": "code",
      "source": [
        "languages = {'python', 'rust', 'python', 'c'}\n",
        "languages"
      ],
      "metadata": {
        "colab": {
          "base_uri": "https://localhost:8080/"
        },
        "id": "mfk3uJEGo7U0",
        "outputId": "0a194299-20df-402c-f592-be8045c87e2f"
      },
      "execution_count": null,
      "outputs": [
        {
          "output_type": "execute_result",
          "data": {
            "text/plain": [
              "{'c', 'python', 'rust'}"
            ]
          },
          "metadata": {},
          "execution_count": 46
        }
      ]
    },
    {
      "cell_type": "code",
      "source": [
        "glossary = {\n",
        "    'string': 'A series of characters.',\n",
        "    'if': 'used to start a conditional statement.',\n",
        "    'list': 'A collection of items in a particular order.',\n",
        "    'loop': 'Work through a collection of items, one at a time.',\n",
        "    'dictionary': \"A collection of key-value pairs.\",\n",
        "    'key': 'The first item in a key-value pair in a dictionary.',\n",
        "    'value': 'An item associated with a key in a dictionary.',\n",
        "    'conditional test': 'A comparison between two values.',\n",
        "    'float': 'A numerical value with a decimal component.',\n",
        "    'boolean expression': 'An expression that evaluates to True or False.',\n",
        "    }\n",
        "for word, definition in glossary.items():\n",
        "  print(f\"\\n{word.title()}:{definition}\")"
      ],
      "metadata": {
        "colab": {
          "base_uri": "https://localhost:8080/"
        },
        "id": "yKbbt2kGpCvq",
        "outputId": "6f332cc3-19ea-42cb-b7c7-ce55a84cbd03"
      },
      "execution_count": null,
      "outputs": [
        {
          "output_type": "stream",
          "name": "stdout",
          "text": [
            "\n",
            "String:A series of characters.\n",
            "\n",
            "If:used to start a conditional statement.\n",
            "\n",
            "List:A collection of items in a particular order.\n",
            "\n",
            "Loop:Work through a collection of items, one at a time.\n",
            "\n",
            "Dictionary:A collection of key-value pairs.\n",
            "\n",
            "Key:The first item in a key-value pair in a dictionary.\n",
            "\n",
            "Value:An item associated with a key in a dictionary.\n",
            "\n",
            "Conditional Test:A comparison between two values.\n",
            "\n",
            "Float:A numerical value with a decimal component.\n",
            "\n",
            "Boolean Expression:An expression that evaluates to True or False.\n"
          ]
        }
      ]
    },
    {
      "cell_type": "code",
      "source": [
        "alien_0 = {'color': 'green', 'points': 5}\n",
        "alien_1 = {'color': 'yellow', 'points': 10}\n",
        "alien_2 = {'color': 'red', 'points': 15}\n",
        "aliens = [alien_0, alien_1, alien_2]\n",
        "for alien in aliens:\n",
        "  print(alien)"
      ],
      "metadata": {
        "colab": {
          "base_uri": "https://localhost:8080/"
        },
        "id": "D8p3IawqqY8i",
        "outputId": "081c0bb3-76ca-42c0-864a-4d2219d5d4ae"
      },
      "execution_count": null,
      "outputs": [
        {
          "output_type": "stream",
          "name": "stdout",
          "text": [
            "{'color': 'green', 'points': 5}\n",
            "{'color': 'yellow', 'points': 10}\n",
            "{'color': 'red', 'points': 15}\n"
          ]
        }
      ]
    },
    {
      "cell_type": "code",
      "source": [
        "aliens = []\n",
        "for alien_number in range(30):\n",
        "  new_alien = {'color': 'green', 'points': 5, 'speed': 'slow'}\n",
        "  aliens.append(new_alien)\n",
        "for alien in aliens[:5]:\n",
        "      print(alien)\n",
        "print(\"...\")\n",
        "\n",
        "\n",
        "print(f\"Total number of aliens: {len(aliens)}\")"
      ],
      "metadata": {
        "colab": {
          "base_uri": "https://localhost:8080/"
        },
        "id": "3RQt2Opkqx1q",
        "outputId": "27c6ac92-de63-489a-dc3d-0f721968ec35"
      },
      "execution_count": null,
      "outputs": [
        {
          "output_type": "stream",
          "name": "stdout",
          "text": [
            "{'color': 'green', 'points': 5, 'speed': 'slow'}\n",
            "{'color': 'green', 'points': 5, 'speed': 'slow'}\n",
            "{'color': 'green', 'points': 5, 'speed': 'slow'}\n",
            "{'color': 'green', 'points': 5, 'speed': 'slow'}\n",
            "{'color': 'green', 'points': 5, 'speed': 'slow'}\n",
            "...\n",
            "Total number of aliens: 30\n"
          ]
        }
      ]
    },
    {
      "cell_type": "code",
      "source": [
        "pizza = {\n",
        "      'crust': 'thick',\n",
        "      'toppings': ['mushrooms', 'extra cheese'],\n",
        "      }\n",
        "print(f\"You ordered a {pizza['crust']}-crust pizza \"\n",
        "      \"with the following toppings:\")\n",
        "for topping in pizza['toppings']: print(f\"\\t{topping}\")"
      ],
      "metadata": {
        "colab": {
          "base_uri": "https://localhost:8080/"
        },
        "id": "Oc0AhVBnrroz",
        "outputId": "5bbc973e-7dbe-43b6-e042-78dbaf261a2d"
      },
      "execution_count": null,
      "outputs": [
        {
          "output_type": "stream",
          "name": "stdout",
          "text": [
            "You ordered a thick-crust pizza with the following toppings:\n",
            "\tmushrooms\n",
            "\textra cheese\n"
          ]
        }
      ]
    },
    {
      "cell_type": "code",
      "source": [
        "users = {\n",
        "      'aeinstein': {\n",
        "          'first': 'albert',\n",
        "          'last': 'einstein',\n",
        "          'location': 'princeton',\n",
        "          },\n",
        "      'mcurie': {\n",
        "          'first': 'marie',\n",
        "          'last': 'curie',\n",
        "          'location': 'paris',\n",
        "          },\n",
        "}\n",
        "for username, user_info in users.items():\n",
        "  print(f\"\\nUsername: {username}\")\n",
        "  full_name = f\"{user_info['first']} {user_info['last']}\"\n",
        "  location = user_info['location']\n",
        "  print(f\"\\tFull name: {full_name.title()}\")\n",
        "  print(f\"\\tLocation: {location.title()}\")"
      ],
      "metadata": {
        "colab": {
          "base_uri": "https://localhost:8080/"
        },
        "id": "_gXPOXrKr6UY",
        "outputId": "f7db5f0d-e7e7-491d-adea-72c1e4aebbf1"
      },
      "execution_count": null,
      "outputs": [
        {
          "output_type": "stream",
          "name": "stdout",
          "text": [
            "\n",
            "Username: aeinstein\n",
            "\tFull name: Albert Einstein\n",
            "\tLocation: Princeton\n",
            "\n",
            "Username: mcurie\n",
            "\tFull name: Marie Curie\n",
            "\tLocation: Paris\n"
          ]
        }
      ]
    },
    {
      "cell_type": "code",
      "source": [
        "cities = {\n",
        "    'new york': {\n",
        "        'country': 'the united states',\n",
        "        'population': 8_800_000,\n",
        "        'library': 'new york public library',\n",
        "        },\n",
        "    'london': {\n",
        "        'country': 'the united kingdom',\n",
        "        'population': 8_800_000,\n",
        "        'library': 'the london library ',\n",
        "        },\n",
        "    'tokyo': {\n",
        "        'country': 'japan',\n",
        "        'population': 14_000_000,\n",
        "        'library': 'tokyo metropolitan library',\n",
        "        }\n",
        "    }\n",
        "\n",
        "for city, city_info in cities.items():\n",
        "    country = city_info['country'].title()\n",
        "    population = city_info['population']\n",
        "    library = city_info['library'].title()\n",
        "\n",
        "    print(f\"\\n{city.title()} is in {country}.\")\n",
        "    print(f\"  It has a population of about {population}.\")\n",
        "    print(f\"  The {library} is the most popular library in the area.\")"
      ],
      "metadata": {
        "colab": {
          "base_uri": "https://localhost:8080/"
        },
        "id": "BL_-S1dosXhO",
        "outputId": "2c3f37fb-6a91-477c-dd85-20a685b12392"
      },
      "execution_count": null,
      "outputs": [
        {
          "output_type": "stream",
          "name": "stdout",
          "text": [
            "\n",
            "New York is in The United States.\n",
            "  It has a population of about 8800000.\n",
            "  The New York Public Librry is the most popular library in the area.\n",
            "\n",
            "London is in The United Kingdom.\n",
            "  It has a population of about 8800000.\n",
            "  The The London Library  is the most popular library in the area.\n",
            "\n",
            "Tokyo is in Japan.\n",
            "  It has a population of about 14000000.\n",
            "  The Tokyo Metropoltian Library is the most popular library in the area.\n"
          ]
        }
      ]
    },
    {
      "cell_type": "code",
      "source": [
        "print(\"The following cities have been mentioned:\")\n",
        "for city in cities.keys():\n",
        "    print(\"-\"+city.title())"
      ],
      "metadata": {
        "colab": {
          "base_uri": "https://localhost:8080/"
        },
        "id": "iPBc3aEyu289",
        "outputId": "78ef0ae6-955f-4edc-8088-d207f3ef4644"
      },
      "execution_count": null,
      "outputs": [
        {
          "output_type": "stream",
          "name": "stdout",
          "text": [
            "The following cities have been mentioned:\n",
            "-New York\n",
            "-London\n",
            "-Tokyo\n"
          ]
        }
      ]
    }
  ]
}