{
  "nbformat": 4,
  "nbformat_minor": 0,
  "metadata": {
    "colab": {
      "provenance": [],
      "authorship_tag": "ABX9TyOQN0Gwm2NfyvjNX8Ai8fqA",
      "include_colab_link": true
    },
    "kernelspec": {
      "name": "python3",
      "display_name": "Python 3"
    },
    "language_info": {
      "name": "python"
    }
  },
  "cells": [
    {
      "cell_type": "markdown",
      "metadata": {
        "id": "view-in-github",
        "colab_type": "text"
      },
      "source": [
        "<a href=\"https://colab.research.google.com/github/kylegrecki/csc221_kgrec003/blob/main/assignment14.ipynb\" target=\"_parent\"><img src=\"https://colab.research.google.com/assets/colab-badge.svg\" alt=\"Open In Colab\"/></a>"
      ]
    },
    {
      "cell_type": "markdown",
      "source": [
        "Kyle Grecki          \n",
        "Assignment 14"
      ],
      "metadata": {
        "id": "Zod3zKXmyLCT"
      }
    },
    {
      "cell_type": "markdown",
      "source": [
        "Modifying simple calculator"
      ],
      "metadata": {
        "id": "dS6UPXosyVA5"
      }
    },
    {
      "cell_type": "code",
      "source": [
        "while True:\n",
        "    expression = input(\"Enter your expression (number op number): \")\n",
        "\n",
        "    parts = expression.split()\n",
        "\n",
        "    if len(parts) != 3:\n",
        "        print(\"Please ensure the format is 'number op number'.\")\n",
        "        continue\n",
        "\n",
        "    try:\n",
        "        number1 = float(parts[0])\n",
        "        operator = parts[1]\n",
        "        number2 = float(parts[2])\n",
        "    except ValueError:\n",
        "        print(\"Please enter valid numbers.\")\n",
        "        continue\n",
        "\n",
        "    if operator == '+':\n",
        "        result = number1 + number2\n",
        "    elif operator == '-':\n",
        "        result = number1 - number2\n",
        "    elif operator == '*':\n",
        "        result = number1 * number2\n",
        "    elif operator == '/':\n",
        "\n",
        "        if number2 == 0:\n",
        "            print(\"Cannot divide by zero.\")\n",
        "            continue\n",
        "        result = number1 / number2\n",
        "    else:\n",
        "        print(f\"Operator '{operator}' is not supported. Supported operators are +, -, *, /.\")\n",
        "        continue\n",
        "\n",
        "    print(f\"{number1} {operator} {number2} = {result}\")\n",
        "\n",
        "    continue_choice = input(\"Do you want to continue? (yes/no) \")\n",
        "    if continue_choice.lower() != \"yes\":\n",
        "        break"
      ],
      "metadata": {
        "id": "FMaWtlyRyT7z",
        "colab": {
          "base_uri": "https://localhost:8080/"
        },
        "outputId": "394adbe2-9990-4d1b-8a63-0be6dccd7210"
      },
      "execution_count": 5,
      "outputs": [
        {
          "name": "stdout",
          "output_type": "stream",
          "text": [
            "Enter your expression (number op number): 13 ^ 2\n",
            "Operator '^' is not supported. Supported operators are +, -, *, /.\n",
            "Enter your expression (number op number): 13 * 2\n",
            "13.0 * 2.0 = 26.0\n",
            "Do you want to continue? (yes/no) yes\n",
            "Enter your expression (number op number): 13 // 3\n",
            "Operator '//' is not supported. Supported operators are +, -, *, /.\n",
            "Enter your expression (number op number): 13 / 3\n",
            "13.0 / 3.0 = 4.333333333333333\n",
            "Do you want to continue? (yes/no) yes\n",
            "Enter your expression (number op number): 90 +2\n",
            "Please ensure the format is 'number op number'.\n",
            "Enter your expression (number op number): 90 + 2\n",
            "90.0 + 2.0 = 92.0\n",
            "Do you want to continue? (yes/no) yes\n",
            "Enter your expression (number op number): 5-5\n",
            "Please ensure the format is 'number op number'.\n",
            "Enter your expression (number op number): 5 - 5\n",
            "5.0 - 5.0 = 0.0\n",
            "Do you want to continue? (yes/no) yes\n",
            "Enter your expression (number op number): 100 * 2\n",
            "100.0 * 2.0 = 200.0\n",
            "Do you want to continue? (yes/no) yes\n",
            "Enter your expression (number op number): 100 *2\n",
            "Please ensure the format is 'number op number'.\n",
            "Enter your expression (number op number): 100 / 2\n",
            "100.0 / 2.0 = 50.0\n",
            "Do you want to continue? (yes/no) no\n"
          ]
        }
      ]
    },
    {
      "cell_type": "markdown",
      "source": [
        "Number 2: Modify file handling code"
      ],
      "metadata": {
        "id": "4IHsh-LDw29x"
      }
    },
    {
      "cell_type": "code",
      "source": [
        "# Assignment 13 Source File Generator\n",
        "# DO NOT MODIFY\n",
        "\n",
        "import random\n",
        "def do_x_percent(n):\n",
        "    chance = random.randint(0,99)\n",
        "    return chance < n\n",
        "\n",
        "_last_choice = \"?\"\n",
        "def choose_character(include_str, exclude_str=''):\n",
        "    global _last_choice\n",
        "    chosen_character = random.choice(include_str)\n",
        "    while chosen_character == _last_choice or chosen_character in exclude_str:\n",
        "        chosen_character = random.choice(include_str)\n",
        "\n",
        "    _last_choice = chosen_character\n",
        "    return chosen_character\n",
        "\n",
        "def rand_digit(exclude_str=''):\n",
        "    return choose_character('0123456789', exclude_str)\n",
        "\n",
        "def rand_vowel(exclude_str=''):\n",
        "    return choose_character('aeiou', exclude_str)\n",
        "\n",
        "def rand_consonant(exclude_str='qz'):\n",
        "    return choose_character('bcdfghjklmnpqrstvwyz', exclude_str)\n",
        "\n",
        "def gen_first_name():\n",
        "    name = rand_consonant().upper() + rand_vowel()\n",
        "\n",
        "    for i in range(random.randint(1, 2)):\n",
        "        name += rand_consonant()\n",
        "        name += rand_vowel()\n",
        "\n",
        "    return name\n",
        "\n",
        "def gen_last_name():\n",
        "    name = random.choice(['', '', '', '', '', 'de ', 'el '])\n",
        "    name += rand_consonant().upper() + rand_vowel()\n",
        "\n",
        "    for i in range(random.randint(2, 3)):\n",
        "        name += rand_consonant()\n",
        "        name += rand_vowel()\n",
        "        if do_x_percent(20):\n",
        "            name += rand_vowel()\n",
        "\n",
        "    return name\n",
        "\n",
        "def gen_default_email(first_name, last_name):\n",
        "    compacted_last = last_name.replace(' ', '')\n",
        "    if do_x_percent(60):\n",
        "        email = first_name[0].lower() + compacted_last[:4].lower()\n",
        "        num = random.randint(1,7)\n",
        "        email += f'{num:03d}@plattsburgh.edu'\n",
        "    else:\n",
        "        email = first_name.lower() + compacted_last[0].lower()\n",
        "        domain = random.randint(1,3)\n",
        "        if domain == 1:\n",
        "            email += '@gmail.com'\n",
        "        if domain == 2:\n",
        "            email += '@yahoo.com'\n",
        "        if domain == 3:\n",
        "            email += '@msn.com'\n",
        "\n",
        "    return email\n",
        "\n",
        "def gen_phone_number():\n",
        "    phone_number = '+' + str(random.randint(1,42))\n",
        "\n",
        "    phone_number += ' '\n",
        "    phone_number += rand_digit('0')\n",
        "    for i in range(2):\n",
        "       phone_number += rand_digit()\n",
        "\n",
        "    phone_number += ' '\n",
        "    for i in range(random.randint(3,4)):\n",
        "       phone_number += rand_digit()\n",
        "\n",
        "    phone_number += ' '\n",
        "    for i in range(random.randint(3,4)):\n",
        "       phone_number += rand_digit()\n",
        "\n",
        "    return phone_number\n",
        "\n",
        "def gen_pastimes():\n",
        "    pastime_set = set()\n",
        "    num_pastimes = random.randint(0, 4)\n",
        "\n",
        "    for i in range(num_pastimes):\n",
        "        pastime = random.choice(\n",
        "            ['tennis', 'piano', 'farming', 'fishing',\n",
        "             'coding', 'swimming', 'singing', 'airplanes', 'dancing',\n",
        "             'reading', 'saxophone', 'cards', 'hiking', 'bicycling', 'running',\n",
        "             'javelin', 'sewing', 'painting', 'poetry'])\n",
        "        pastime_set.add(pastime)\n",
        "\n",
        "    pastime_string = \"\"\n",
        "    first_time = True\n",
        "    for pastime in pastime_set:\n",
        "        if first_time:\n",
        "            first_time = False\n",
        "        else:\n",
        "            pastime_string += ', '\n",
        "            first_time = False\n",
        "        pastime_string += pastime\n",
        "\n",
        "    return pastime_string\n"
      ],
      "metadata": {
        "id": "qE2TuPqGfe42"
      },
      "execution_count": 6,
      "outputs": []
    },
    {
      "cell_type": "code",
      "source": [
        "# Assignment 13 Source File Generator\n",
        "# DO NOT MODIFY\n",
        "\n",
        "class Person:\n",
        "    def __init__(self):\n",
        "        self.first_name = gen_first_name()\n",
        "        self.last_name = gen_last_name()\n",
        "        self.email = gen_default_email(self.first_name, self.last_name)\n",
        "        self.phone_number = gen_phone_number()\n",
        "        self.pastimes = gen_pastimes()\n",
        "    def __str__(self):\n",
        "        ret = f'{self.first_name} {self.last_name}, {self.email}, {self.phone_number}'\n",
        "        if len(self.pastimes) > 0:\n",
        "          ret += f', {self.pastimes}'\n",
        "        return ret\n",
        "    def __lt__(self, other):\n",
        "        return self.first_name < other.first_name\n",
        "    def as_transmitted(self):\n",
        "        return str(self)\n",
        "    def as_received(self):\n",
        "        receive_string = self.as_transmitted()\n",
        "\n",
        "        # These are our \"typical\" random transmission errors :)\n",
        "        if do_x_percent(80):\n",
        "            receive_string = receive_string.replace('nn', 'nnn')\n",
        "        if do_x_percent(40):\n",
        "            receive_string = receive_string.replace('+', '++')\n",
        "        if do_x_percent(60):\n",
        "            receive_string = receive_string.replace('00', '0O')\n",
        "        if do_x_percent(40):\n",
        "            receive_string = receive_string.replace('.com', '_dot_com')\n",
        "        if do_x_percent(20):\n",
        "            receive_string = receive_string.replace('swimming', 'swiming')\n",
        "        if do_x_percent(20):\n",
        "            receive_string = receive_string.replace('plattsburgh', 'platsburgh')\n",
        "        if do_x_percent(20):\n",
        "            receive_string = receive_string.replace('plattsburgh', 'plattsburg')\n",
        "        if do_x_percent(20):\n",
        "            receive_string = receive_string.replace('plattsburgh', 'platsburg')\n",
        "        if do_x_percent(20):\n",
        "            receive_string = receive_string.replace('plattsburgh', 'plattsberg')\n",
        "        if do_x_percent(20):\n",
        "            receive_string = receive_string.replace(' ', '_', 7)\n",
        "\n",
        "        return receive_string\n",
        "\n",
        "# Example People and how they are garbled\n",
        "random.seed(1)\n",
        "people = [Person() for x in range(20)]\n",
        "for person in sorted(people):\n",
        "    print(person)\n",
        "    print(person.as_received())\n",
        "\n"
      ],
      "metadata": {
        "colab": {
          "base_uri": "https://localhost:8080/"
        },
        "id": "KGUGiukExErP",
        "outputId": "90de2859-a45c-4b43-9407-183b91d8ab26"
      },
      "execution_count": 7,
      "outputs": [
        {
          "output_type": "stream",
          "name": "stdout",
          "text": [
            "Banono Difiwopi, banonod@gmail.com, +20 351 7195 640, swimming, saxophone\n",
            "Banono Difiwopi, banonod@gmail.com, ++20 351 7195 640, swimming, saxophone\n",
            "Dese el Ronouteo, desee@msn.com, +27 143 8038 9093, singing, swimming\n",
            "Dese el Ronouteo, desee@msn.com, +27 143 8038 9093, singing, swiming\n",
            "Gula Sojabobo, gulas@gmail.com, +38 150 806 083, javelin, airplanes, painting\n",
            "Gula Sojabobo, gulas@gmail_dot_com, +38 150 806 083, javelin, airplanes, painting\n",
            "Hidehi Hisitaino, hhisi001@plattsburgh.edu, +17 839 0306 027, sewing, airplanes, bicycling, painting\n",
            "Hidehi Hisitaino, hhisi001@plattsburgh.edu, ++17 839 0306 027, sewing, airplanes, bicycling, painting\n",
            "Huli Vinietewa, hvini004@plattsburgh.edu, +5 625 961 914, reading, poetry\n",
            "Huli Vinietewa, hvini004@plattsburgh.edu, +5 625 961 914, reading, poetry\n",
            "Jimupe de Sufuyo, jdesu003@plattsburgh.edu, +28 390 6568 081, dancing, fishing\n",
            "Jimupe de Sufuyo, jdesu0O3@platsburgh.edu, ++28 390 6568 081, dancing, fishing\n",
            "Juyeta de Mubimaji, jdemu003@plattsburgh.edu, +28 341 8587 101, swimming\n",
            "Juyeta_de_Mubimaji,_jdemu0O3@platsburg.edu,_++28_341_8587_101, swimming\n",
            "Lukika el Noleusu, lelno005@plattsburgh.edu, +17 782 754 3134\n",
            "Lukika_el_Noleusu,_lelno005@plattsberg.edu,_++17_782_754_3134\n",
            "Megu de Cihiwei, megud@gmail.com, +29 684 8706 2470, piano, poetry, tennis\n",
            "Megu_de_Cihiwei,_megud@gmail_dot_com,_+29_684_8706_2470, piano, poetry, tennnis\n",
            "Meli Lowira, mlowi005@plattsburgh.edu, +25 341 908 2185, reading, sewing, cards, bicycling\n",
            "Meli_Lowira,_mlowi0O5@plattsburg.edu,_+25_341_908_2185,_reading, sewing, cards, bicycling\n",
            "Nute de Magohabi, nuted@yahoo.com, +35 427 2780 8196\n",
            "Nute de Magohabi, nuted@yahoo_dot_com, ++35 427 2780 8196\n",
            "Pabeve de Domejelau, pabeved@yahoo.com, +30 802 8459 686, javelin\n",
            "Pabeve de Domejelau, pabeved@yahoo_dot_com, +30 802 8459 686, javelin\n",
            "Pesi Ruhiuru, pruhi003@plattsburgh.edu, +19 978 9073 6258, running, farming\n",
            "Pesi Ruhiuru, pruhi003@plattsburg.edu, +19 978 9073 6258, runnning, farming\n",
            "Puye Liyodebe, pliyo005@plattsburgh.edu, +42 735 7365 3018, sewing, swimming\n",
            "Puye Liyodebe, pliyo005@plattsburg.edu, ++42 735 7365 3018, sewing, swimming\n",
            "Seyi de Rageidame, seyid@yahoo.com, +9 809 729 635\n",
            "Seyi de Rageidame, seyid@yahoo_dot_com, +9 809 729 635\n",
            "Tivo Pobunobe, tpobu005@plattsburgh.edu, +38 218 0107 434\n",
            "Tivo_Pobunobe,_tpobu0O5@plattsburgh.edu,_++38_218_0107_434\n",
            "Vavo Taciyuhe, vtaci001@plattsburgh.edu, +13 836 9574 682, singing, piano, bicycling, painting\n",
            "Vavo Taciyuhe, vtaci0O1@platsburg.edu, ++13 836 9574 682, singing, piano, bicycling, painting\n",
            "Vifo de Siwoyoewa, vifod@msn.com, +33 379 4279 580, hiking, poetry, bicycling\n",
            "Vifo_de_Siwoyoewa,_vifod@msn.com,_+33_379_4279_580, hiking, poetry, bicycling\n",
            "Walaci Bafakuha, wbafa006@plattsburgh.edu, +16 216 8484 5135\n",
            "Walaci Bafakuha, wbafa0O6@plattsberg.edu, ++16 216 8484 5135\n",
            "Yina Yukeodi, yyuke006@plattsburgh.edu, +5 457 2185 825, sewing, fishing\n",
            "Yina Yukeodi, yyuke006@plattsburgh.edu, ++5 457 2185 825, sewing, fishing\n"
          ]
        }
      ]
    },
    {
      "cell_type": "code",
      "source": [
        "# Assignment 13 Source File Generator\n",
        "# DO NOT MODIFY\n",
        "\n",
        "# Creates a population of Person objects\n",
        "# Writes them uncorrupted to source_file.txt\n",
        "# Writes them as received to as_received[123].txt\n",
        "# Most records go into only one file but some are duplicated in two files\n",
        "def make_files(my_name, record_count=100):\n",
        "    random.seed(hash(my_name))\n",
        "\n",
        "    people = [Person() for x in range(record_count)]\n",
        "\n",
        "    source_file = open('source.txt', 'w')\n",
        "    received_file1 = open('as_received1.txt', 'w')\n",
        "    received_file2 = open('as_received2.txt', 'w')\n",
        "    received_file3 = open('as_received3.txt', 'w')\n",
        "\n",
        "    all_files = [source_file, received_file1, received_file2, received_file3]\n",
        "\n",
        "    for file in all_files:\n",
        "        file.write('Name, Email, Phone, Pastimes\\n')\n",
        "\n",
        "    source_file_line_count = 0\n",
        "    received_file1_line_count = 0\n",
        "    received_file2_line_count = 0\n",
        "    received_file3_line_count = 0\n",
        "    for person in sorted(people):\n",
        "        source_file.write(person.as_transmitted() + '\\n')\n",
        "        source_file_line_count += 1\n",
        "\n",
        "        # These are all 3-bit numbers that have either 1 or 2 bits turned on\n",
        "        #   with a bias to a single bit\n",
        "        choice = random.choice([1, 2, 4, 1, 2, 4, 1, 2, 4, 1, 2, 4, 3, 5, 6])\n",
        "        if choice & 1:\n",
        "            received_file1.write(person.as_received() + '\\n')\n",
        "            received_file1_line_count += 1\n",
        "        if choice & 2:\n",
        "            received_file2.write(person.as_received() + '\\n')\n",
        "            received_file2_line_count += 1\n",
        "        if choice & 4:\n",
        "            received_file3.write(person.as_received() + '\\n')\n",
        "            received_file3_line_count += 1\n",
        "\n",
        "    print(f'source_file written with {source_file_line_count} lines')\n",
        "    print(f'received_file1 written with {received_file1_line_count} lines')\n",
        "    print(f'received_file2 written with {received_file2_line_count} lines')\n",
        "    print(f'received_file3 written with {received_file3_line_count} lines')\n",
        "\n",
        "    for file in all_files:\n",
        "        file.close()\n"
      ],
      "metadata": {
        "id": "SVc7cyUexG0K"
      },
      "execution_count": 8,
      "outputs": []
    },
    {
      "cell_type": "code",
      "source": [
        "# Run this to make your data files\n",
        "\n",
        "# Put in YOUR name\n",
        "# Generate 20-50 records to debug and 100000 for your final code check\n",
        "make_files(my_name='Kyle Grecki', record_count=20)\n"
      ],
      "metadata": {
        "colab": {
          "base_uri": "https://localhost:8080/"
        },
        "id": "dRFruGLAxOKG",
        "outputId": "7efd37fb-f8d4-443f-d59e-16f627027140"
      },
      "execution_count": 71,
      "outputs": [
        {
          "output_type": "stream",
          "name": "stdout",
          "text": [
            "source_file written with 20 lines\n",
            "received_file1 written with 8 lines\n",
            "received_file2 written with 8 lines\n",
            "received_file3 written with 8 lines\n"
          ]
        }
      ]
    },
    {
      "cell_type": "code",
      "source": [
        "def undo_mistakes(line):\n",
        "    try:\n",
        "        line = line.replace('nnn', 'nn')\n",
        "        line = line.replace('++', '+')\n",
        "        line = line.replace('0O', '00')\n",
        "        line = line.replace('_dot_com', '.com')\n",
        "        line = line.replace('swiming', 'swimming')\n",
        "        line = line.replace('platsburg', 'plattsburgh')\n",
        "        line = line.replace('platsburgh', 'plattsburgh')\n",
        "        line = line.replace('plattsberg', 'plattsburgh')\n",
        "        line = line.replace('plattsburghh', 'plattsburgh')\n",
        "        line = line.replace('_', ' ')\n",
        "\n",
        "\n",
        "    except Exception as e:\n",
        "        print(f\"An error occurred while processing the line: {e}\")\n",
        "    return line"
      ],
      "metadata": {
        "id": "MK8Mqlduxs0-"
      },
      "execution_count": 72,
      "outputs": []
    },
    {
      "cell_type": "code",
      "source": [
        "def process_files():\n",
        "    records = set()\n",
        "\n",
        "    try:\n",
        "        for i in range(1, 4):\n",
        "            with open(f'as_received{i}.txt', 'r') as file:\n",
        "                file.readline()\n",
        "                for line in file:\n",
        "                    try:\n",
        "                        corrected_line = undo_mistakes(line.strip())\n",
        "                        records.add(corrected_line)\n",
        "                    except Exception as e:\n",
        "                        print(f\"Error found while processing a line in as_received{i}.txt: {e}\")\n",
        "\n",
        "        sorted_records = sorted(records)\n",
        "\n",
        "        with open('corrected.txt', 'w') as file:\n",
        "            file.write('Name, Email, Phone, Pastimes\\n')\n",
        "            for record in sorted_records:\n",
        "                try:\n",
        "                    file.write(record + '\\n')\n",
        "                except Exception as e:\n",
        "                    print(f\"Error found writing to corrected.txt: {e}\")\n",
        "    except Exception as e:\n",
        "        print(f\"Error found while processing files: {e}\")\n"
      ],
      "metadata": {
        "id": "epBHBbYXx9nU"
      },
      "execution_count": 73,
      "outputs": []
    },
    {
      "cell_type": "code",
      "source": [
        "process_files()"
      ],
      "metadata": {
        "id": "Nxa8VXkly14m"
      },
      "execution_count": 74,
      "outputs": []
    },
    {
      "cell_type": "code",
      "source": [
        "try:\n",
        "    with open('source.txt', 'r') as source, open('corrected.txt', 'r') as corrected:\n",
        "        if source.read() == corrected.read():\n",
        "            print(\"corrected.txt is identical to source.txt.\")\n",
        "        else:\n",
        "            print(\"There are differences between corrected.txt and source.txt.\")\n",
        "except FileNotFoundError as e:\n",
        "    print(f\"File not found: {e}\")\n",
        "except Exception as e:\n",
        "    print(f\"Error found while comparing files: {e}\")"
      ],
      "metadata": {
        "colab": {
          "base_uri": "https://localhost:8080/"
        },
        "id": "kbJ4ElNdy4BR",
        "outputId": "0e79edbb-bae9-4179-9e9d-1340a43fa2dd"
      },
      "execution_count": 75,
      "outputs": [
        {
          "output_type": "stream",
          "name": "stdout",
          "text": [
            "There are differences between corrected.txt and source.txt.\n"
          ]
        }
      ]
    }
  ]
}