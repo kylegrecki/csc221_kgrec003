{
  "nbformat": 4,
  "nbformat_minor": 0,
  "metadata": {
    "colab": {
      "provenance": [],
      "authorship_tag": "ABX9TyNMQw1vvuvUDXe3hBEvZgqs",
      "include_colab_link": true
    },
    "kernelspec": {
      "name": "python3",
      "display_name": "Python 3"
    },
    "language_info": {
      "name": "python"
    }
  },
  "cells": [
    {
      "cell_type": "markdown",
      "metadata": {
        "id": "view-in-github",
        "colab_type": "text"
      },
      "source": [
        "<a href=\"https://colab.research.google.com/github/kylegrecki/csc221_kgrec003/blob/main/assignment_6.ipynb\" target=\"_parent\"><img src=\"https://colab.research.google.com/assets/colab-badge.svg\" alt=\"Open In Colab\"/></a>"
      ]
    },
    {
      "cell_type": "code",
      "execution_count": null,
      "metadata": {
        "colab": {
          "base_uri": "https://localhost:8080/"
        },
        "id": "2BmgBkMBlbvs",
        "outputId": "2d670aff-d1bc-4c79-e456-01ebf74f0913"
      },
      "outputs": [
        {
          "output_type": "stream",
          "name": "stdout",
          "text": [
            "is car == 'subaru'?\n",
            "True\n",
            "Is car == 'audi'?\n",
            "False\n"
          ]
        }
      ],
      "source": [
        "car = 'subaru'\n",
        "print(\"is car == 'subaru'?\")\n",
        "print(car == 'subaru')\n",
        "\n",
        "print(\"Is car == 'audi'?\")\n",
        "print(car == 'audi')"
      ]
    },
    {
      "cell_type": "code",
      "source": [
        "car = 'bmw'\n",
        "print(\"is car == 'bmw'? I predict True\")\n",
        "print(car == 'bmw')\n",
        "\n",
        "print(\"is car == 'chevy'? I predict False\")\n",
        "print(car == 'chevy')"
      ],
      "metadata": {
        "colab": {
          "base_uri": "https://localhost:8080/"
        },
        "id": "emDrsPdFAbrl",
        "outputId": "caf52f4d-9850-4289-c34b-78896bfbbe6c"
      },
      "execution_count": null,
      "outputs": [
        {
          "output_type": "stream",
          "name": "stdout",
          "text": [
            "is car == 'bmw'? I predict True\n",
            "True\n",
            "is car == 'chevy'? I predict False\n",
            "False\n"
          ]
        }
      ]
    },
    {
      "cell_type": "code",
      "source": [
        "car = 'Ferrari'\n",
        "car == 'ferrari'"
      ],
      "metadata": {
        "colab": {
          "base_uri": "https://localhost:8080/"
        },
        "id": "9lvVsMi8yATO",
        "outputId": "169fb3b9-eaef-43ab-9a33-6dcf06165f71"
      },
      "execution_count": null,
      "outputs": [
        {
          "output_type": "execute_result",
          "data": {
            "text/plain": [
              "False"
            ]
          },
          "metadata": {},
          "execution_count": 9
        }
      ]
    },
    {
      "cell_type": "code",
      "source": [
        "car == 'Ferrari'"
      ],
      "metadata": {
        "colab": {
          "base_uri": "https://localhost:8080/"
        },
        "id": "MDf1oiwTyyOv",
        "outputId": "9b8d76a5-a281-4b89-8dd3-f1a19b4edd82"
      },
      "execution_count": null,
      "outputs": [
        {
          "output_type": "execute_result",
          "data": {
            "text/plain": [
              "True"
            ]
          },
          "metadata": {},
          "execution_count": 10
        }
      ]
    },
    {
      "cell_type": "code",
      "source": [
        "car = 'Lamborghini'\n",
        "car.lower() == 'lamborghini'\n"
      ],
      "metadata": {
        "colab": {
          "base_uri": "https://localhost:8080/"
        },
        "id": "5tkqVeKry6R2",
        "outputId": "5fc81ebb-bb9c-41a1-c0f8-c3eeda9ca846"
      },
      "execution_count": null,
      "outputs": [
        {
          "output_type": "execute_result",
          "data": {
            "text/plain": [
              "True"
            ]
          },
          "metadata": {},
          "execution_count": 13
        }
      ]
    },
    {
      "cell_type": "code",
      "source": [
        "car"
      ],
      "metadata": {
        "colab": {
          "base_uri": "https://localhost:8080/",
          "height": 35
        },
        "id": "o93ANq8azKQC",
        "outputId": "67118d35-8277-4f0b-bab6-448b5f3205c6"
      },
      "execution_count": null,
      "outputs": [
        {
          "output_type": "execute_result",
          "data": {
            "text/plain": [
              "'Lamborghini'"
            ],
            "application/vnd.google.colaboratory.intrinsic+json": {
              "type": "string"
            }
          },
          "metadata": {},
          "execution_count": 14
        }
      ]
    },
    {
      "cell_type": "code",
      "source": [
        "requested_topping = 'cold cheese'\n",
        "\n",
        "if requested_topping != 'peperoni':\n",
        "  print(\"No peperoni !\")"
      ],
      "metadata": {
        "colab": {
          "base_uri": "https://localhost:8080/"
        },
        "id": "hcHOy-Bdzb-s",
        "outputId": "56dccbe1-dd5d-4f68-be61-9ee3f69f6276"
      },
      "execution_count": null,
      "outputs": [
        {
          "output_type": "stream",
          "name": "stdout",
          "text": [
            "No peperoni !\n"
          ]
        }
      ]
    },
    {
      "cell_type": "code",
      "source": [
        "age = 99\n",
        "age == 99"
      ],
      "metadata": {
        "colab": {
          "base_uri": "https://localhost:8080/"
        },
        "id": "fZ6TxQ810h29",
        "outputId": "4976533e-ec21-44ea-e07b-3857101c4488"
      },
      "execution_count": null,
      "outputs": [
        {
          "output_type": "execute_result",
          "data": {
            "text/plain": [
              "True"
            ]
          },
          "metadata": {},
          "execution_count": 16
        }
      ]
    },
    {
      "cell_type": "code",
      "source": [
        "age < 25"
      ],
      "metadata": {
        "colab": {
          "base_uri": "https://localhost:8080/"
        },
        "id": "d0nJz-3x0p1p",
        "outputId": "1a32e90b-384d-4038-c89f-9ec42a99e6ce"
      },
      "execution_count": null,
      "outputs": [
        {
          "output_type": "execute_result",
          "data": {
            "text/plain": [
              "False"
            ]
          },
          "metadata": {},
          "execution_count": 18
        }
      ]
    },
    {
      "cell_type": "code",
      "source": [
        "age > 25"
      ],
      "metadata": {
        "colab": {
          "base_uri": "https://localhost:8080/"
        },
        "id": "iHJG3fEf1IdH",
        "outputId": "a90fda50-5cea-41c7-911f-4dd5a085bd90"
      },
      "execution_count": null,
      "outputs": [
        {
          "output_type": "execute_result",
          "data": {
            "text/plain": [
              "True"
            ]
          },
          "metadata": {},
          "execution_count": 19
        }
      ]
    },
    {
      "cell_type": "code",
      "source": [
        "age >= 30"
      ],
      "metadata": {
        "colab": {
          "base_uri": "https://localhost:8080/"
        },
        "id": "9Z5iVtQe1Koa",
        "outputId": "8459d1fc-224c-4211-c350-4b6a3686b790"
      },
      "execution_count": null,
      "outputs": [
        {
          "output_type": "execute_result",
          "data": {
            "text/plain": [
              "True"
            ]
          },
          "metadata": {},
          "execution_count": 20
        }
      ]
    },
    {
      "cell_type": "code",
      "source": [
        "age <= 54"
      ],
      "metadata": {
        "colab": {
          "base_uri": "https://localhost:8080/"
        },
        "id": "SoQnWRJR1N-L",
        "outputId": "5dc8dd33-7a3a-4349-8e4f-1f7bc49d9ab6"
      },
      "execution_count": null,
      "outputs": [
        {
          "output_type": "execute_result",
          "data": {
            "text/plain": [
              "False"
            ]
          },
          "metadata": {},
          "execution_count": 21
        }
      ]
    },
    {
      "cell_type": "code",
      "source": [
        "age_1 = 26\n",
        "age_2 = 34\n",
        "\n",
        "age_1 >= 25 and age_2 <= 42"
      ],
      "metadata": {
        "colab": {
          "base_uri": "https://localhost:8080/"
        },
        "id": "xteX7yd31p7A",
        "outputId": "e5d2ebed-2512-4b89-d2ff-cd4f3ea13501"
      },
      "execution_count": null,
      "outputs": [
        {
          "output_type": "execute_result",
          "data": {
            "text/plain": [
              "True"
            ]
          },
          "metadata": {},
          "execution_count": 23
        }
      ]
    },
    {
      "cell_type": "code",
      "source": [
        "age_1 >= 42 and age_2 <= 25"
      ],
      "metadata": {
        "colab": {
          "base_uri": "https://localhost:8080/"
        },
        "id": "3B1GDqgI2E_h",
        "outputId": "40f3f10e-f989-4ef2-ad52-dec684cacf7f"
      },
      "execution_count": null,
      "outputs": [
        {
          "output_type": "execute_result",
          "data": {
            "text/plain": [
              "False"
            ]
          },
          "metadata": {},
          "execution_count": 24
        }
      ]
    },
    {
      "cell_type": "code",
      "source": [
        "age_1 <= 27 or age_2 >= 55"
      ],
      "metadata": {
        "colab": {
          "base_uri": "https://localhost:8080/"
        },
        "id": "RQVlsBIq2Scm",
        "outputId": "f154a280-ae6f-4cec-bdae-19dfab222755"
      },
      "execution_count": null,
      "outputs": [
        {
          "output_type": "execute_result",
          "data": {
            "text/plain": [
              "True"
            ]
          },
          "metadata": {},
          "execution_count": 25
        }
      ]
    },
    {
      "cell_type": "code",
      "source": [
        "age_1 <= 14 or age_2 >= 35"
      ],
      "metadata": {
        "colab": {
          "base_uri": "https://localhost:8080/"
        },
        "id": "_VFjDYFU2nur",
        "outputId": "427e1bb6-74d1-47c3-8c5f-d085953f08d9"
      },
      "execution_count": null,
      "outputs": [
        {
          "output_type": "execute_result",
          "data": {
            "text/plain": [
              "False"
            ]
          },
          "metadata": {},
          "execution_count": 27
        }
      ]
    },
    {
      "cell_type": "code",
      "source": [
        "cars = ['ferarri','honda','lexus']\n",
        "'lexus' in cars"
      ],
      "metadata": {
        "colab": {
          "base_uri": "https://localhost:8080/"
        },
        "id": "zPY0Ezrs2yW6",
        "outputId": "8e1c0136-205c-4071-9f3d-51afe132141d"
      },
      "execution_count": null,
      "outputs": [
        {
          "output_type": "execute_result",
          "data": {
            "text/plain": [
              "True"
            ]
          },
          "metadata": {},
          "execution_count": 28
        }
      ]
    },
    {
      "cell_type": "code",
      "source": [
        "'ford' in cars"
      ],
      "metadata": {
        "colab": {
          "base_uri": "https://localhost:8080/"
        },
        "id": "ZjbkMpYv3KrA",
        "outputId": "62ae61d2-2430-4fc2-c77e-aa63266794ea"
      },
      "execution_count": null,
      "outputs": [
        {
          "output_type": "execute_result",
          "data": {
            "text/plain": [
              "False"
            ]
          },
          "metadata": {},
          "execution_count": 29
        }
      ]
    },
    {
      "cell_type": "code",
      "source": [
        "banned_transportations = ['dirtbike','atv','hover board']\n",
        "transportation = 'skateboards'\n",
        "if transportation not in banned_transportations:\n",
        "  print(f\"{transportation.title()} are allowed in the park!\")"
      ],
      "metadata": {
        "colab": {
          "base_uri": "https://localhost:8080/"
        },
        "id": "9Uaetz_C3NqU",
        "outputId": "66644cd7-ae63-4f7f-f4b6-49585da314a4"
      },
      "execution_count": null,
      "outputs": [
        {
          "output_type": "stream",
          "name": "stdout",
          "text": [
            "Skateboards are allowed in the park!\n"
          ]
        }
      ]
    },
    {
      "cell_type": "code",
      "source": [
        "age = 19\n",
        "if age >= 18:\n",
        " print(\"You are old enough to vote!\")"
      ],
      "metadata": {
        "id": "Vj2YGjTb4upT",
        "colab": {
          "base_uri": "https://localhost:8080/"
        },
        "outputId": "bcdaaa8b-6dbd-4fb6-ff60-29746abc58d4"
      },
      "execution_count": 3,
      "outputs": [
        {
          "output_type": "stream",
          "name": "stdout",
          "text": [
            "You are old enough to vote!\n"
          ]
        }
      ]
    },
    {
      "cell_type": "code",
      "source": [
        "age = 19\n",
        "if age >= 18:\n",
        "  print(\"You are old enough to vote!\")\n",
        "print(\"Have you registered to vote yet?\")"
      ],
      "metadata": {
        "colab": {
          "base_uri": "https://localhost:8080/"
        },
        "id": "sPCPfqMBZtCt",
        "outputId": "860e8cb3-82d9-4c2a-c895-f6e311974ef4"
      },
      "execution_count": 5,
      "outputs": [
        {
          "output_type": "stream",
          "name": "stdout",
          "text": [
            "You are old enough to vote!\n",
            "Have you registered to vote yet?\n"
          ]
        }
      ]
    },
    {
      "cell_type": "code",
      "source": [
        "age = 17\n",
        "if age >= 18:\n",
        "  print(\"You are old enough to vote!\")\n",
        "  print(\"Have you registered to vote yet?\")\n",
        "else:\n",
        "  print(\"Sorry, you are too young to vote.\")\n",
        "  print(\"Please register to vote as soon as you turn 18!\")\n"
      ],
      "metadata": {
        "colab": {
          "base_uri": "https://localhost:8080/"
        },
        "id": "ahytkHSOZ07J",
        "outputId": "6cbf0eee-c280-490d-9aeb-4e40290d9a7c"
      },
      "execution_count": 7,
      "outputs": [
        {
          "output_type": "stream",
          "name": "stdout",
          "text": [
            "Sorry, you are too young to vote.\n",
            "Please register to vote as soon as you turn 18!\n"
          ]
        }
      ]
    },
    {
      "cell_type": "code",
      "source": [
        "age = 12\n",
        "if age < 4:\n",
        "  print(\"Your admission cost is $0.\")\n",
        "elif age < 18:\n",
        "  print(\"Your admission cost is $5.\")\n",
        "else:\n",
        "  print(\"Your admission cost is $10.\")\n"
      ],
      "metadata": {
        "colab": {
          "base_uri": "https://localhost:8080/"
        },
        "id": "gxt2Ui42aHgf",
        "outputId": "c5334f53-b730-48d5-e80e-90467b148b69"
      },
      "execution_count": 8,
      "outputs": [
        {
          "output_type": "stream",
          "name": "stdout",
          "text": [
            "Your admission cost is $5.\n"
          ]
        }
      ]
    },
    {
      "cell_type": "code",
      "source": [
        "age = 12\n",
        "if age < 4:\n",
        "  price = 0\n",
        "elif age < 18:\n",
        "  price = 25\n",
        "else:\n",
        "  price = 40\n",
        "print(f\"Your admission cost is ${price}.\")\n"
      ],
      "metadata": {
        "colab": {
          "base_uri": "https://localhost:8080/"
        },
        "id": "rlmEbfQpakgd",
        "outputId": "b64e9f8c-8bd4-43ee-ebb9-fbb795e08114"
      },
      "execution_count": 16,
      "outputs": [
        {
          "output_type": "stream",
          "name": "stdout",
          "text": [
            "Your admission cost is $25.\n"
          ]
        }
      ]
    },
    {
      "cell_type": "code",
      "source": [
        "age = 12\n",
        "if age < 4:\n",
        "    price = 0\n",
        "elif age < 18:\n",
        "    price = 25\n",
        "elif age < 65:\n",
        "    price = 40\n",
        "else:\n",
        "    price = 20\n",
        "print(f\"Your admission cost is ${price}.\")"
      ],
      "metadata": {
        "colab": {
          "base_uri": "https://localhost:8080/"
        },
        "id": "4tl1iVEpauEL",
        "outputId": "7e556b9f-152e-4afd-af0c-7b569bcaa12a"
      },
      "execution_count": 14,
      "outputs": [
        {
          "output_type": "stream",
          "name": "stdout",
          "text": [
            "Your admission cost is $25.\n"
          ]
        }
      ]
    },
    {
      "cell_type": "code",
      "source": [
        "requested_toppings = ['mushrooms', 'extra cheese']\n",
        "if 'mushrooms' in requested_toppings:\n",
        "      print(\"Adding mushrooms.\")\n",
        "if 'pepperoni' in requested_toppings: print(\"Adding pepperoni.\")\n",
        "if 'extra cheese' in requested_toppings:\n",
        "    print(\"Adding extra cheese.\")\n",
        "print(\"\\nFinished making your pizza!\")"
      ],
      "metadata": {
        "colab": {
          "base_uri": "https://localhost:8080/"
        },
        "id": "EuTO7SU2cLy0",
        "outputId": "28cc34cb-130d-4a25-830c-72695256d7c3"
      },
      "execution_count": 17,
      "outputs": [
        {
          "output_type": "stream",
          "name": "stdout",
          "text": [
            "Adding mushrooms.\n",
            "Adding extra cheese.\n",
            "\n",
            "Finished making your pizza!\n"
          ]
        }
      ]
    },
    {
      "cell_type": "code",
      "source": [
        "alien_color = 'green'\n",
        "\n",
        "if alien_color == 'green':\n",
        "  print(\"you just earned 5 points!\")"
      ],
      "metadata": {
        "colab": {
          "base_uri": "https://localhost:8080/"
        },
        "id": "ALAFQ9s3cdxt",
        "outputId": "1335bd17-dcb5-4444-fc2e-8906bc11df27"
      },
      "execution_count": 18,
      "outputs": [
        {
          "output_type": "stream",
          "name": "stdout",
          "text": [
            "you just earned 5 points!\n"
          ]
        }
      ]
    },
    {
      "cell_type": "code",
      "source": [
        "alien_color = 'red'\n",
        "\n",
        "if alien_color == 'green':\n",
        "  print(\"you just earned 5 points!\")"
      ],
      "metadata": {
        "id": "Cc89vvMDdOgx"
      },
      "execution_count": 21,
      "outputs": []
    },
    {
      "cell_type": "code",
      "source": [
        "alien_color = 'green'\n",
        "\n",
        "if alien_color == 'green':\n",
        "  print(\"you just earned 5 points!\")\n",
        "else:\n",
        "  print(\"you just earned 10 points!\")"
      ],
      "metadata": {
        "colab": {
          "base_uri": "https://localhost:8080/"
        },
        "id": "F9bfzcqOdcz5",
        "outputId": "d99f53b4-091d-4316-a80e-85f9b7fd7670"
      },
      "execution_count": 22,
      "outputs": [
        {
          "output_type": "stream",
          "name": "stdout",
          "text": [
            "you just earned 5 points!\n"
          ]
        }
      ]
    },
    {
      "cell_type": "code",
      "source": [
        "alien_color = 'yellow'\n",
        "\n",
        "if alien_color == 'green':\n",
        "  print(\"you just earned 5 points!\")\n",
        "else:\n",
        "  print(\"you just earned 10 points!\")"
      ],
      "metadata": {
        "colab": {
          "base_uri": "https://localhost:8080/"
        },
        "id": "TcDKbeoxdsKX",
        "outputId": "89710a45-6306-4fd0-e410-fa28d14d5410"
      },
      "execution_count": 23,
      "outputs": [
        {
          "output_type": "stream",
          "name": "stdout",
          "text": [
            "you just earned 10 points!\n"
          ]
        }
      ]
    },
    {
      "cell_type": "code",
      "source": [
        "alien_color = 'red'\n",
        "\n",
        "if alien_color == 'green':\n",
        "  print(\"you just earned 5 points!\")\n",
        "elif alien_color =='yellow':\n",
        "  print(\"you just earned 10 points!\")\n",
        "else:\n",
        "  print(\"you just earned 15 points!\")"
      ],
      "metadata": {
        "colab": {
          "base_uri": "https://localhost:8080/"
        },
        "id": "lE_9lA0Nd3Id",
        "outputId": "68d69d97-7a24-4460-cd04-014fd5a3f5b9"
      },
      "execution_count": 24,
      "outputs": [
        {
          "output_type": "stream",
          "name": "stdout",
          "text": [
            "you just earned 15 points!\n"
          ]
        }
      ]
    },
    {
      "cell_type": "code",
      "source": [
        "age = 27\n",
        "\n",
        "if age < 2:\n",
        "    print(\"You're a baby!\")\n",
        "elif age < 4:\n",
        "    print(\"You're a toddler!\")\n",
        "elif age < 13:\n",
        "    print(\"You're a kid!\")\n",
        "elif age < 20:\n",
        "    print(\"You're a teenager!\")\n",
        "elif age < 65:\n",
        "    print(\"You're an adult!\")\n",
        "else:\n",
        "    print(\"You're an elder!\")"
      ],
      "metadata": {
        "colab": {
          "base_uri": "https://localhost:8080/"
        },
        "id": "DkhCefSqeYoJ",
        "outputId": "46ccab86-7bdc-45cc-b2e2-09e6a73d5ded"
      },
      "execution_count": 26,
      "outputs": [
        {
          "output_type": "stream",
          "name": "stdout",
          "text": [
            "You're an adult!\n"
          ]
        }
      ]
    },
    {
      "cell_type": "code",
      "source": [
        "requested_toppings = ['mushrooms', 'green peppers', 'extra cheese']\n",
        "for requested_topping in requested_toppings:\n",
        "    print(f\"Adding {requested_topping}.\")\n",
        "print(\"\\nFinished making your pizza!\")"
      ],
      "metadata": {
        "colab": {
          "base_uri": "https://localhost:8080/"
        },
        "id": "tImB_Rw9e7hH",
        "outputId": "2bc93237-79a6-447a-b1f8-bec77f58cc35"
      },
      "execution_count": 27,
      "outputs": [
        {
          "output_type": "stream",
          "name": "stdout",
          "text": [
            "Adding mushrooms.\n",
            "Adding green peppers.\n",
            "Adding extra cheese.\n",
            "\n",
            "Finished making your pizza!\n"
          ]
        }
      ]
    },
    {
      "cell_type": "code",
      "source": [
        "requested_toppings = ['mushrooms', 'green peppers', 'extra cheese']\n",
        "\n",
        "for requested_topping in requested_toppings:\n",
        "    if requested_topping == 'green peppers':\n",
        "        print(\"Sorry, we are out of green peppers right now.\")\n",
        "    else:\n",
        "        print(f\"Adding {requested_topping}.\")\n",
        "\n",
        "print(\"\\nFinished making your pizza!\")"
      ],
      "metadata": {
        "colab": {
          "base_uri": "https://localhost:8080/"
        },
        "id": "WqT5RcSCfQiA",
        "outputId": "587d247d-2910-4d85-ce39-1b447f7a247f"
      },
      "execution_count": 29,
      "outputs": [
        {
          "output_type": "stream",
          "name": "stdout",
          "text": [
            "Adding mushrooms.\n",
            "Sorry, we are out of green peppers right now.\n",
            "Adding extra cheese.\n",
            "\n",
            "Finished making your pizza!\n"
          ]
        }
      ]
    },
    {
      "cell_type": "code",
      "source": [
        "requested_toppings = []\n",
        "\n",
        "if requested_toppings:\n",
        "    for requested_topping in requested_toppings:\n",
        "        print(f\"Adding {requested_topping}.\")\n",
        "    print(\"\\nFinished making your pizza!\")\n",
        "else:\n",
        "    print(\"Are you sure you want a plain pizza?\")\n"
      ],
      "metadata": {
        "colab": {
          "base_uri": "https://localhost:8080/"
        },
        "id": "KvzimjJYf3iA",
        "outputId": "b9f1ac08-800f-464c-a838-0cfd7ca395a5"
      },
      "execution_count": 30,
      "outputs": [
        {
          "output_type": "stream",
          "name": "stdout",
          "text": [
            "Are you sure you want a plain pizza?\n"
          ]
        }
      ]
    },
    {
      "cell_type": "code",
      "source": [
        "available_toppings = ['mushrooms', 'olives', 'green peppers',\n",
        "                        'pepperoni', 'pineapple', 'extra cheese']\n",
        "requested_toppings = ['mushrooms', 'french fries', 'extra cheese']\n",
        "\n",
        "for requested_topping in requested_toppings:\n",
        "    if requested_topping in available_toppings:\n",
        "        print(f\"Adding {requested_topping}.\")\n",
        "    else:\n",
        "        print(f\"Sorry, we don't have {requested_topping}.\")\n",
        "print(\"\\nFinished making your pizza!\")"
      ],
      "metadata": {
        "colab": {
          "base_uri": "https://localhost:8080/"
        },
        "id": "x_pmJVtQgN9H",
        "outputId": "b126e416-a360-4401-cfb7-354c0cb151bd"
      },
      "execution_count": 31,
      "outputs": [
        {
          "output_type": "stream",
          "name": "stdout",
          "text": [
            "Adding mushrooms.\n",
            "Sorry, we don't have french fries.\n",
            "Adding extra cheese.\n",
            "\n",
            "Finished making your pizza!\n"
          ]
        }
      ]
    },
    {
      "cell_type": "code",
      "source": [
        "players = ['jack','bruce','tony','peter']\n",
        "if players == 'jack':\n",
        "  print(\"congradulations, you came in first place!\")\n",
        "if players == 'bruce':\n",
        "  print(\"congradulations, you came in second place!\")\n",
        "if players == 'tony':\n",
        "  print(\"congradulations, you came in third place!\")\n",
        "else:\n",
        "  print(\"sorry try again next time!\")\n"
      ],
      "metadata": {
        "colab": {
          "base_uri": "https://localhost:8080/"
        },
        "id": "3DGOXMRxgZEb",
        "outputId": "d878c8f4-6cd9-40f6-df32-f5e90ff8009e"
      },
      "execution_count": 55,
      "outputs": [
        {
          "output_type": "stream",
          "name": "stdout",
          "text": [
            "sorry try again next time!\n"
          ]
        }
      ]
    }
  ]
}