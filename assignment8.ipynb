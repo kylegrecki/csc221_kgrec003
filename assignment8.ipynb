{
  "nbformat": 4,
  "nbformat_minor": 0,
  "metadata": {
    "colab": {
      "provenance": [],
      "authorship_tag": "ABX9TyNI8CzA17AZ7UQbyDeTs6mZ",
      "include_colab_link": true
    },
    "kernelspec": {
      "name": "python3",
      "display_name": "Python 3"
    },
    "language_info": {
      "name": "python"
    }
  },
  "cells": [
    {
      "cell_type": "markdown",
      "metadata": {
        "id": "view-in-github",
        "colab_type": "text"
      },
      "source": [
        "<a href=\"https://colab.research.google.com/github/kylegrecki/csc221_kgrec003/blob/main/assignment8.ipynb\" target=\"_parent\"><img src=\"https://colab.research.google.com/assets/colab-badge.svg\" alt=\"Open In Colab\"/></a>"
      ]
    },
    {
      "cell_type": "markdown",
      "source": [
        "Kyle Grecki\n",
        "Assignment8"
      ],
      "metadata": {
        "id": "B5oyEMa3Q4KZ"
      }
    },
    {
      "cell_type": "code",
      "execution_count": 1,
      "metadata": {
        "colab": {
          "base_uri": "https://localhost:8080/"
        },
        "id": "9ZvD64Z1QxrP",
        "outputId": "eec653d0-a8d1-440d-bced-4c55eecb4ecf"
      },
      "outputs": [
        {
          "output_type": "stream",
          "name": "stdout",
          "text": [
            "tell me something, and I will repeat it back to you: I AM SO TIRED\n",
            "I AM SO TIRED\n"
          ]
        }
      ],
      "source": [
        "message = input(\"tell me something, and I will repeat it back to you: \")\n",
        "print(message)"
      ]
    },
    {
      "cell_type": "code",
      "source": [
        "name = input(\"Please enter your name: \")\n",
        "print(f\"\\nHello,{name}!\")"
      ],
      "metadata": {
        "colab": {
          "base_uri": "https://localhost:8080/"
        },
        "id": "P1isZ7BIgQZq",
        "outputId": "825e8924-7fe8-4537-a1ad-73cff4077e2f"
      },
      "execution_count": 3,
      "outputs": [
        {
          "output_type": "stream",
          "name": "stdout",
          "text": [
            "Please enter your name: Kyle\n",
            "\n",
            "Hello,Kyle!\n"
          ]
        }
      ]
    },
    {
      "cell_type": "code",
      "source": [
        "prompt = \"If you share your name, we can personalize the message you see.\"\n",
        "prompt += \"\\nWhat is your first name? \"\n",
        "\n",
        "name = input(prompt)\n",
        "print(f\"\\nHello,{name}!\")"
      ],
      "metadata": {
        "colab": {
          "base_uri": "https://localhost:8080/"
        },
        "id": "2L5hNgcFgqU7",
        "outputId": "67e7bbba-aef0-433d-ea31-9d495e88419b"
      },
      "execution_count": 6,
      "outputs": [
        {
          "output_type": "stream",
          "name": "stdout",
          "text": [
            "If you share your name, we can personalize the message you see.\n",
            "What is your first name? Kyle\n",
            "\n",
            "Hello,Kyle!\n"
          ]
        }
      ]
    },
    {
      "cell_type": "code",
      "source": [
        "age = input(\"How old are you? \")"
      ],
      "metadata": {
        "colab": {
          "base_uri": "https://localhost:8080/"
        },
        "id": "w1VlCT6Ihig7",
        "outputId": "3d973302-3703-4df1-be20-53f731d9ae19"
      },
      "execution_count": 7,
      "outputs": [
        {
          "name": "stdout",
          "output_type": "stream",
          "text": [
            "How old are you? 21\n"
          ]
        }
      ]
    },
    {
      "cell_type": "code",
      "source": [
        "age"
      ],
      "metadata": {
        "colab": {
          "base_uri": "https://localhost:8080/",
          "height": 35
        },
        "id": "KGcF3pErhus2",
        "outputId": "8a4d028a-057c-4d1a-9a61-6bde22adaa5a"
      },
      "execution_count": 8,
      "outputs": [
        {
          "output_type": "execute_result",
          "data": {
            "text/plain": [
              "'21'"
            ],
            "application/vnd.google.colaboratory.intrinsic+json": {
              "type": "string"
            }
          },
          "metadata": {},
          "execution_count": 8
        }
      ]
    },
    {
      "cell_type": "code",
      "source": [
        "age = input(\"How old are you? \")"
      ],
      "metadata": {
        "colab": {
          "base_uri": "https://localhost:8080/"
        },
        "id": "qan-tI50hxDu",
        "outputId": "90309848-c52b-4617-ba0e-2c8c5e6144db"
      },
      "execution_count": 9,
      "outputs": [
        {
          "name": "stdout",
          "output_type": "stream",
          "text": [
            "How old are you? 21\n"
          ]
        }
      ]
    },
    {
      "cell_type": "code",
      "source": [
        "age >= 18"
      ],
      "metadata": {
        "colab": {
          "base_uri": "https://localhost:8080/",
          "height": 174
        },
        "id": "uT8K8O7Mh8Nv",
        "outputId": "d7405141-2261-4b42-f6d6-80a38ea6087e"
      },
      "execution_count": 10,
      "outputs": [
        {
          "output_type": "error",
          "ename": "TypeError",
          "evalue": "ignored",
          "traceback": [
            "\u001b[0;31m---------------------------------------------------------------------------\u001b[0m",
            "\u001b[0;31mTypeError\u001b[0m                                 Traceback (most recent call last)",
            "\u001b[0;32m<ipython-input-10-4ce6028355cc>\u001b[0m in \u001b[0;36m<cell line: 1>\u001b[0;34m()\u001b[0m\n\u001b[0;32m----> 1\u001b[0;31m \u001b[0mage\u001b[0m \u001b[0;34m>=\u001b[0m \u001b[0;36m18\u001b[0m\u001b[0;34m\u001b[0m\u001b[0;34m\u001b[0m\u001b[0m\n\u001b[0m",
            "\u001b[0;31mTypeError\u001b[0m: '>=' not supported between instances of 'str' and 'int'"
          ]
        }
      ]
    },
    {
      "cell_type": "code",
      "source": [
        "age = input(\"How old are you? \")"
      ],
      "metadata": {
        "colab": {
          "base_uri": "https://localhost:8080/"
        },
        "id": "JLq_fANZiAz_",
        "outputId": "03fd470b-4508-42b6-efe7-fc66d9f5ea44"
      },
      "execution_count": 11,
      "outputs": [
        {
          "name": "stdout",
          "output_type": "stream",
          "text": [
            "How old are you? 21\n"
          ]
        }
      ]
    },
    {
      "cell_type": "code",
      "source": [
        "age = int(age)\n",
        "age >= 18"
      ],
      "metadata": {
        "colab": {
          "base_uri": "https://localhost:8080/"
        },
        "id": "YOyrO5MiiGrm",
        "outputId": "0e2287f8-c5a8-4884-a573-c1233c81a689"
      },
      "execution_count": 12,
      "outputs": [
        {
          "output_type": "execute_result",
          "data": {
            "text/plain": [
              "True"
            ]
          },
          "metadata": {},
          "execution_count": 12
        }
      ]
    },
    {
      "cell_type": "code",
      "source": [
        "height = input(\"How tall are you in inches? \")\n",
        "height = int(height)\n",
        "\n",
        "if height >= 48:\n",
        "  print(\"\\nYou're tall enough to ride!\")\n",
        "else:\n",
        "  print(\"\\nYou'll be able to ride when you are a little older\")"
      ],
      "metadata": {
        "colab": {
          "base_uri": "https://localhost:8080/"
        },
        "id": "dIOvRjMgiLFf",
        "outputId": "b734037b-f543-44ea-e451-464a60c4cb6d"
      },
      "execution_count": 16,
      "outputs": [
        {
          "output_type": "stream",
          "name": "stdout",
          "text": [
            "How tall are you in inches? 53\n",
            "\n",
            "You're tall enough to ride!\n"
          ]
        }
      ]
    },
    {
      "cell_type": "code",
      "source": [
        "height = input(\"How tall are you in inches? \")\n",
        "height = int(height)\n",
        "\n",
        "if height >= 48:\n",
        "  print(\"\\nYou're tall enough to ride!\")\n",
        "else:\n",
        "  print(\"\\nYou'll be able to ride when you are a little older\")"
      ],
      "metadata": {
        "colab": {
          "base_uri": "https://localhost:8080/"
        },
        "id": "znN8GAIvi3Kk",
        "outputId": "e6b62a29-b7b6-41a8-f493-0b87cb547a14"
      },
      "execution_count": 17,
      "outputs": [
        {
          "output_type": "stream",
          "name": "stdout",
          "text": [
            "How tall are you in inches? 44\n",
            "\n",
            "You'll be able to ride when you are a little older\n"
          ]
        }
      ]
    },
    {
      "cell_type": "code",
      "source": [
        "4 % 3"
      ],
      "metadata": {
        "colab": {
          "base_uri": "https://localhost:8080/"
        },
        "id": "Lhcoo9Bji5wd",
        "outputId": "290ba92d-dab4-433c-e208-4cab7f4c6a5d"
      },
      "execution_count": 18,
      "outputs": [
        {
          "output_type": "execute_result",
          "data": {
            "text/plain": [
              "1"
            ]
          },
          "metadata": {},
          "execution_count": 18
        }
      ]
    },
    {
      "cell_type": "code",
      "source": [
        "5 % 3"
      ],
      "metadata": {
        "colab": {
          "base_uri": "https://localhost:8080/"
        },
        "id": "q92S5pwdi-H5",
        "outputId": "595fd2d2-3536-4f82-d3f9-78d1bc0018ed"
      },
      "execution_count": 19,
      "outputs": [
        {
          "output_type": "execute_result",
          "data": {
            "text/plain": [
              "2"
            ]
          },
          "metadata": {},
          "execution_count": 19
        }
      ]
    },
    {
      "cell_type": "code",
      "source": [
        "6 % 3"
      ],
      "metadata": {
        "colab": {
          "base_uri": "https://localhost:8080/"
        },
        "id": "ZfsVJrXfjA2b",
        "outputId": "6cd2a3af-098a-42c8-9e29-11f12deffe6e"
      },
      "execution_count": 20,
      "outputs": [
        {
          "output_type": "execute_result",
          "data": {
            "text/plain": [
              "0"
            ]
          },
          "metadata": {},
          "execution_count": 20
        }
      ]
    },
    {
      "cell_type": "code",
      "source": [
        "7 % 3"
      ],
      "metadata": {
        "colab": {
          "base_uri": "https://localhost:8080/"
        },
        "id": "jXt2izFvjD58",
        "outputId": "d827e815-bbe7-4562-e4a6-c29219c74d5b"
      },
      "execution_count": 22,
      "outputs": [
        {
          "output_type": "execute_result",
          "data": {
            "text/plain": [
              "1"
            ]
          },
          "metadata": {},
          "execution_count": 22
        }
      ]
    },
    {
      "cell_type": "code",
      "source": [
        "number = input(\"Enter a number, and I'll tell you if it's even or odd: \")\n",
        "number = int(number)\n",
        "\n",
        "if number % 2 == 0:\n",
        "    print(f\"\\nThe number {number} is even.\")\n",
        "else:\n",
        "    print(f\"\\nThe number {number} is odd.\")"
      ],
      "metadata": {
        "colab": {
          "base_uri": "https://localhost:8080/"
        },
        "id": "xAVCevWMjIxk",
        "outputId": "a5bc8305-c73f-4be8-9020-215f66a0f71d"
      },
      "execution_count": 25,
      "outputs": [
        {
          "output_type": "stream",
          "name": "stdout",
          "text": [
            "Enter a number, and I'll tell you if its even or odd: 184\n",
            "\n",
            "The number 184 is even.\n"
          ]
        }
      ]
    },
    {
      "cell_type": "code",
      "source": [
        "number = input(\"Enter a number, and I'll tell you if it's even or odd: \")\n",
        "number = int(number)\n",
        "\n",
        "if number % 2 == 0:\n",
        "    print(f\"\\nThe number {number} is even.\")\n",
        "else:\n",
        "    print(f\"\\nThe number {number} is odd.\")"
      ],
      "metadata": {
        "colab": {
          "base_uri": "https://localhost:8080/"
        },
        "id": "lJe_fLEBkDgj",
        "outputId": "68b28dfc-e4a2-4fef-fa67-1b32ed70d33d"
      },
      "execution_count": 27,
      "outputs": [
        {
          "output_type": "stream",
          "name": "stdout",
          "text": [
            "Enter a number, and I'll tell you if it's even or odd: 97\n",
            "\n",
            "The number 97 is odd.\n"
          ]
        }
      ]
    },
    {
      "cell_type": "code",
      "source": [
        "car = input(\"What kind of rental car would you like?: \")\n",
        "\n",
        "print(f\"\\nLet me see if I can find you a {car.title()}!\")"
      ],
      "metadata": {
        "colab": {
          "base_uri": "https://localhost:8080/"
        },
        "id": "TwnhgoymkVQA",
        "outputId": "ac3fbf8d-5101-493f-8013-cb5987adde64"
      },
      "execution_count": 29,
      "outputs": [
        {
          "output_type": "stream",
          "name": "stdout",
          "text": [
            "What kind of rental car would you like?: Lexus\n",
            "\n",
            "Let me see if I can find you a Lexus!\n"
          ]
        }
      ]
    },
    {
      "cell_type": "code",
      "source": [
        "number = input(\"Enter a number and I'll tell you if it's a multiple of 10: \")\n",
        "number = int(number)\n",
        "\n",
        "if number % 10 == 0:\n",
        "  print(f\"\\n{number} is a multiple of 10!\")\n",
        "else:\n",
        "  print(f\"\\nSorry, {number} is not a multiple of 10.\")"
      ],
      "metadata": {
        "colab": {
          "base_uri": "https://localhost:8080/"
        },
        "id": "2jAzXN-QlAbE",
        "outputId": "35e3965a-d046-420c-fa14-3288831501d8"
      },
      "execution_count": 35,
      "outputs": [
        {
          "output_type": "stream",
          "name": "stdout",
          "text": [
            "Enter a number and I'll tell you if it's a multiple of 10: 79\n",
            "\n",
            "Sorry, 79 is not a multiple of 10.\n"
          ]
        }
      ]
    },
    {
      "cell_type": "code",
      "source": [
        "number = input(\"Enter a number and I'll tell you if it's a multiple of 10: \")\n",
        "number = int(number)\n",
        "\n",
        "if number % 10 == 0:\n",
        "  print(f\"\\n{number} is a multiple of 10!\")\n",
        "else:\n",
        "  print(f\"\\nSorry, {number} is not a multiple of 10.\")"
      ],
      "metadata": {
        "colab": {
          "base_uri": "https://localhost:8080/"
        },
        "id": "45byHnGKls1J",
        "outputId": "a1b09af4-3ef4-4537-d409-9780b2d7198e"
      },
      "execution_count": 34,
      "outputs": [
        {
          "output_type": "stream",
          "name": "stdout",
          "text": [
            "Enter a number and I'll tell you if it's a multiple of 10: 280\n",
            "\n",
            "280 is a multiple of 10!\n"
          ]
        }
      ]
    },
    {
      "cell_type": "code",
      "source": [
        "current_number = 1\n",
        "while current_number <= 5:\n",
        "  print(current_number)\n",
        "  current_number += 1"
      ],
      "metadata": {
        "colab": {
          "base_uri": "https://localhost:8080/"
        },
        "id": "UnXh2Lgslvnn",
        "outputId": "d3bc2d0e-ea1e-48d0-a83b-c34c5f1dd07a"
      },
      "execution_count": 38,
      "outputs": [
        {
          "output_type": "stream",
          "name": "stdout",
          "text": [
            "1\n",
            "2\n",
            "3\n",
            "4\n",
            "5\n"
          ]
        }
      ]
    },
    {
      "cell_type": "code",
      "source": [
        "prompt = \"\\nTell me something, and i will repeat it back to you: \"\n",
        "prompt += \"\\nEnter 'quit' to end the program\"\n",
        "\n",
        "message = \" \"\n",
        "while message != 'quit':\n",
        "  message = input(prompt)\n",
        "  print(message)"
      ],
      "metadata": {
        "colab": {
          "base_uri": "https://localhost:8080/"
        },
        "id": "n_lZTsbqm44k",
        "outputId": "3f0b01f5-1bd2-4e23-ecfc-4514e26a2f0d"
      },
      "execution_count": 39,
      "outputs": [
        {
          "output_type": "stream",
          "name": "stdout",
          "text": [
            "\n",
            "Tell me something, and i will repeat it back to you: \n",
            "Enter 'quit' to end the programHello Dr. Lecky\n",
            "Hello Dr. Lecky\n",
            "\n",
            "Tell me something, and i will repeat it back to you: \n",
            "Enter 'quit' to end the programHello again !!!\n",
            "Hello again !!!\n",
            "\n",
            "Tell me something, and i will repeat it back to you: \n",
            "Enter 'quit' to end the programquit\n",
            "quit\n"
          ]
        }
      ]
    },
    {
      "cell_type": "code",
      "source": [
        "prompt = \"\\nTell me something, and i will repeat it back to you: \"\n",
        "prompt += \"\\nEnter 'quit' to end the program\"\n",
        "\n",
        "message = \" \"\n",
        "while message != 'quit':\n",
        "  message = input(prompt)\n",
        "\n",
        "  if message != 'quit':\n",
        "    print(message)"
      ],
      "metadata": {
        "colab": {
          "base_uri": "https://localhost:8080/"
        },
        "id": "fKBK0FU9nzeb",
        "outputId": "8ae5b907-3513-4dec-cdc0-18b0fdaf101d"
      },
      "execution_count": 41,
      "outputs": [
        {
          "name": "stdout",
          "output_type": "stream",
          "text": [
            "\n",
            "Tell me something, and i will repeat it back to you: \n",
            "Enter 'quit' to end the programHello world !\n",
            "Hello world !\n",
            "\n",
            "Tell me something, and i will repeat it back to you: \n",
            "Enter 'quit' to end the programHello again!\n",
            "Hello again!\n",
            "\n",
            "Tell me something, and i will repeat it back to you: \n",
            "Enter 'quit' to end the programquit\n"
          ]
        }
      ]
    },
    {
      "cell_type": "code",
      "source": [
        "prompt = \"\\nTell me something, and i will repeat it back to you: \"\n",
        "prompt += \"\\nEnter 'quit' to end the program\"\n",
        "\n",
        "active = True\n",
        "while active:\n",
        "  message = input(prompt)\n",
        "\n",
        "  if message == 'quit':\n",
        "    active = False\n",
        "  else:\n",
        "    print(message)"
      ],
      "metadata": {
        "colab": {
          "base_uri": "https://localhost:8080/"
        },
        "id": "7-NIcPJDpOYX",
        "outputId": "a1556b39-4a97-45ea-fecd-6c496e677ea6"
      },
      "execution_count": 43,
      "outputs": [
        {
          "name": "stdout",
          "output_type": "stream",
          "text": [
            "\n",
            "Tell me something, and i will repeat it back to you: \n",
            "Enter 'quit' to end the programhello\n",
            "hello\n",
            "\n",
            "Tell me something, and i will repeat it back to you: \n",
            "Enter 'quit' to end the programHELLOOOOOO\n",
            "HELLOOOOOO\n",
            "\n",
            "Tell me something, and i will repeat it back to you: \n",
            "Enter 'quit' to end the programquit\n"
          ]
        }
      ]
    },
    {
      "cell_type": "code",
      "source": [
        "prompt = \"\\nPlease enter the name of a city you have visited.\"\n",
        "prompt += \"\\n(Enter 'quit' When you are finished.) \"\n",
        "\n",
        "while True:\n",
        "  city = input(prompt)\n",
        "\n",
        "  if city == 'quit':\n",
        "    break\n",
        "  else:\n",
        "    print(f\"I'd love to visit {city.title()}!\")"
      ],
      "metadata": {
        "colab": {
          "base_uri": "https://localhost:8080/"
        },
        "id": "euu9XgQ7p0RF",
        "outputId": "af02a8c9-db71-45be-ce0f-bcbc02c24ef4"
      },
      "execution_count": 44,
      "outputs": [
        {
          "name": "stdout",
          "output_type": "stream",
          "text": [
            "\n",
            "Please enter the name of a city you have visited.\n",
            "(Enter 'quit' When you are finished.) Japan\n",
            "I'd love to visit Japan!\n",
            "\n",
            "Please enter the name of a city you have visited.\n",
            "(Enter 'quit' When you are finished.) Los Angeles\n",
            "I'd love to visit Los Angeles!\n",
            "\n",
            "Please enter the name of a city you have visited.\n",
            "(Enter 'quit' When you are finished.) New York\n",
            "I'd love to visit New York!\n",
            "\n",
            "Please enter the name of a city you have visited.\n",
            "(Enter 'quit' When you are finished.) quit\n"
          ]
        }
      ]
    },
    {
      "cell_type": "code",
      "source": [
        "current_number = 0\n",
        "while current_number < 10:\n",
        "  current_number += 1\n",
        "  if current_number % 2 == 0:\n",
        "    continue\n",
        "\n",
        "  print(current_number)"
      ],
      "metadata": {
        "colab": {
          "base_uri": "https://localhost:8080/"
        },
        "id": "e8SaOiUdqlpr",
        "outputId": "e2e6d0c0-a076-4434-8925-7e358e9f148f"
      },
      "execution_count": 46,
      "outputs": [
        {
          "output_type": "stream",
          "name": "stdout",
          "text": [
            "1\n",
            "3\n",
            "5\n",
            "7\n",
            "9\n"
          ]
        }
      ]
    },
    {
      "cell_type": "code",
      "source": [
        "x = 1\n",
        "while x <= 5:\n",
        "  print(x)\n",
        "  x += 1"
      ],
      "metadata": {
        "colab": {
          "base_uri": "https://localhost:8080/"
        },
        "id": "sc5RLcRvrYXm",
        "outputId": "4f49b806-9e02-4919-8120-2a7a8e7edb0d"
      },
      "execution_count": 48,
      "outputs": [
        {
          "output_type": "stream",
          "name": "stdout",
          "text": [
            "1\n",
            "2\n",
            "3\n",
            "4\n",
            "5\n"
          ]
        }
      ]
    },
    {
      "cell_type": "code",
      "source": [
        "prompt = f\"\\nHow old are you?: \"\n",
        "prompt += f\"\\nEnter 'quit' when you are finished.\"\n",
        "\n",
        "while True:\n",
        "  age = input(prompt)\n",
        "  if age == 'quit':\n",
        "    break\n",
        "  age = int(age)\n",
        "\n",
        "  if age < 3:\n",
        "    print(\"You get in for free!\")\n",
        "  elif age < 13:\n",
        "    print(\"your ticket is $10.\")\n",
        "  else:\n",
        "    print(\"your ticket is $15.\")\n",
        "\n",
        ""
      ],
      "metadata": {
        "colab": {
          "base_uri": "https://localhost:8080/"
        },
        "id": "5vBWyy5YrofK",
        "outputId": "1c23ec20-42b6-4dbe-ae5e-4fa0c636e991"
      },
      "execution_count": 49,
      "outputs": [
        {
          "name": "stdout",
          "output_type": "stream",
          "text": [
            "\n",
            "How old are you?: \n",
            "Enter 'quit' when you are finished.24\n",
            "your ticket is $15.\n",
            "\n",
            "How old are you?: \n",
            "Enter 'quit' when you are finished.13\n",
            "your ticket is $15.\n",
            "\n",
            "How old are you?: \n",
            "Enter 'quit' when you are finished.11\n",
            "your ticket is $10.\n",
            "\n",
            "How old are you?: \n",
            "Enter 'quit' when you are finished.4\n",
            "your ticket is $10.\n",
            "\n",
            "How old are you?: \n",
            "Enter 'quit' when you are finished.2\n",
            "You get in for free!\n",
            "\n",
            "How old are you?: \n",
            "Enter 'quit' when you are finished.0\n",
            "You get in for free!\n",
            "\n",
            "How old are you?: \n",
            "Enter 'quit' when you are finished.1\n",
            "You get in for free!\n",
            "\n",
            "How old are you?: \n",
            "Enter 'quit' when you are finished.quit\n"
          ]
        }
      ]
    },
    {
      "cell_type": "code",
      "source": [
        "unconfirmed_users = ['alice','brian','earl']\n",
        "confirmed_users = []\n",
        "\n",
        "while unconfirmed_users:\n",
        "  current_user = unconfirmed_users.pop()\n",
        "\n",
        "  print(f\"Verifying_user: {current_user.title()}\")\n",
        "  confirmed_users.append(current_user)\n",
        "\n",
        "print(f\"\\nThe following users have been confirmed: \")\n",
        "for confirmed_user in confirmed_users:\n",
        "  print(confirmed_user.title())"
      ],
      "metadata": {
        "colab": {
          "base_uri": "https://localhost:8080/"
        },
        "id": "RgeA6bwlt0Gh",
        "outputId": "6f80ac64-ea54-4a9e-c7c0-9201474a1231"
      },
      "execution_count": 50,
      "outputs": [
        {
          "output_type": "stream",
          "name": "stdout",
          "text": [
            "Verifying_user: Earl\n",
            "Verifying_user: Brian\n",
            "Verifying_user: Alice\n",
            "\n",
            "The following users have been confirmed: \n",
            "Earl\n",
            "Brian\n",
            "Alice\n"
          ]
        }
      ]
    },
    {
      "cell_type": "code",
      "source": [
        "pets = ['dog', 'cat', 'dog', 'goldfish', 'cat', 'rabbit', 'cat']\n",
        "print(pets)\n",
        "\n",
        "\n",
        "while 'cat' in pets:\n",
        "        pets.remove('cat')\n",
        "print(pets)\n"
      ],
      "metadata": {
        "colab": {
          "base_uri": "https://localhost:8080/"
        },
        "id": "XcgXbPPCvNRh",
        "outputId": "a2261308-4ce9-4748-fc3e-483b80c19b66"
      },
      "execution_count": 54,
      "outputs": [
        {
          "output_type": "stream",
          "name": "stdout",
          "text": [
            "['dog', 'cat', 'dog', 'goldfish', 'cat', 'rabbit', 'cat']\n",
            "['dog', 'dog', 'goldfish', 'rabbit']\n"
          ]
        }
      ]
    },
    {
      "cell_type": "code",
      "source": [
        "responses = {}\n",
        "\n",
        "polling_active = True\n",
        "while polling_active:\n",
        "  name = input(\"\\nWhat is your name? \")\n",
        "  response = input(\"Which mountain would you like to climb someday? \")\n",
        "\n",
        "  responses[name] = response\n",
        "  repeat = input(\"would you like to let another person respond? (yes/ no) \")\n",
        "  if repeat == 'no':\n",
        "    polling_active = False\n",
        "\n",
        "print(\"\\n---- Poll results---\")\n",
        "for name, response in responses.items():\n",
        "  print(f\"{name} would like to climb {response}. \")\n",
        "\n",
        "\n"
      ],
      "metadata": {
        "colab": {
          "base_uri": "https://localhost:8080/"
        },
        "id": "P9QV2SfpwXGj",
        "outputId": "8270058c-fdd5-46f7-fefb-57c73ff58661"
      },
      "execution_count": 58,
      "outputs": [
        {
          "output_type": "stream",
          "name": "stdout",
          "text": [
            "\n",
            "What is your name? kyle\n",
            "Which mountain would you like to climb someday? everest\n",
            "would you like to let another person respond? (yes/ no) yes\n",
            "\n",
            "What is your name? joe\n",
            "Which mountain would you like to climb someday? devil's thumb\n",
            "would you like to let another person respond? (yes/ no) yes\n",
            "\n",
            "What is your name? brian\n",
            "Which mountain would you like to climb someday? the tallest one\n",
            "would you like to let another person respond? (yes/ no) no\n",
            "\n",
            "---- Poll results---\n",
            "kyle would like to climb everest. \n",
            "joe would like to climb devil's thumb. \n",
            "brian would like to climb the tallest one. \n"
          ]
        }
      ]
    },
    {
      "cell_type": "code",
      "source": [
        "sandwich_orders = ['italian', 'steak', 'american', 'chicken bomber']\n",
        "finished_sandwiches = []\n",
        "\n",
        "while sandwich_orders:\n",
        "  current_sandwich = sandwich_orders.pop()\n",
        "  print(f\"Im working on your {current_sandwich} sandwich now! \")\n",
        "  finished_sandwiches.append(current_sandwich)\n",
        "\n",
        "print(\"\\n\")\n",
        "for sandwich in finished_sandwiches:\n",
        "  print(f\"Your {sandwich} sandwich is ready!\")"
      ],
      "metadata": {
        "colab": {
          "base_uri": "https://localhost:8080/"
        },
        "id": "_H64CPHHyWFU",
        "outputId": "17740fd7-2ddd-44cc-8a0d-120b0bfa71cf"
      },
      "execution_count": 68,
      "outputs": [
        {
          "output_type": "stream",
          "name": "stdout",
          "text": [
            "Im working on your chicken bomber sandwich now! \n",
            "Im working on your american sandwich now! \n",
            "Im working on your steak sandwich now! \n",
            "Im working on your italian sandwich now! \n",
            "\n",
            "\n",
            "Your chicken bomber sandwich is ready!\n",
            "Your american sandwich is ready!\n",
            "Your steak sandwich is ready!\n",
            "Your italian sandwich is ready!\n"
          ]
        }
      ]
    },
    {
      "cell_type": "code",
      "source": [
        "total = 0\n",
        "\n",
        "while True:\n",
        "    print(f\"Current total: {total}\")\n",
        "\n",
        "    number = int(input(\"Enter a number: \"))\n",
        "\n",
        "    operator = input(\"Enter an operator (+, -, *, /): \")\n",
        "\n",
        "    if operator == \"+\":\n",
        "        total += number\n",
        "    elif operator == \"-\":\n",
        "        total -= number\n",
        "    elif operator == \"*\":\n",
        "        total *= number\n",
        "    elif operator == \"/\":\n",
        "        total /= number\n",
        "\n",
        "    continue_choice = input(\"Do you want to continue? (yes/no) \")\n",
        "    if continue_choice.lower() != \"yes\":\n",
        "        break\n"
      ],
      "metadata": {
        "colab": {
          "base_uri": "https://localhost:8080/"
        },
        "id": "4pSFH-Vb1BIQ",
        "outputId": "ef0e35d8-e095-4164-eb88-fc3460272a1e"
      },
      "execution_count": 80,
      "outputs": [
        {
          "name": "stdout",
          "output_type": "stream",
          "text": [
            "Current total: 0\n",
            "Enter a number: 12\n",
            "Enter an operator (+, -, *, /): +\n",
            "Do you want to continue? (yes/no) yes\n",
            "Current total: 12\n",
            "Enter a number: 100\n",
            "Enter an operator (+, -, *, /): +\n",
            "Do you want to continue? (yes/no) yes\n",
            "Current total: 112\n",
            "Enter a number: 67\n",
            "Enter an operator (+, -, *, /): -\n",
            "Do you want to continue? (yes/no) yes\n",
            "Current total: 45\n",
            "Enter a number: 2\n",
            "Enter an operator (+, -, *, /): *\n",
            "Do you want to continue? (yes/no) yes\n",
            "Current total: 90\n",
            "Enter a number: 5\n",
            "Enter an operator (+, -, *, /): /\n",
            "Do you want to continue? (yes/no) yes\n",
            "Current total: 18.0\n",
            "Enter a number: 0\n",
            "Enter an operator (+, -, *, /): +\n",
            "Do you want to continue? (yes/no) no\n"
          ]
        }
      ]
    }
  ]
}