{
  "nbformat": 4,
  "nbformat_minor": 0,
  "metadata": {
    "colab": {
      "provenance": [],
      "authorship_tag": "ABX9TyPmUiPr0qnJii8jmKHKSI+2",
      "include_colab_link": true
    },
    "kernelspec": {
      "name": "python3",
      "display_name": "Python 3"
    },
    "language_info": {
      "name": "python"
    }
  },
  "cells": [
    {
      "cell_type": "markdown",
      "metadata": {
        "id": "view-in-github",
        "colab_type": "text"
      },
      "source": [
        "<a href=\"https://colab.research.google.com/github/kylegrecki/csc221_kgrec003/blob/main/Assignmnt12.ipynb\" target=\"_parent\"><img src=\"https://colab.research.google.com/assets/colab-badge.svg\" alt=\"Open In Colab\"/></a>"
      ]
    },
    {
      "cell_type": "markdown",
      "source": [
        "Kyle Grecki             \n",
        "\n",
        "\n",
        "\n",
        "Assignment 12"
      ],
      "metadata": {
        "id": "iRWlclso9mbA"
      }
    },
    {
      "cell_type": "code",
      "execution_count": 1,
      "metadata": {
        "id": "D30F3NIL9eXD"
      },
      "outputs": [],
      "source": [
        "class Money:\n",
        "  def __init__(self, value, name):\n",
        "    self.value = value\n",
        "    self.name = name\n",
        "\n",
        "  def __str__(self):\n",
        "    return f\"{self.name}; of value ${self.value}\""
      ]
    },
    {
      "cell_type": "code",
      "source": [
        "class Bills(Money):\n",
        "  pass\n",
        "\n",
        "class One(Bills):\n",
        "  def __init__(self):\n",
        "    super().__init__(1.0, \"One Dollar Bill\")\n",
        "\n",
        "class Five(Bills):\n",
        "  def __init__(self):\n",
        "    super().__init__(5.0, \"Five Dollar Bill\")\n",
        "\n",
        "class Ten(Bills):\n",
        "  def __init__(self):\n",
        "    super().__init__(10.0, \"Ten Dollar Bill\")\n",
        "\n",
        "class Twenty(Bills):\n",
        "  def __init__(self):\n",
        "    super().__init__(20.0, \"Twenty Dollar Bill\")\n",
        "\n",
        "class Fifty(Bills):\n",
        "  def __init__(self):\n",
        "    super().__init__(50.0, \"Fifty Dollar Bill\")\n",
        "\n",
        "class Hundred(Bills):\n",
        "  def __init__(self):\n",
        "    super().__init__(100.0, \"Hundred Dollar Bill\")"
      ],
      "metadata": {
        "id": "RiDBKTd-YAZZ"
      },
      "execution_count": 2,
      "outputs": []
    },
    {
      "cell_type": "code",
      "source": [
        "class Coins(Money):\n",
        "  pass\n",
        "\n",
        "class Penny(Coins):\n",
        "  def __init__(self):\n",
        "    super().__init__(0.01, \"Penny\")\n",
        "\n",
        "class Nickel(Coins):\n",
        "  def __init__(self):\n",
        "    super().__init__(0.05, \"Nickel\")\n",
        "\n",
        "class Dime(Coins):\n",
        "  def __init__(self):\n",
        "    super().__init__(0.10, \"Dime\")\n",
        "\n",
        "class Quarter(Coins):\n",
        "  def __init__(self):\n",
        "    super().__init__(0.25, \"Quarter\")"
      ],
      "metadata": {
        "id": "DXRu0FpiZRJb"
      },
      "execution_count": 3,
      "outputs": []
    },
    {
      "cell_type": "code",
      "source": [
        "def summarize_wallet(wallet):\n",
        "    total = 0\n",
        "    for money in wallet:\n",
        "        total += money.value\n",
        "    print(f\"Total: ${total:}\")"
      ],
      "metadata": {
        "id": "4Tjur7OgduA3"
      },
      "execution_count": 4,
      "outputs": []
    },
    {
      "cell_type": "code",
      "source": [
        "wallet = [One(), Five(), Ten(), Twenty(), Penny(), Nickel(), Dime(), Quarter()]\n",
        "wallet2 = [One(), Ten(), Ten(), Twenty(), Twenty(), Dime(), Dime(), Quarter()]\n",
        "\n",
        "summarize_wallet(wallet)\n",
        "print()\n",
        "summarize_wallet(wallet2)"
      ],
      "metadata": {
        "colab": {
          "base_uri": "https://localhost:8080/"
        },
        "id": "cVilU9X3aHIs",
        "outputId": "606190dc-c3f1-4ede-d5cb-2cd1ede715b2"
      },
      "execution_count": 5,
      "outputs": [
        {
          "output_type": "stream",
          "name": "stdout",
          "text": [
            "Total: $36.41\n",
            "\n",
            "Total: $61.45\n"
          ]
        }
      ]
    },
    {
      "cell_type": "code",
      "source": [
        "wallet3 = [One(), Five(), Ten(), Twenty()]\n",
        "wallet4 = [Penny(), Dime(), Dime(), Quarter()]\n",
        "wallet5 = [Twenty(), Twenty(), Twenty(),Twenty(),Twenty(), Ten(), Ten(), Ten(), Ten(), Ten()]\n",
        "\n",
        "summarize_wallet(wallet3)\n",
        "print()\n",
        "summarize_wallet(wallet4)\n",
        "print()\n",
        "summarize_wallet(wallet5)\n"
      ],
      "metadata": {
        "colab": {
          "base_uri": "https://localhost:8080/"
        },
        "id": "kmoFHlt3fyta",
        "outputId": "b5a563f4-fcd9-4ab5-82e0-879eb24516ed"
      },
      "execution_count": 6,
      "outputs": [
        {
          "output_type": "stream",
          "name": "stdout",
          "text": [
            "Total: $36.0\n",
            "\n",
            "Total: $0.46\n",
            "\n",
            "Total: $150.0\n"
          ]
        }
      ]
    },
    {
      "cell_type": "code",
      "source": [
        "class Currency(Money):\n",
        "    def __init__(self, name, value):\n",
        "        self.name = name\n",
        "        self.value = value\n",
        "\n",
        "    def __str__(self):\n",
        "        return f\"{self.name} is worth ${self.value}!\""
      ],
      "metadata": {
        "id": "dYYoyke0hfZa"
      },
      "execution_count": 7,
      "outputs": []
    },
    {
      "cell_type": "code",
      "source": [
        "class Crypto(Currency):\n",
        "    pass\n",
        "\n",
        "class Bitcoin(Crypto):\n",
        "    def __init__(self):\n",
        "        super().__init__(\"Bitcoin\", \"100.0\")\n",
        "\n",
        "class Polkadot(Crypto):\n",
        "    def __init__(self):\n",
        "        super().__init__(\"Polkadot\", \"10.0\")"
      ],
      "metadata": {
        "id": "AgSuSkaOiT8J"
      },
      "execution_count": 8,
      "outputs": []
    },
    {
      "cell_type": "code",
      "source": [
        "class Digital(Currency):\n",
        "    pass\n",
        "\n",
        "class Ethereum(Crypto):\n",
        "    def __init__(self):\n",
        "        super().__init__(\"Ethereum\", \"50.0\")\n",
        "\n",
        "class Doge(Crypto):\n",
        "    def __init__(self):\n",
        "        super().__init__(\"Doge\", \"20.0\")"
      ],
      "metadata": {
        "id": "U5Wyj0EHiWru"
      },
      "execution_count": 9,
      "outputs": []
    },
    {
      "cell_type": "code",
      "source": [
        "def summarize_coin(digital_wallet):\n",
        "    total = 0\n",
        "    for currency in digital_wallet:\n",
        "        total += float(currency.value)\n",
        "    print(f\"Total: ${total:}\")"
      ],
      "metadata": {
        "id": "lo53CN7Siax-"
      },
      "execution_count": 34,
      "outputs": []
    },
    {
      "cell_type": "code",
      "source": [
        "digital_wallet = [Bitcoin(), Doge(), Polkadot(), Ethereum()]\n",
        "digital_wallet2 = [Bitcoin(), Bitcoin(), Bitcoin(), Bitcoin()]\n",
        "digital_wallet3 = [Bitcoin(), Ethereum(), Polkadot(), Doge(), Doge(), Doge(), Polkadot()]\n",
        "\n",
        "summarize_coin(digital_wallet)\n",
        "print()\n",
        "summarize_coin(digital_wallet2)\n",
        "print()\n",
        "summarize_coin(digital_wallet3)\n"
      ],
      "metadata": {
        "colab": {
          "base_uri": "https://localhost:8080/"
        },
        "id": "ybia9ajEl_jT",
        "outputId": "59e0d88f-2e62-4e58-efa5-45a4102b9835"
      },
      "execution_count": 37,
      "outputs": [
        {
          "output_type": "stream",
          "name": "stdout",
          "text": [
            "Total: $180.0\n",
            "\n",
            "Total: $400.0\n",
            "\n",
            "Total: $230.0\n"
          ]
        }
      ]
    }
  ]
}