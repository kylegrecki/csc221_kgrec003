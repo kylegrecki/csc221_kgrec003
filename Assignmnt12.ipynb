{
  "nbformat": 4,
  "nbformat_minor": 0,
  "metadata": {
    "colab": {
      "provenance": [],
      "authorship_tag": "ABX9TyNE5nU9UZx02KXhDtSc5/FS",
      "include_colab_link": true
    },
    "kernelspec": {
      "name": "python3",
      "display_name": "Python 3"
    },
    "language_info": {
      "name": "python"
    }
  },
  "cells": [
    {
      "cell_type": "markdown",
      "metadata": {
        "id": "view-in-github",
        "colab_type": "text"
      },
      "source": [
        "<a href=\"https://colab.research.google.com/github/kylegrecki/csc221_kgrec003/blob/main/Assignmnt12.ipynb\" target=\"_parent\"><img src=\"https://colab.research.google.com/assets/colab-badge.svg\" alt=\"Open In Colab\"/></a>"
      ]
    },
    {
      "cell_type": "markdown",
      "source": [
        "Kyle Grecki             \n",
        "\n",
        "\n",
        "\n",
        "Assignment 12"
      ],
      "metadata": {
        "id": "iRWlclso9mbA"
      }
    },
    {
      "cell_type": "code",
      "execution_count": 1,
      "metadata": {
        "id": "D30F3NIL9eXD"
      },
      "outputs": [],
      "source": [
        "class Money:\n",
        "  def __init__(self, value, name):\n",
        "    self.value = value\n",
        "    self.name = name\n",
        "\n",
        "  def __str__(self):\n",
        "    return f\"{self.name}; of value ${self.value}\""
      ]
    },
    {
      "cell_type": "code",
      "source": [
        "class Bills(Money):\n",
        "  pass\n",
        "\n",
        "class One(Bills):\n",
        "  def __init__(self):\n",
        "    super().__init__(1.0, \"One Dollar Bill\")\n",
        "\n",
        "class Five(Bills):\n",
        "  def __init__(self):\n",
        "    super().__init__(5.0, \"Five Dollar Bill\")\n",
        "\n",
        "class Ten(Bills):\n",
        "  def __init__(self):\n",
        "    super().__init__(10.0, \"Ten Dollar Bill\")\n",
        "\n",
        "class Twenty(Bills):\n",
        "  def __init__(self):\n",
        "    super().__init__(20.0, \"Twenty Dollar Bill\")\n",
        "\n",
        "class Fifty(Bills):\n",
        "  def __init__(self):\n",
        "    super().__init__(50.0, \"Fifty Dollar Bill\")\n",
        "\n",
        "class Hundred(Bills):\n",
        "  def __init__(self):\n",
        "    super().__init__(100.0, \"Hundred Dollar Bill\")"
      ],
      "metadata": {
        "id": "RiDBKTd-YAZZ"
      },
      "execution_count": 2,
      "outputs": []
    },
    {
      "cell_type": "code",
      "source": [
        "class Coins(Money):\n",
        "  pass\n",
        "\n",
        "class Penny(Coins):\n",
        "  def __init__(self):\n",
        "    super().__init__(0.01, \"Penny\")\n",
        "\n",
        "class Nickel(Coins):\n",
        "  def __init__(self):\n",
        "    super().__init__(0.05, \"Nickel\")\n",
        "\n",
        "class Dime(Coins):\n",
        "  def __init__(self):\n",
        "    super().__init__(0.10, \"Dime\")\n",
        "\n",
        "class Quarter(Coins):\n",
        "  def __init__(self):\n",
        "    super().__init__(0.25, \"Quarter\")"
      ],
      "metadata": {
        "id": "DXRu0FpiZRJb"
      },
      "execution_count": 3,
      "outputs": []
    },
    {
      "cell_type": "code",
      "source": [
        "def summarize_wallet(wallet):\n",
        "    total = 0\n",
        "    for money in wallet:\n",
        "        print(f\"{money.name}: {money.value}\")\n",
        "        total += money.value\n",
        "    print(f\"-\" *25)\n",
        "    print(f\"Total: ${total:}\")\n",
        "    print(f\"\\n\")"
      ],
      "metadata": {
        "id": "4Tjur7OgduA3"
      },
      "execution_count": 4,
      "outputs": []
    },
    {
      "cell_type": "code",
      "source": [
        "wallet = [One(), Five(), Ten(), Twenty(), Penny(), Nickel(), Dime(), Quarter()]\n",
        "wallet2 = [One(), Ten(), Ten(), Twenty(), Twenty(), Dime(), Dime(), Quarter()]\n",
        "\n",
        "summarize_wallet(wallet)\n",
        "summarize_wallet(wallet2)"
      ],
      "metadata": {
        "colab": {
          "base_uri": "https://localhost:8080/"
        },
        "id": "cVilU9X3aHIs",
        "outputId": "3b3278cd-9f61-4f12-a822-9e33e7d2b2b5"
      },
      "execution_count": 5,
      "outputs": [
        {
          "output_type": "stream",
          "name": "stdout",
          "text": [
            "One Dollar Bill: 1.0\n",
            "Five Dollar Bill: 5.0\n",
            "Ten Dollar Bill: 10.0\n",
            "Twenty Dollar Bill: 20.0\n",
            "Penny: 0.01\n",
            "Nickel: 0.05\n",
            "Dime: 0.1\n",
            "Quarter: 0.25\n",
            "-------------------------\n",
            "Total: $36.41\n",
            "\n",
            "\n",
            "One Dollar Bill: 1.0\n",
            "Ten Dollar Bill: 10.0\n",
            "Ten Dollar Bill: 10.0\n",
            "Twenty Dollar Bill: 20.0\n",
            "Twenty Dollar Bill: 20.0\n",
            "Dime: 0.1\n",
            "Dime: 0.1\n",
            "Quarter: 0.25\n",
            "-------------------------\n",
            "Total: $61.45\n",
            "\n",
            "\n"
          ]
        }
      ]
    },
    {
      "cell_type": "code",
      "source": [
        "wallet3 = [One(), Five(), Ten(), Twenty()]\n",
        "wallet4 = [Penny(), Dime(), Dime(), Quarter()]\n",
        "wallet5 = [Twenty(), Twenty(), Twenty(),Twenty(),Twenty(), Ten(), Ten(), Ten(), Ten(), Ten()]\n",
        "\n",
        "summarize_wallet(wallet3)\n",
        "summarize_wallet(wallet4)\n",
        "summarize_wallet(wallet5)\n"
      ],
      "metadata": {
        "colab": {
          "base_uri": "https://localhost:8080/"
        },
        "id": "kmoFHlt3fyta",
        "outputId": "9ea73b94-415c-471e-a7ab-0ff5a3bc82c7"
      },
      "execution_count": 6,
      "outputs": [
        {
          "output_type": "stream",
          "name": "stdout",
          "text": [
            "One Dollar Bill: 1.0\n",
            "Five Dollar Bill: 5.0\n",
            "Ten Dollar Bill: 10.0\n",
            "Twenty Dollar Bill: 20.0\n",
            "-------------------------\n",
            "Total: $36.0\n",
            "\n",
            "\n",
            "Penny: 0.01\n",
            "Dime: 0.1\n",
            "Dime: 0.1\n",
            "Quarter: 0.25\n",
            "-------------------------\n",
            "Total: $0.46\n",
            "\n",
            "\n",
            "Twenty Dollar Bill: 20.0\n",
            "Twenty Dollar Bill: 20.0\n",
            "Twenty Dollar Bill: 20.0\n",
            "Twenty Dollar Bill: 20.0\n",
            "Twenty Dollar Bill: 20.0\n",
            "Ten Dollar Bill: 10.0\n",
            "Ten Dollar Bill: 10.0\n",
            "Ten Dollar Bill: 10.0\n",
            "Ten Dollar Bill: 10.0\n",
            "Ten Dollar Bill: 10.0\n",
            "-------------------------\n",
            "Total: $150.0\n",
            "\n",
            "\n"
          ]
        }
      ]
    },
    {
      "cell_type": "code",
      "source": [
        "class Currency(Money):\n",
        "    def __init__(self, name, value):\n",
        "        self.name = name\n",
        "        self.value = value\n",
        "\n",
        "    def __str__(self):\n",
        "        return f\"{self.name} is worth ${self.value}!\""
      ],
      "metadata": {
        "id": "dYYoyke0hfZa"
      },
      "execution_count": 7,
      "outputs": []
    },
    {
      "cell_type": "code",
      "source": [
        "class Crypto(Currency):\n",
        "    pass\n",
        "\n",
        "class Bitcoin(Crypto):\n",
        "    def __init__(self):\n",
        "        super().__init__(\"Bitcoin\", \"29000.0\")\n",
        "\n",
        "class Polkadot(Crypto):\n",
        "    def __init__(self):\n",
        "        super().__init__(\"Polkadot\", \"10.0\")"
      ],
      "metadata": {
        "id": "AgSuSkaOiT8J"
      },
      "execution_count": 8,
      "outputs": []
    },
    {
      "cell_type": "code",
      "source": [
        "class Digital(Currency):\n",
        "    pass\n",
        "\n",
        "class Ethereum(Crypto):\n",
        "    def __init__(self):\n",
        "        super().__init__(\"Ethereum\", \"1000.0\")\n",
        "\n",
        "class Doge(Crypto):\n",
        "    def __init__(self):\n",
        "        super().__init__(\"Doge\", \"10.0\")"
      ],
      "metadata": {
        "id": "U5Wyj0EHiWru"
      },
      "execution_count": 9,
      "outputs": []
    },
    {
      "cell_type": "code",
      "source": [
        "def summarize_coin(digital_wallet):\n",
        "    total = 0\n",
        "    for currency in digital_wallet:\n",
        "        print(f\"{currency.name}: {currency.value}\")\n",
        "        total += float(currency.value)\n",
        "    print(\"-\" *20)\n",
        "    print(f\"Total: ${total:}\")\n",
        "    print(f\"\\n\")"
      ],
      "metadata": {
        "id": "lo53CN7Siax-"
      },
      "execution_count": 10,
      "outputs": []
    },
    {
      "cell_type": "code",
      "source": [
        "digital_wallet = [Bitcoin(), Doge(), Polkadot(), Ethereum()]\n",
        "digital_wallet2 = [Bitcoin(), Bitcoin(), Bitcoin(), Bitcoin()]\n",
        "digital_wallet3 = [Bitcoin(), Ethereum(), Polkadot(), Doge(), Doge(), Doge(), Polkadot()]\n",
        "\n",
        "summarize_coin(digital_wallet)\n",
        "summarize_coin(digital_wallet2)\n",
        "summarize_coin(digital_wallet3)\n"
      ],
      "metadata": {
        "colab": {
          "base_uri": "https://localhost:8080/"
        },
        "id": "ybia9ajEl_jT",
        "outputId": "e5c8b9d1-92fe-43df-93f2-746a87e71bfa"
      },
      "execution_count": 11,
      "outputs": [
        {
          "output_type": "stream",
          "name": "stdout",
          "text": [
            "Bitcoin: 29000.0\n",
            "Doge: 10.0\n",
            "Polkadot: 10.0\n",
            "Ethereum: 1000.0\n",
            "--------------------\n",
            "Total: $30020.0\n",
            "\n",
            "\n",
            "Bitcoin: 29000.0\n",
            "Bitcoin: 29000.0\n",
            "Bitcoin: 29000.0\n",
            "Bitcoin: 29000.0\n",
            "--------------------\n",
            "Total: $116000.0\n",
            "\n",
            "\n",
            "Bitcoin: 29000.0\n",
            "Ethereum: 1000.0\n",
            "Polkadot: 10.0\n",
            "Doge: 10.0\n",
            "Doge: 10.0\n",
            "Doge: 10.0\n",
            "Polkadot: 10.0\n",
            "--------------------\n",
            "Total: $30050.0\n",
            "\n",
            "\n"
          ]
        }
      ]
    }
  ]
}