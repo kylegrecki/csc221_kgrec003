{
  "nbformat": 4,
  "nbformat_minor": 0,
  "metadata": {
    "colab": {
      "provenance": [],
      "authorship_tag": "ABX9TyO15sYTY1CYP1pH+3/rVwIi",
      "include_colab_link": true
    },
    "kernelspec": {
      "name": "python3",
      "display_name": "Python 3"
    },
    "language_info": {
      "name": "python"
    }
  },
  "cells": [
    {
      "cell_type": "markdown",
      "metadata": {
        "id": "view-in-github",
        "colab_type": "text"
      },
      "source": [
        "<a href=\"https://colab.research.google.com/github/kylegrecki/csc221_kgrec003/blob/main/Aissignment9.ipynb\" target=\"_parent\"><img src=\"https://colab.research.google.com/assets/colab-badge.svg\" alt=\"Open In Colab\"/></a>"
      ]
    },
    {
      "cell_type": "markdown",
      "source": [
        "Kyle Grecki\n",
        "Assignment 9:"
      ],
      "metadata": {
        "id": "07GlMpHIrQyh"
      }
    },
    {
      "cell_type": "code",
      "source": [
        "# try it yourself 8-2:\n",
        "def favorite_book(book):\n",
        "\n",
        "  print(f\"My favorite book is {book.title()}!\")\n",
        "\n",
        "favorite_book('alice in Wonderland')"
      ],
      "metadata": {
        "colab": {
          "base_uri": "https://localhost:8080/"
        },
        "id": "VESxKgO7rWPE",
        "outputId": "b6e6235c-18d3-44bf-c7c4-dcc76f887a15"
      },
      "execution_count": null,
      "outputs": [
        {
          "output_type": "stream",
          "name": "stdout",
          "text": [
            "My favorite book is Alice In Wonderland!\n"
          ]
        }
      ]
    },
    {
      "cell_type": "code",
      "source": [
        "# try it yourself 8-3:\n",
        "def make_shirt(size, message):\n",
        "  print(f\"\\nI am making a size {size} t-shirt.\")\n",
        "  print(f'that says \"{message}\"')\n",
        "\n",
        "make_shirt('Large', 'I love Plattsburgh')\n",
        "\n",
        "make_shirt(message ='lets go cardinals'.upper(), size= 'Medium' )"
      ],
      "metadata": {
        "colab": {
          "base_uri": "https://localhost:8080/"
        },
        "id": "VzlL5LJ5sOfk",
        "outputId": "dbe38852-fcb8-4307-911a-05360afbadc4"
      },
      "execution_count": null,
      "outputs": [
        {
          "output_type": "stream",
          "name": "stdout",
          "text": [
            "\n",
            "I am making a size Large t-shirt.\n",
            "that says \"I love Plattsburgh\"\n",
            "\n",
            "I am making a size Medium t-shirt.\n",
            "that says \"LETS GO CARDINALS\"\n"
          ]
        }
      ]
    },
    {
      "cell_type": "code",
      "source": [
        "# try it yourself 8-4:\n",
        "def make_shirt(size= 'Large', message= 'I love Python'):\n",
        "  print(f\"\\nI am making a size {size} t-shirt.\")\n",
        "  print(f'that says \"{message}\"')\n",
        "\n",
        "\n",
        "make_shirt()\n",
        "make_shirt(size= 'Medium')\n",
        "make_shirt('Small', 'just do it'.upper())\n"
      ],
      "metadata": {
        "colab": {
          "base_uri": "https://localhost:8080/"
        },
        "id": "iFkDGIClwbO5",
        "outputId": "634233ba-052b-4ff6-e382-adaa0256db2d"
      },
      "execution_count": null,
      "outputs": [
        {
          "output_type": "stream",
          "name": "stdout",
          "text": [
            "\n",
            "I am making a size Large t-shirt.\n",
            "that says \"I love Python\"\n",
            "\n",
            "I am making a size Medium t-shirt.\n",
            "that says \"I love Python\"\n",
            "\n",
            "I am making a size Small t-shirt.\n",
            "that says \"JUST DO IT\"\n"
          ]
        }
      ]
    },
    {
      "cell_type": "code",
      "source": [
        "# try it yourself 8-14:\n",
        "def make_car(manufacturer, model, **options):\n",
        "  \"\"\"Make a dictionary about a car\"\"\"\n",
        "  glossary = {\n",
        "      'manufacturer': manufacturer.title(),\n",
        "      'model': model.title(),\n",
        "  }\n",
        "  for option, value in options.items():\n",
        "    glossary[option] = value\n",
        "\n",
        "\n",
        "  return glossary\n",
        "\n",
        "car1 = make_car('subaru', 'outback', color='blue', tow_package=True)\n",
        "print(car1)\n",
        "\n",
        "car2 = make_car('lamborghini', 'urus', year='2021', color='Space Grey', condition='immaculate' ,leather_seats=True)\n",
        "print(car2)\n",
        "\n",
        "car3 = make_car('Lexus', 'IsF', cylinders='8', RWD=True, color='white', economy_mode=True, year='2020')\n",
        "print(car3)"
      ],
      "metadata": {
        "colab": {
          "base_uri": "https://localhost:8080/"
        },
        "id": "v4HvXlmhxaH7",
        "outputId": "a118e9a2-222a-4bac-bc45-97ef5c5433ba"
      },
      "execution_count": null,
      "outputs": [
        {
          "output_type": "stream",
          "name": "stdout",
          "text": [
            "{'manufacturer': 'Subaru', 'model': 'Outback', 'color': 'blue', 'tow_package': True}\n",
            "{'manufacturer': 'Lamborghini', 'model': 'Urus', 'year': '2021', 'color': 'Space Grey', 'condition': 'immaculate', 'leather_seats': True}\n",
            "{'manufacturer': 'Lexus', 'model': 'Isf', 'cylinders': '8', 'RWD': True, 'color': 'white', 'economy_mode': True, 'year': '2020'}\n"
          ]
        }
      ]
    },
    {
      "cell_type": "code",
      "source": [
        "# question 2:\n",
        "\n",
        "import math\n",
        "def add_numbers(num1, num2=math.pi):\n",
        "\n",
        "  sum = num1 + num2\n",
        "\n",
        "  sorted_numbers = ([num1, num2])\n",
        "  return (sum, sorted_numbers, num1, num2)\n",
        "\n",
        "print(add_numbers(25, 25))\n",
        "\n",
        "print(add_numbers(653, 11))\n",
        "\n",
        "print(add_numbers(100, ))\n",
        "\n",
        "print(add_numbers(543, 654))\n",
        "\n",
        "print(add_numbers(345, ))"
      ],
      "metadata": {
        "colab": {
          "base_uri": "https://localhost:8080/"
        },
        "id": "rU8c1xBlNSxH",
        "outputId": "ca1a0c16-5ef6-4ee3-9782-5d97e5e353ba"
      },
      "execution_count": 20,
      "outputs": [
        {
          "output_type": "stream",
          "name": "stdout",
          "text": [
            "(50, [25, 25], 25, 25)\n",
            "(664, [653, 11], 653, 11)\n",
            "(103.1415926535898, [100, 3.141592653589793], 100, 3.141592653589793)\n",
            "(1197, [543, 654], 543, 654)\n",
            "(348.1415926535898, [345, 3.141592653589793], 345, 3.141592653589793)\n"
          ]
        }
      ]
    },
    {
      "cell_type": "code",
      "source": [
        "# Question 4:\n",
        "import math\n",
        "def add_numbers(num1, verbose, num2=math.pi):\n",
        "\n",
        "  sum = num1 + num2\n",
        "\n",
        "  sorted_numbers = ([num1, num2])\n",
        "\n",
        "  if verbose == False:\n",
        "    return (sum, sorted_numbers)\n",
        "  if verbose == True:\n",
        "    return (sum, sorted_numbers, num1, num2)\n",
        "\n",
        "\n",
        "print(add_numbers(25, True, 25))\n",
        "\n",
        "print(add_numbers(653, True, 11))\n",
        "\n",
        "print(add_numbers(100, True))\n",
        "\n",
        "print(add_numbers(543, False, 654))\n",
        "\n",
        "print(add_numbers(345, False))\n",
        "# inputs to try: 653, True, 11\n",
        "# 100, True\n",
        "# 543, False, 654\n",
        "# 345, False"
      ],
      "metadata": {
        "colab": {
          "base_uri": "https://localhost:8080/"
        },
        "id": "SeuY6KaqMznZ",
        "outputId": "e8522c42-bf99-4894-dc55-b887449d31f8"
      },
      "execution_count": 6,
      "outputs": [
        {
          "output_type": "stream",
          "name": "stdout",
          "text": [
            "(50, [25, 25], 25, 25)\n",
            "(664, [653, 11], 653, 11)\n",
            "(103.1415926535898, [100, 3.141592653589793], 100, 3.141592653589793)\n",
            "(1197, [543, 654])\n",
            "(348.1415926535898, [345, 3.141592653589793])\n"
          ]
        }
      ]
    }
  ]
}