{
  "nbformat": 4,
  "nbformat_minor": 0,
  "metadata": {
    "colab": {
      "provenance": [],
      "include_colab_link": true
    },
    "kernelspec": {
      "name": "python3",
      "display_name": "Python 3"
    },
    "language_info": {
      "name": "python"
    }
  },
  "cells": [
    {
      "cell_type": "markdown",
      "metadata": {
        "id": "view-in-github",
        "colab_type": "text"
      },
      "source": [
        "<a href=\"https://colab.research.google.com/github/kylegrecki/csc221_kgrec003/blob/main/Assignment20.ipynb\" target=\"_parent\"><img src=\"https://colab.research.google.com/assets/colab-badge.svg\" alt=\"Open In Colab\"/></a>"
      ]
    },
    {
      "cell_type": "markdown",
      "source": [
        "# Assignment 20\n",
        "## CSC 221\n",
        "- Kyle Grecki\n",
        "\n",
        "### Instructions:\n",
        "Fill in each code cell below the question. We are following along in Chapter 4 of Python Distilled."
      ],
      "metadata": {
        "id": "IAOUzGWE1eDx"
      }
    },
    {
      "cell_type": "code",
      "execution_count": 1,
      "metadata": {
        "id": "Gnj3su7i5-lx",
        "colab": {
          "base_uri": "https://localhost:8080/"
        },
        "outputId": "fca581ad-37a5-4bae-fb75-46db60b86608"
      },
      "outputs": [
        {
          "output_type": "stream",
          "name": "stdout",
          "text": [
            "19\n",
            "44.5\n",
            "asdfg13\n"
          ]
        }
      ],
      "source": [
        "# 4.1 Essential Concepts\n",
        "\n",
        "# When we write \"a + b\" in Python, the interpreter tries to execute a.__add__(b)\n",
        "\n",
        "# Show that this is true by trying the following:\n",
        "a = 6\n",
        "b = 31.5\n",
        "c = 'asdfg'\n",
        "a1 = a.__add__(13)\n",
        "b1 = b.__add__(13)\n",
        "c1 = c.__add__('13')\n",
        "print(a1)\n",
        "print(b1)\n",
        "print(c1)\n",
        "\n",
        "# What are the types of a, b, and c?\n",
        "# a is a integer\n",
        "# b is a float\n",
        "# c is a string\n",
        "\n",
        "\n",
        "# Explain the results\n",
        "# a1 is adding 13 to 6 giving the result \"19\"\n",
        "# b1 is adding 13 to 31.5 giving the result \"44.5\"\n",
        "# c1 is adding the number 13 to the string 'asdfg' giving the result \"asdfg13\"\n"
      ]
    },
    {
      "cell_type": "code",
      "source": [
        "# 4.2 through 4.4 will be covered in the next assignment\n"
      ],
      "metadata": {
        "id": "w2uYd3DO2do6"
      },
      "execution_count": null,
      "outputs": []
    },
    {
      "cell_type": "code",
      "source": [
        "# 4.5 str and repr\n",
        "# How many categpries of printing are shown below for a datetime object?\n",
        "\n",
        "# string representation (__str__), Representation (__repr__):\n",
        "\n",
        "# What in the Pythion code makes each one get callled?\n",
        "\n",
        "from datetime import date\n",
        "d = date(2023, 11, 7)\n",
        "\n",
        "#print(d) ; print() uses the default string representation (__str__)\n",
        "#print(f'{d}') : f-string implicitly calls the default string representation (__str__)\n",
        "#print(f'{d!s}') : f-string explicitly calls the default string representation (__str__)\n",
        "#print(f'{d!r}') : f-string explicitly calls the repr representation (__repr__)\n",
        "#print(str(d)) : str() function explicitly calls the default string representation (__str__)\n",
        "#print(repr(d)) : repr() function explicitly calls the repr representation (__repr__)\n",
        "#print(d.__str__()) ; Calling __str__ method directly\n",
        "#print(d.__repr__()) ; Calling __repr__ method directly"
      ],
      "metadata": {
        "id": "Aa3ylzmV2wNF"
      },
      "execution_count": null,
      "outputs": []
    },
    {
      "cell_type": "code",
      "source": [
        "# 4.6 First-Class Objects\n",
        "# What is the significance of all objects being \"first-class\" in Python?\n",
        "# the significance of all objects being \"first-class\" in Python is that all objects can be assigned to a name can also be treated as data\n",
        "\n",
        "# Explain by typing in the code to create and use the 'items' dictionary shown in section 4.6.\n",
        "items = {\n",
        "    'number' : 42, #textbook forgot a comma\n",
        "    'text' : \"Hello world\"\n",
        "\n",
        "}\n",
        "items['func'] = abs\n",
        "import math\n",
        "items['mod'] = math\n",
        "items['error'] = ValueError\n",
        "nums = [1, 2, 3 ,4]\n",
        "items['append'] = nums.append\n",
        "print(items)\n",
        "# Explain each of the lines starting with '>>>' in the section.\n",
        "\n",
        "# items['func'](-45) takes the absolute value of -45 which is 45\n",
        "# items['mod'].sqrt(4) takes the square root of 4 and returns the float 2.0\n",
        "try:\n",
        "  x = int('a lot')\n",
        "except items ['error'] as e: # this will do the same thing as ValueError\n",
        "    print('couldnt convert')\n",
        "# items['append'](100) this will add 100 to the nums list giving the output [1,2,3,4,100]\n",
        "#line = 'ACME, 100, 490.10' This is a tuple\n",
        "#collumn_types['string', int, float] this is a list of values holding a string integer and a float\n",
        "# parts = line.split(',') this is splitting the values with a comma\n",
        "# row = [ty(val) for ty, val in zip(column_type, parts)] # this one im having a little trouble fully understanding but i know its taking the values in line and placing them into the new 'column_types' list\n",
        "# row"
      ],
      "metadata": {
        "id": "9LRpP06Vsw6n",
        "colab": {
          "base_uri": "https://localhost:8080/"
        },
        "outputId": "b6cecfdd-c2ea-43ab-f366-c296f89b34c7"
      },
      "execution_count": 13,
      "outputs": [
        {
          "output_type": "stream",
          "name": "stdout",
          "text": [
            "{'number': 42, 'text': 'Hello world', 'func': <built-in function abs>, 'mod': <module 'math' (built-in)>, 'error': <class 'ValueError'>, 'append': <built-in method append of list object at 0x7a538192cbc0>}\n",
            "couldnt convert\n"
          ]
        },
        {
          "output_type": "execute_result",
          "data": {
            "text/plain": [
              "[1, 2, 3, 4, 100]"
            ]
          },
          "metadata": {},
          "execution_count": 13
        }
      ]
    },
    {
      "cell_type": "code",
      "source": [
        "# 4.7 Using None\n",
        "# Write a function that takes two parameters and returns their sum if they are\n",
        "#  integers or returns None if either one is not.\n",
        "\n",
        "# Put in some test code to show that your function work\n",
        "def sum_integers(a, b):\n",
        "    if type(a) == int and type(b) == int:\n",
        "        return a + b\n",
        "    else:\n",
        "      return \"Cannot add strings\"\n",
        "\n",
        "result1 = sum_integers(5, 3)\n",
        "result2 = sum_integers('abc', 3)\n",
        "result3 = sum_integers(82, 6)\n",
        "\n",
        "print(result1)\n",
        "print(result2)\n",
        "print(result3)"
      ],
      "metadata": {
        "id": "dUhRWGnCtewU",
        "colab": {
          "base_uri": "https://localhost:8080/"
        },
        "outputId": "cd7e2205-6f78-4aaa-92ff-1b52fac65727"
      },
      "execution_count": 25,
      "outputs": [
        {
          "output_type": "stream",
          "name": "stdout",
          "text": [
            "8\n",
            "Cannot add strings\n",
            "88\n"
          ]
        }
      ]
    },
    {
      "cell_type": "code",
      "source": [
        "# 4.9 Object Protocol\n",
        "# Create a simple object that has methods for:\n",
        "#  __new__\n",
        "#  __init__\n",
        "#  __del__\n",
        "#  __repr__\n",
        "#  __str__\n",
        "\n",
        "# Put in some test code to show how and when each of these 'magic' functions gets called.\n",
        "\n",
        "class Magic:\n",
        "    def __new__(cls, *args, **kwargs): # creates a new instance\n",
        "        print(\"__new__ method is called\")\n",
        "        instance = super().__new__(cls)\n",
        "        return instance\n",
        "\n",
        "    def __init__(self, name): # initializes the new instance\n",
        "        print(\"__init__ method is called\")\n",
        "        self.name = name\n",
        "\n",
        "    def __del__(self): # this is called to destory or delete an instance\n",
        "        print(\"__del__ method is called\")\n",
        "\n",
        "    def __repr__(self): # this creates a string representaion\n",
        "        return f\"Magic('{self.name}')\"\n",
        "\n",
        "    def __str__(self): # this creates a more readable string in the object\n",
        "        return f\"Trick with name: {self.name}\"\n",
        "\n",
        "print(\"Creating Magic:\")\n",
        "obj = Magic(\"TestObject\")\n",
        "\n",
        "print(\"\\nPrinting Magic:\")\n",
        "print(obj)\n",
        "\n",
        "print(\"\\nRepr representation:\")\n",
        "print(repr(obj))\n",
        "\n",
        "print(\"\\nDeleting Magic:\")\n",
        "del obj"
      ],
      "metadata": {
        "id": "4M-CQevEt2xQ",
        "colab": {
          "base_uri": "https://localhost:8080/"
        },
        "outputId": "ab9043b7-5815-46e2-e7cc-0bedbfd35a71"
      },
      "execution_count": 33,
      "outputs": [
        {
          "output_type": "stream",
          "name": "stdout",
          "text": [
            "Creating Magic:\n",
            "__new__ method is called\n",
            "__init__ method is called\n",
            "\n",
            "Printing Magic:\n",
            "Trick with name: TestObject\n",
            "\n",
            "Repr representation:\n",
            "Magic('TestObject')\n",
            "\n",
            "Deleting Magic:\n",
            "__del__ method is called\n"
          ]
        }
      ]
    }
  ]
}