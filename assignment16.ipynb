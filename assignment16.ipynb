{
  "nbformat": 4,
  "nbformat_minor": 0,
  "metadata": {
    "colab": {
      "provenance": [],
      "authorship_tag": "ABX9TyP6fm4IMLPh7SZkQRYua9JM",
      "include_colab_link": true
    },
    "kernelspec": {
      "name": "python3",
      "display_name": "Python 3"
    },
    "language_info": {
      "name": "python"
    }
  },
  "cells": [
    {
      "cell_type": "markdown",
      "metadata": {
        "id": "view-in-github",
        "colab_type": "text"
      },
      "source": [
        "<a href=\"https://colab.research.google.com/github/kylegrecki/csc221_kgrec003/blob/main/assignment16.ipynb\" target=\"_parent\"><img src=\"https://colab.research.google.com/assets/colab-badge.svg\" alt=\"Open In Colab\"/></a>"
      ]
    },
    {
      "cell_type": "markdown",
      "source": [
        "Python Distilled chapter 1"
      ],
      "metadata": {
        "id": "Fc-9i7IHmEEH"
      }
    },
    {
      "cell_type": "code",
      "execution_count": 97,
      "metadata": {
        "colab": {
          "base_uri": "https://localhost:8080/"
        },
        "id": "ao5-jVuahEa2",
        "outputId": "4f8ede4e-f7e4-4979-d596-6e4b92fb6ff4"
      },
      "outputs": [
        {
          "output_type": "stream",
          "name": "stdout",
          "text": [
            "Hello World\n"
          ]
        }
      ],
      "source": [
        "#1.1 running python\n",
        "# There are many ways to run a python program but it all comes down to these few steps; You type a command and when/if it is inputed correctly you will get an output\n",
        "print('Hello World')"
      ]
    },
    {
      "cell_type": "code",
      "source": [
        "#1.1 You can also run a basic calculator thru python\n",
        "19555 + 20967"
      ],
      "metadata": {
        "colab": {
          "base_uri": "https://localhost:8080/"
        },
        "id": "ELZ9UAY5nxtr",
        "outputId": "d3007e63-69fb-4ab6-94b4-ba53c51afbdf"
      },
      "execution_count": 98,
      "outputs": [
        {
          "output_type": "execute_result",
          "data": {
            "text/plain": [
              "40522"
            ]
          },
          "metadata": {},
          "execution_count": 98
        }
      ]
    },
    {
      "cell_type": "code",
      "source": [
        "5680.4 + 3472 + 4830.6"
      ],
      "metadata": {
        "colab": {
          "base_uri": "https://localhost:8080/"
        },
        "id": "NBNSIBBusbsF",
        "outputId": "5eb84559-ece0-4767-d048-1dc440fd4da0"
      },
      "execution_count": 99,
      "outputs": [
        {
          "output_type": "execute_result",
          "data": {
            "text/plain": [
              "13983.0"
            ]
          },
          "metadata": {},
          "execution_count": 99
        }
      ]
    },
    {
      "cell_type": "code",
      "source": [
        "#1.2 python programs\n",
        "# You can make programs run repeatedly in python by putting statements in a text file or a .py file\n",
        "# the \"#\" can make a comment that denotes all the characters after the symbol to the end of the line\n"
      ],
      "metadata": {
        "id": "k2YZsostn7cR"
      },
      "execution_count": 100,
      "outputs": []
    },
    {
      "cell_type": "code",
      "source": [
        "#1.3 primitives, variables, expressions\n",
        "# integrers are numbers with no decimal \"3\"\n",
        "# floats are numbers that have a decimal place \"46.54\"\n",
        "# strings are a sequence of characters brought together by enclosing the characters in \"\" or ''\n",
        "# a variable is a character or name that refers to another value: x = 900\n",
        "x = 900\n",
        "print(x)\n",
        "# expression would be a combination of primitaves and operators that return a value\n",
        "initial = 2000\n",
        "rate = 0.75\n",
        "numyears = 3\n",
        "year = 1\n",
        "while year <= numyears: # This will run only if the year is less than the (numyears) which in this case is 3\n",
        "  initial = initial * (0.5 + rate) # this multiplys the initial value by 0.5 and adds the rate (0.75)\n",
        "  print(year, initial)\n",
        "  year += 1 # this will increase the years up until the numyears limit is hit or as long as the year is less than num years"
      ],
      "metadata": {
        "id": "v3SLH5VRpV8P",
        "colab": {
          "base_uri": "https://localhost:8080/"
        },
        "outputId": "3c97945b-bb44-4ace-e407-f6d4546a1fb2"
      },
      "execution_count": 101,
      "outputs": [
        {
          "output_type": "stream",
          "name": "stdout",
          "text": [
            "900\n",
            "1 2500.0\n",
            "2 3125.0\n",
            "3 3906.25\n"
          ]
        }
      ]
    },
    {
      "cell_type": "code",
      "source": [
        "#1.4 arithmetic operators\n",
        "# python has mathmatic operations that are mostly the same in all languages addition, subtraction, division, multiplication is as you would do it on paper\n",
        "# there is also truncating division (//), exponents(**), modulo remainder(x % y), unary plus and minus which makes the integer positive or negative\n",
        "# there is bitmanipulation operators: (x>>y) right shift, (x<<y) left shift, (x & y) bitwise and, (x|y) bitwise or\n",
        "# comparison operators (x != y) means not equal to"
      ],
      "metadata": {
        "id": "ocsgQpewqPaL"
      },
      "execution_count": 102,
      "outputs": []
    },
    {
      "cell_type": "code",
      "source": [
        "#1.5 conditional and control flow\n",
        "# loops are created using while, if and else statements.\n",
        "# pass statement creates an empty clause that will do nothing(what I did in assignment 12)\n",
        "# Break statement stops the loop and moves on to the next part of the function\n",
        "# Continue statement will start the loop over from the beggining"
      ],
      "metadata": {
        "id": "AZAkkPR9t01W"
      },
      "execution_count": 103,
      "outputs": []
    },
    {
      "cell_type": "code",
      "source": [
        "#1.6 text strings\n",
        "# strings are defined by enclosing text in single, double, or triple quotes\n",
        "# an 'f' string is a way to bring in outside expressions into the string that is being called\n",
        "# the 'len' command can be used to print the length of the string\n",
        "# if you want to pull a single character from a string you can use the operator x = y[4]\n",
        "# you can also extract a substring by using the command x[i:j] which would pull the characters in the range of i to k\n",
        "a = 'Hello world'\n",
        "\n",
        "g = a.replace('Hello', 'Hello cruel') # this would replace \"Hello\" with \"Hello cruel\"\n",
        "print(g)"
      ],
      "metadata": {
        "colab": {
          "base_uri": "https://localhost:8080/"
        },
        "id": "glXidPFvvfuW",
        "outputId": "066f64d9-08f4-4f3d-c18c-31b403fb7730"
      },
      "execution_count": 104,
      "outputs": [
        {
          "output_type": "stream",
          "name": "stdout",
          "text": [
            "Hello cruel world\n"
          ]
        }
      ]
    },
    {
      "cell_type": "code",
      "source": [
        "%%file data.txt"
      ],
      "metadata": {
        "colab": {
          "base_uri": "https://localhost:8080/"
        },
        "id": "gcYLzqOVv8ns",
        "outputId": "5e2ed5f2-3161-4852-e809-4b49683947a4"
      },
      "execution_count": 105,
      "outputs": [
        {
          "output_type": "stream",
          "name": "stdout",
          "text": [
            "Overwriting data.txt\n"
          ]
        }
      ]
    },
    {
      "cell_type": "code",
      "source": [
        "# 1.7 file input and output, there are a couple different ways to open and read a file in python\n",
        "with open ('data.txt') as file: # this will open the file titled 'data.txt'\n",
        "  for line in file:\n",
        "    print(line, end='') # this will read and print all the lines in the 'data.txt' file\n",
        "# another method\n",
        "file = open ('data.txt') # this will also open the file without the 'with' command\n",
        "for line in file:\n",
        "  print(line, end='')\n",
        "file.close() # this will close the file but you must call 'close' when using 'with' it will close the file automatically\n",
        "# read(x) will read the file to however many lines you put in read() must be a number"
      ],
      "metadata": {
        "id": "LJOuk3qW0FxU",
        "colab": {
          "base_uri": "https://localhost:8080/"
        },
        "outputId": "f0e0bf98-e48f-4342-cbb3-b656259b5ddb"
      },
      "execution_count": 106,
      "outputs": [
        {
          "output_type": "stream",
          "name": "stdout",
          "text": [
            "  "
          ]
        }
      ]
    },
    {
      "cell_type": "code",
      "source": [
        "# 1.8 lists\n",
        "# lists are a collection of items(strings and numbers) and can be defined by using square brackets[]\n",
        "heros = ['batman', 'spiderman', 'wolverine', 'superman']\n",
        "villans = ['loki', 'joker', 'goblin']\n",
        "print(heros)\n",
        "# lists are ordered by integers starting with 0 and can be called by also using square brackets\n",
        "print(heros[1])\n",
        "a = heros\n",
        "b = villans\n",
        "print(a + b)"
      ],
      "metadata": {
        "colab": {
          "base_uri": "https://localhost:8080/"
        },
        "id": "SBAIRFAQ2zeZ",
        "outputId": "f6ff1eff-ba34-4c0c-ef5e-739a32a1ab44"
      },
      "execution_count": 107,
      "outputs": [
        {
          "output_type": "stream",
          "name": "stdout",
          "text": [
            "['batman', 'spiderman', 'wolverine', 'superman']\n",
            "spiderman\n",
            "['batman', 'spiderman', 'wolverine', 'superman', 'loki', 'joker', 'goblin']\n"
          ]
        }
      ]
    },
    {
      "cell_type": "code",
      "source": [
        "#1.9 tuples\n",
        "# tuples are created by grouping values together in enclosed paranthesis\n",
        "# tuples can hold the same kind of elements, have mixed data in them\n",
        "# elements can be accessed the same way as a list by using a numerical index\n",
        "color_tuple = ('blue', 'red', 'puple', 'pink', 55.5, 1000)\n",
        "print(color_tuple)\n",
        "print(color_tuple[-4])"
      ],
      "metadata": {
        "id": "tUI486AFADxW",
        "colab": {
          "base_uri": "https://localhost:8080/"
        },
        "outputId": "14c73f8f-4516-40ce-ef80-2ec968816e20"
      },
      "execution_count": 108,
      "outputs": [
        {
          "output_type": "stream",
          "name": "stdout",
          "text": [
            "('blue', 'red', 'puple', 'pink', 55.5, 1000)\n",
            "puple\n"
          ]
        }
      ]
    },
    {
      "cell_type": "code",
      "source": [
        "#1.10 sets\n",
        "names1 = { 'kyle', 'chris', 'summer' } # a set can be created by putting a number of values inside curly brackets\n",
        "names2 = set([ 'summer', 'cole', 'jake', 'summer', 'ned']) # when you call this set it will not print out repeating values\n",
        "print(names2)\n",
        "x = set() # will create an empty set under the variable 'x'\n",
        "# new items can be added to a set by using add() or update()\n",
        "names1.add('autum')\n",
        "print(names1)\n",
        "names2.remove('ned') # this will remove values from a set you can also use discard() but discard() will not set off an error if the value is not present remove() will\n",
        "print(names2)"
      ],
      "metadata": {
        "colab": {
          "base_uri": "https://localhost:8080/"
        },
        "id": "7MFooft1Dph2",
        "outputId": "51784cd4-2e35-4909-b60c-7a5c9264cb13"
      },
      "execution_count": 109,
      "outputs": [
        {
          "output_type": "stream",
          "name": "stdout",
          "text": [
            "{'ned', 'cole', 'jake', 'summer'}\n",
            "{'chris', 'autum', 'kyle', 'summer'}\n",
            "{'cole', 'jake', 'summer'}\n"
          ]
        }
      ]
    },
    {
      "cell_type": "code",
      "source": [
        "# 1.11 dictionaries\n",
        "# dictionaries are coordinated by using keys and values\n",
        "company = {\n",
        "    'name' : 'yahoo', # key comes first value comes second\n",
        "    'price' : 500,\n",
        "    'location' : 'WEB'\n",
        "}\n",
        "print(company)"
      ],
      "metadata": {
        "colab": {
          "base_uri": "https://localhost:8080/"
        },
        "id": "AOMfQkorQSTM",
        "outputId": "ab953f65-14f7-4ac3-897a-c75cd2bcfae0"
      },
      "execution_count": 110,
      "outputs": [
        {
          "output_type": "stream",
          "name": "stdout",
          "text": [
            "{'name': 'yahoo', 'price': 500, 'location': 'WEB'}\n"
          ]
        }
      ]
    },
    {
      "cell_type": "code",
      "source": [
        "# 1.11 dictionaries\n",
        "# you can modify what is in your dictionary by doing this\n",
        "company['name'] = 'google'\n",
        "print(company)\n",
        "# you can also look things up in your dictionary like so\n",
        "c = company['price']\n",
        "print(c)\n",
        "syms = company.keys() # this will print the KEYS only in a dictionary\n",
        "print(syms)\n",
        "syms = company.values() # this will print the VALUES only in a dictionary\n",
        "print(syms)"
      ],
      "metadata": {
        "colab": {
          "base_uri": "https://localhost:8080/"
        },
        "id": "vvhyWWToRb30",
        "outputId": "a3b8e63e-9849-4584-ad54-72746aad3a5e"
      },
      "execution_count": 111,
      "outputs": [
        {
          "output_type": "stream",
          "name": "stdout",
          "text": [
            "{'name': 'google', 'price': 500, 'location': 'WEB'}\n",
            "500\n",
            "dict_keys(['name', 'price', 'location'])\n",
            "dict_values(['google', 500, 'WEB'])\n"
          ]
        }
      ]
    },
    {
      "cell_type": "code",
      "source": [
        "#1.12 iteration and looping\n",
        "for x in [5, 6, 7, 8, 9]: # this a list containg numbers 5-9\n",
        "  print(f' 2 to the {x} power is {2**x}') # this is asking for the number 2 to be raised to the x power for all the values of x\n",
        "print()\n",
        "for x in range (5,10): # another way of looping with INTEGERS\n",
        "  print(f' 2 to the {x} power is {2**x}') # this is just another way of the previous example\n",
        "print()\n",
        "for a in range(5): # this will print the integers 0-4\n",
        "  print(a)\n",
        "print()\n",
        "for b in range(0, 15, 3): # this will print the integers 0-14 going up by 3, it stops at the value 12 because the range does not include the last integer\n",
        "  print(b)\n",
        "print()\n",
        "for name in names1: # for statements are not isolated to only integers\n",
        "  print(name)"
      ],
      "metadata": {
        "colab": {
          "base_uri": "https://localhost:8080/"
        },
        "id": "MuoB2h3FU5tm",
        "outputId": "09599ed5-5458-4d9e-de0d-016e77b99e09"
      },
      "execution_count": 112,
      "outputs": [
        {
          "output_type": "stream",
          "name": "stdout",
          "text": [
            " 2 to the 5 power is 32\n",
            " 2 to the 6 power is 64\n",
            " 2 to the 7 power is 128\n",
            " 2 to the 8 power is 256\n",
            " 2 to the 9 power is 512\n",
            "\n",
            " 2 to the 5 power is 32\n",
            " 2 to the 6 power is 64\n",
            " 2 to the 7 power is 128\n",
            " 2 to the 8 power is 256\n",
            " 2 to the 9 power is 512\n",
            "\n",
            "0\n",
            "1\n",
            "2\n",
            "3\n",
            "4\n",
            "\n",
            "0\n",
            "3\n",
            "6\n",
            "9\n",
            "12\n",
            "\n",
            "chris\n",
            "autum\n",
            "kyle\n",
            "summer\n"
          ]
        }
      ]
    },
    {
      "cell_type": "code",
      "source": [
        "#1.13 functions\n",
        "# def is the first part of a function which defines it\n",
        "def add(x, y):\n",
        "  z = x + y # this is asking for the values being defined to add\n",
        "  return z # this returns that value after being added\n",
        "add(5, 10) # this executes the function\n"
      ],
      "metadata": {
        "colab": {
          "base_uri": "https://localhost:8080/"
        },
        "id": "LzGXnXoraQEx",
        "outputId": "de3fcfa9-1550-4c8e-c14d-1e0a41c6b3de"
      },
      "execution_count": 113,
      "outputs": [
        {
          "output_type": "execute_result",
          "data": {
            "text/plain": [
              "15"
            ]
          },
          "metadata": {},
          "execution_count": 113
        }
      ]
    },
    {
      "cell_type": "code",
      "source": [
        "def divide(x, y): # another method of functions by dividing\n",
        "  z = x / y\n",
        "  q = x - z\n",
        "  return (z, q)\n",
        "divide(16, 2)"
      ],
      "metadata": {
        "colab": {
          "base_uri": "https://localhost:8080/"
        },
        "id": "oTkuDrtJfSi4",
        "outputId": "93b8c3c1-5426-4963-9a52-1e59699c8a50"
      },
      "execution_count": 114,
      "outputs": [
        {
          "output_type": "execute_result",
          "data": {
            "text/plain": [
              "(8.0, 8.0)"
            ]
          },
          "metadata": {},
          "execution_count": 114
        }
      ]
    },
    {
      "cell_type": "code",
      "source": [
        "#1.14 exceptions\n",
        "# when errors appear in your code exceptions get raised and you will be given an output of a traceback message, this messge will most likely tell you where your error is\n",
        "# example\n",
        "def int_conversion(value):\n",
        "    try:\n",
        "        result = int(value)\n",
        "        print(\"Conversion successful:\", result)\n",
        "    except ValueError as err:\n",
        "        print(f\"Error: cant convert '{value}' to an integer.\")\n",
        "\n",
        "\n",
        "int_conversion(\"123\")   # Successful\n",
        "int_conversion(\"abc\")   # Error due to non integer input"
      ],
      "metadata": {
        "colab": {
          "base_uri": "https://localhost:8080/"
        },
        "id": "SCu8_YLlfeBl",
        "outputId": "5cbb7fc5-5f88-4b74-b1fc-1d8d7f3d662e"
      },
      "execution_count": 115,
      "outputs": [
        {
          "output_type": "stream",
          "name": "stdout",
          "text": [
            "Conversion successful: 123\n",
            "Error: cant convert 'abc' to an integer.\n"
          ]
        }
      ]
    },
    {
      "cell_type": "code",
      "source": [
        "# 1.15 program termination\n",
        "# raise systemExit() will quit a program with no error message printing\n",
        "# you can add a message inside the parenthesis to quit and print an error message"
      ],
      "metadata": {
        "id": "E545CjV_ms8O"
      },
      "execution_count": 116,
      "outputs": []
    },
    {
      "cell_type": "code",
      "source": [
        "# 1.16 object and classes\n",
        "# all values in a python program are objects\n",
        "# classes are like a blueprint for what you want your program to do and functions will execute that blueprint\n",
        "# there are various methods in python that implement operators such as __init__() which initializes a object\n",
        "# __add__() which will let you use addition operator, __len__() will use the built in len() function and will return the length of an onject\n",
        "# __repr__ which will provide a string represetaion of a object\n",
        "# example from textbook to see it work in collab\n",
        "\n",
        "class Calculator:\n",
        "    def __init__(self):\n",
        "        self._stack = Stack()\n",
        "\n",
        "    def push(self, item):\n",
        "        self._stack.push(item)\n",
        "\n",
        "    def pop(self):\n",
        "        return self._stack.pop()\n",
        "\n",
        "    def add(self):\n",
        "        self.push(self.pop() + self.pop())\n",
        "\n",
        "    def mul(self):\n",
        "        self.push(self.pop() * self.pop())\n",
        "\n",
        "    def sub(self):\n",
        "        right = self.pop()\n",
        "        self.push(self.pop() - right)\n",
        "\n",
        "\n",
        "calculator = Calculator()\n",
        "calculator.push(3)\n",
        "calculator.push(5)\n",
        "calculator.add()\n",
        "print(calculator.pop())"
      ],
      "metadata": {
        "colab": {
          "base_uri": "https://localhost:8080/"
        },
        "id": "rG3PlsaznSk_",
        "outputId": "89a18b0c-a767-4e07-b0de-d19a953df220"
      },
      "execution_count": 117,
      "outputs": [
        {
          "output_type": "stream",
          "name": "stdout",
          "text": [
            "8\n"
          ]
        }
      ]
    },
    {
      "cell_type": "code",
      "source": [
        "#1.17 modules\n",
        "# modules can be used when you are dealing with multiple files to make fixing and accessing them easier\n",
        "# you can create a module by putting statements and definitions(functions, classes, other data) in a file with .py at the end and using the same name as the module\n",
        "# you can use your module at anytime by using import\"filename.py\" this will perform all statements in the file you import from"
      ],
      "metadata": {
        "id": "wsLE0KIgvjcj"
      },
      "execution_count": 118,
      "outputs": []
    },
    {
      "cell_type": "code",
      "source": [
        "# 1.18 script writing\n",
        "# files can be executed as scripts or it can be imported from a library\n",
        "def read_portfolio(filename) # scripts often require a conditional check here it is just labeled as filename\n"
      ],
      "metadata": {
        "id": "_lCHXJ3tzrmo"
      },
      "execution_count": null,
      "outputs": []
    },
    {
      "cell_type": "code",
      "source": [
        "# 1.19 packages\n",
        "# A package is usually represented by a directory that has a collection of Python modules\n",
        "# The directory should have an __init__.py file, which can be empty or contain some code\n",
        "# you can import modules from a package by using an \"import\" statement\n",
        "# A package can also contain sub packages which also means a package is nested"
      ],
      "metadata": {
        "id": "tw25rCYi2ugO"
      },
      "execution_count": 129,
      "outputs": []
    },
    {
      "cell_type": "code",
      "source": [
        "# 1.20 strucuring an application\n",
        "# when working with large amounts of code and data managing can be crucial\n",
        "# I find VS CODE to be most helpful with sorting directories and modules its easier to store and see all the\n",
        "# .py files.\n",
        "# you should structure it with a unique name for the most important directory\n",
        "# the whole point of this is so your code is unique to you and does not look like anyone elses"
      ],
      "metadata": {
        "id": "vBLoJAlXMCQN"
      },
      "execution_count": null,
      "outputs": []
    },
    {
      "cell_type": "code",
      "source": [
        "# 1.21 managing third party packages\n",
        "# the command \"pip\" can allow you to install third party packages\n",
        "%%python3 -m pip install somepackage # this is an example of how you can install third party packages\n",
        "# sandboxes are helpful to use when you dont want to overwrite any previous installations of python\n",
        "# this will prevent anything from breaking what was already installed"
      ],
      "metadata": {
        "colab": {
          "base_uri": "https://localhost:8080/"
        },
        "id": "D07RfDCWO9C-",
        "outputId": "1a1f7009-76b2-497f-e2b4-8d8770aebe77"
      },
      "execution_count": 134,
      "outputs": [
        {
          "output_type": "stream",
          "name": "stdout",
          "text": [
            "Collecting somepackage\n",
            "  Downloading somepackage-1.2.3.tar.gz (8.6 kB)\n",
            "  Preparing metadata (setup.py): started\n",
            "  Preparing metadata (setup.py): finished with status 'done'\n",
            "Building wheels for collected packages: somepackage\n",
            "  Building wheel for somepackage (setup.py): started\n",
            "  Building wheel for somepackage (setup.py): finished with status 'done'\n",
            "  Created wheel for somepackage: filename=somepackage-1.2.3-py3-none-any.whl size=9280 sha256=f203bd61e1005f573bea2c9392048fe71334790f05d4e087a18ab85ea3b7e058\n",
            "  Stored in directory: /root/.cache/pip/wheels/2c/9e/c0/914c82167ec8a532e4d2a9eebdcd43845c58de9e830c27597c\n",
            "Successfully built somepackage\n",
            "Installing collected packages: somepackage\n",
            "Successfully installed somepackage-1.2.3\n"
          ]
        }
      ]
    }
  ]
}