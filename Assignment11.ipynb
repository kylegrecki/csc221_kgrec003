{
  "nbformat": 4,
  "nbformat_minor": 0,
  "metadata": {
    "colab": {
      "provenance": [],
      "authorship_tag": "ABX9TyOmtYREg5QxpnYCXVYx0AWE",
      "include_colab_link": true
    },
    "kernelspec": {
      "name": "python3",
      "display_name": "Python 3"
    },
    "language_info": {
      "name": "python"
    }
  },
  "cells": [
    {
      "cell_type": "markdown",
      "metadata": {
        "id": "view-in-github",
        "colab_type": "text"
      },
      "source": [
        "<a href=\"https://colab.research.google.com/github/kylegrecki/csc221_kgrec003/blob/main/Assignment11.ipynb\" target=\"_parent\"><img src=\"https://colab.research.google.com/assets/colab-badge.svg\" alt=\"Open In Colab\"/></a>"
      ]
    },
    {
      "cell_type": "markdown",
      "source": [
        "Kyle Grecki                                                             \n",
        "\n",
        "\n",
        "\n",
        "\n",
        "Assignment 11"
      ],
      "metadata": {
        "id": "SKjgwLYGtEP_"
      }
    },
    {
      "cell_type": "markdown",
      "source": [
        "Examples involving dogs and cars:"
      ],
      "metadata": {
        "id": "SFLxzY-BtdmX"
      }
    },
    {
      "cell_type": "code",
      "execution_count": null,
      "metadata": {
        "id": "zHyhYHVBs4eN"
      },
      "outputs": [],
      "source": [
        "class Dog:\n",
        "  \"\"\"a simple attempt to model a dog\"\"\"\n",
        "\n",
        "  def __init__(self, name, age):\n",
        "    \"\"\"Initialize name and age attributes\"\"\"\n",
        "    self.name = name\n",
        "    self.age = age\n",
        "\n",
        "  def sit(self):\n",
        "    \"\"\"Simulate a dog sitting in response to a command\"\"\"\n",
        "    print(f\"{self.name} is now sitting.\")\n",
        "\n",
        "  def roll_over(self):\n",
        "    \"\"\"simulate rolling over in response to a command\"\"\"\n",
        "    print(f\"{self.name} rolled over!\")"
      ]
    },
    {
      "cell_type": "code",
      "source": [
        "my_dog = Dog('Willie', 6)\n",
        "\n",
        "print(f\"My dog's name is {my_dog.name}.\")\n",
        "print(f\"My dog is {my_dog.age} years old.\")"
      ],
      "metadata": {
        "colab": {
          "base_uri": "https://localhost:8080/"
        },
        "id": "7wRkOLIPzsyB",
        "outputId": "325bec58-f03e-462c-f78b-a1bc93913134"
      },
      "execution_count": null,
      "outputs": [
        {
          "output_type": "stream",
          "name": "stdout",
          "text": [
            "My dog's name is Willie.\n",
            "My dog is 6 years old.\n"
          ]
        }
      ]
    },
    {
      "cell_type": "code",
      "source": [
        "my_dog.name"
      ],
      "metadata": {
        "colab": {
          "base_uri": "https://localhost:8080/",
          "height": 35
        },
        "id": "9ciDUQFY0QFw",
        "outputId": "bbdc541b-f729-40c2-cdda-de110098500a"
      },
      "execution_count": null,
      "outputs": [
        {
          "output_type": "execute_result",
          "data": {
            "text/plain": [
              "'Willie'"
            ],
            "application/vnd.google.colaboratory.intrinsic+json": {
              "type": "string"
            }
          },
          "metadata": {},
          "execution_count": 3
        }
      ]
    },
    {
      "cell_type": "code",
      "source": [
        "my_dog.sit()\n",
        "my_dog.roll_over()"
      ],
      "metadata": {
        "colab": {
          "base_uri": "https://localhost:8080/"
        },
        "id": "FrWrIDyk0gsP",
        "outputId": "2f338dd4-b3d0-45dc-b401-69a292bafb4a"
      },
      "execution_count": null,
      "outputs": [
        {
          "output_type": "stream",
          "name": "stdout",
          "text": [
            "Willie is now sitting.\n",
            "Willie rolled over!\n"
          ]
        }
      ]
    },
    {
      "cell_type": "code",
      "source": [
        "your_dog = Dog('lucy', 3)\n",
        "\n",
        "print(f\"My dog's name is {my_dog.name}.\")\n",
        "print(f\"My dog is {my_dog.age} years old.\")\n",
        "my_dog.sit()\n",
        "\n",
        "print(f\"\\nYour dog's name is {your_dog.name}.\")\n",
        "print(f\"Your dog is {your_dog.age} years old.\")\n",
        "your_dog.sit()"
      ],
      "metadata": {
        "colab": {
          "base_uri": "https://localhost:8080/"
        },
        "id": "Mk_7wY1k09uI",
        "outputId": "bcf3d5f8-e050-4a0e-d0fd-707234a00500"
      },
      "execution_count": null,
      "outputs": [
        {
          "output_type": "stream",
          "name": "stdout",
          "text": [
            "My dog's name is Willie.\n",
            "My dog is 6 years old.\n",
            "Willie is now sitting.\n",
            "\n",
            "Your dog's name is lucy.\n",
            "Your dog is 3 years old.\n",
            "lucy is now sitting.\n"
          ]
        }
      ]
    },
    {
      "cell_type": "code",
      "source": [
        "# try it yourself 9-1\n",
        "class Restaurant:\n",
        "  \"\"\"a class that represents a restaurant\"\"\"\n",
        "\n",
        "  def __init__(self, name, type):\n",
        "    self.name = name\n",
        "    self.type = type\n",
        "\n",
        "  def describe_restaurant(self):\n",
        "    print(f\"\\n{self.name} serves great {self.type}!\")\n",
        "\n",
        "  def open_restaurant(self):\n",
        "    print(f\"\\n{self.name} is open and ready for orders!\")\n",
        "\n",
        "restaurant = Restaurant('Carmines', 'Italian')\n",
        "print(restaurant.name)\n",
        "print(restaurant.type)\n",
        "\n",
        "restaurant.describe_restaurant()\n",
        "restaurant.open_restaurant()"
      ],
      "metadata": {
        "colab": {
          "base_uri": "https://localhost:8080/"
        },
        "id": "7DipF3i32Q8x",
        "outputId": "47196bfa-0a26-4684-9820-403e55f0b407"
      },
      "execution_count": null,
      "outputs": [
        {
          "output_type": "stream",
          "name": "stdout",
          "text": [
            "Carmines\n",
            "Italian\n",
            "\n",
            "Carmines serves great Italian!\n",
            "\n",
            "Carmines is open and ready for orders!\n"
          ]
        }
      ]
    },
    {
      "cell_type": "code",
      "source": [
        "# try it yourself 9-2\n",
        "class Restaurant:\n",
        "  \"\"\"a class that represents a restaurant\"\"\"\n",
        "\n",
        "  def __init__(self, name, type):\n",
        "    self.name = name\n",
        "    self.type = type\n",
        "\n",
        "  def describe_restaurant(self):\n",
        "    print(f\"\\n{self.name} serves great {self.type} food.\")\n",
        "\n",
        "  def open_restaurant(self):\n",
        "    print(f\"\\n{self.name} is open and ready for orders!\")\n",
        "\n",
        "Carmines = Restaurant('Carmines', 'Italian')\n",
        "Carmines.describe_restaurant()\n",
        "\n",
        "Prime = Restaurant('Prime', 'American')\n",
        "Prime.describe_restaurant()\n",
        "\n",
        "Gasho = Restaurant('Gasho', 'hibachi')\n",
        "Gasho.describe_restaurant()"
      ],
      "metadata": {
        "colab": {
          "base_uri": "https://localhost:8080/"
        },
        "id": "3uxV80al5pIF",
        "outputId": "3ebbd445-fda9-4465-f265-2df13f0cc0dd"
      },
      "execution_count": null,
      "outputs": [
        {
          "output_type": "stream",
          "name": "stdout",
          "text": [
            "\n",
            "Carmines serves great Italian food.\n",
            "\n",
            "Prime serves great American food.\n",
            "\n",
            "Gasho serves great hibachi food.\n"
          ]
        }
      ]
    },
    {
      "cell_type": "code",
      "source": [
        "#try it yourself 9-3\n",
        "class Users:\n",
        "  \"\"\"a class that represents a user\"\"\"\n",
        "\n",
        "  def __init__(self, first_name, last_name, username, email, location):\n",
        "    self.first_name = first_name.title()\n",
        "    self.last_name = last_name.title()\n",
        "    self.username = username\n",
        "    self.email = email\n",
        "    self.location = location.title()\n",
        "\n",
        "  def describe_user(self):\n",
        "    print(f\"\\n{self.first_name} {self.last_name}\")\n",
        "    print(f\"   Username: {self.username}\")\n",
        "    print(f\"   Email: {self.email}\")\n",
        "    print(f\"   Location: {self.location}\")\n",
        "\n",
        "  def greet_user(self):\n",
        "    print(f\"\\nWelcome back {self.username}! \")\n",
        "\n",
        "kyle = Users('kyle', 'grecki', 'kgrecki999', 'kgrecki000@yahoo.com', 'new york')\n",
        "kyle.describe_user()\n",
        "kyle.greet_user()\n",
        "\n",
        "cole = Users('cole', 'grecki', 'cgrecky01', 'cgrecky08@icloud.com', 'california')\n",
        "cole.describe_user()\n",
        "cole.greet_user()\n"
      ],
      "metadata": {
        "colab": {
          "base_uri": "https://localhost:8080/"
        },
        "id": "CclLGmOd7HnX",
        "outputId": "e3daf022-bcf0-49e8-c301-c1fb13a5d989"
      },
      "execution_count": null,
      "outputs": [
        {
          "output_type": "stream",
          "name": "stdout",
          "text": [
            "\n",
            "Kyle Grecki\n",
            "   Username: kgrecki999\n",
            "   Email: kgrecki000@yahoo.com\n",
            "   Location: New York\n",
            "\n",
            "Welcome back kgrecki999! \n",
            "\n",
            "Cole Grecki\n",
            "   Username: cgrecky01\n",
            "   Email: cgrecky08@icloud.com\n",
            "   Location: California\n",
            "\n",
            "Welcome back cgrecky01! \n"
          ]
        }
      ]
    },
    {
      "cell_type": "code",
      "source": [
        "# textbook example The Car Class\n",
        "class Car:\n",
        "  \"\"\"A simple attempt to represent a car.\"\"\"\n",
        "\n",
        "  def __init__(self, make, model, year):\n",
        "    \"\"\"Initialize attributes to describe a car.\"\"\"\n",
        "    self.make = make\n",
        "    self.model = model\n",
        "    self.year = year\n",
        "\n",
        "  def get_descriptive_name(self):\n",
        "    \"\"\"Return a neatly formatted descriptive name.\"\"\"\n",
        "    long_name = f\"{self.year} {self.make} {self.model}\"\n",
        "    return long_name.title()\n",
        "\n",
        "my_new_car = Car('audi', 'a4', '2024')\n",
        "print(my_new_car.get_descriptive_name())"
      ],
      "metadata": {
        "colab": {
          "base_uri": "https://localhost:8080/"
        },
        "id": "tOi5NpHeAD1W",
        "outputId": "586424a4-9d8f-4cc6-ea69-6f3ca5fe1f6e"
      },
      "execution_count": null,
      "outputs": [
        {
          "output_type": "stream",
          "name": "stdout",
          "text": [
            "2024 Audi A4\n"
          ]
        }
      ]
    },
    {
      "cell_type": "code",
      "source": [
        "# textbook example Setting a Default Value for an Attribute\n",
        "\n",
        "class Car:\n",
        "  \"\"\"A simple attempt to represent a car.\"\"\"\n",
        "\n",
        "  def __init__(self, make, model, year):\n",
        "    \"\"\"Initialize attributes to describe a car.\"\"\"\n",
        "    self.make = make\n",
        "    self.model = model\n",
        "    self.year = year\n",
        "    self.odometer_reading = 0\n",
        "\n",
        "  def get_descriptive_name(self):\n",
        "    \"\"\"Return a neatly formatted descriptive name.\"\"\"\n",
        "    long_name = f\"{self.year} {self.make} {self.model}\"\n",
        "    return long_name.title()\n",
        "\n",
        "  def read_odometer(self):\n",
        "    \"\"\"Print a statement showing the car's mileage.\"\"\"\n",
        "    print(f\"This car has {self.odometer_reading} miles on it.\")\n",
        "\n",
        "my_new_car = Car('audi', 'a4', '2024')\n",
        "print(my_new_car.get_descriptive_name())\n",
        "my_new_car.read_odometer()"
      ],
      "metadata": {
        "colab": {
          "base_uri": "https://localhost:8080/"
        },
        "id": "ed6HSTXaBkEC",
        "outputId": "854914d3-09f8-48e6-c360-396fc31bb02d"
      },
      "execution_count": null,
      "outputs": [
        {
          "output_type": "stream",
          "name": "stdout",
          "text": [
            "2024 Audi A4\n",
            "This car has 0 miles on it.\n"
          ]
        }
      ]
    },
    {
      "cell_type": "code",
      "source": [
        "# textbook example Modifying an Attribute’s Value Directly\n",
        "class Car:\n",
        "  \"\"\"A simple attempt to represent a car.\"\"\"\n",
        "\n",
        "  def __init__(self, make, model, year):\n",
        "    \"\"\"Initialize attributes to describe a car.\"\"\"\n",
        "    self.make = make\n",
        "    self.model = model\n",
        "    self.year = year\n",
        "    self.odometer_reading = 0\n",
        "\n",
        "  def get_descriptive_name(self):\n",
        "    \"\"\"Return a neatly formatted descriptive name.\"\"\"\n",
        "    long_name = f\"{self.year} {self.make} {self.model}\"\n",
        "    return long_name.title()\n",
        "\n",
        "  def read_odometer(self):\n",
        "    \"\"\"Print a statement showing the car's mileage.\"\"\"\n",
        "    print(f\"This car has {self.odometer_reading} miles on it.\")\n",
        "\n",
        "my_new_car = Car('audi', 'a4', '2024')\n",
        "print(my_new_car.get_descriptive_name())\n",
        "\n",
        "my_new_car.odometer_reading = 23\n",
        "my_new_car.read_odometer()"
      ],
      "metadata": {
        "colab": {
          "base_uri": "https://localhost:8080/"
        },
        "id": "GudFJ5wdCWUC",
        "outputId": "ddb26861-3b0d-4966-e0ee-9f860f90a4f2"
      },
      "execution_count": null,
      "outputs": [
        {
          "output_type": "stream",
          "name": "stdout",
          "text": [
            "2024 Audi A4\n",
            "This car has 23 miles on it.\n"
          ]
        }
      ]
    },
    {
      "cell_type": "code",
      "source": [
        "# textbook example Modifying an Attribute’s Value Through a Method\n",
        "class Car:\n",
        "  \"\"\"A simple attempt to represent a car.\"\"\"\n",
        "\n",
        "  def __init__(self, make, model, year):\n",
        "    \"\"\"Initialize attributes to describe a car.\"\"\"\n",
        "    self.make = make\n",
        "    self.model = model\n",
        "    self.year = year\n",
        "    self.odometer_reading = 0\n",
        "\n",
        "  def get_descriptive_name(self):\n",
        "    \"\"\"Return a neatly formatted descriptive name.\"\"\"\n",
        "    long_name = f\"{self.year} {self.make} {self.model}\"\n",
        "    return long_name.title()\n",
        "\n",
        "  def read_odometer(self):\n",
        "    \"\"\"Print a statement showing the car's mileage.\"\"\"\n",
        "    print(f\"This car has {self.odometer_reading} miles on it.\")\n",
        "\n",
        "  def update_odometer(self, mileage):\n",
        "      \"\"\"Set the odometer reading to the given value.\"\"\"\n",
        "      self.odometer_reading = mileage\n",
        "\n",
        "my_new_car = Car('audi', 'a4', '2024')\n",
        "print(my_new_car.get_descriptive_name())\n",
        "\n",
        "my_new_car.update_odometer(23)\n",
        "my_new_car.read_odometer()"
      ],
      "metadata": {
        "colab": {
          "base_uri": "https://localhost:8080/"
        },
        "id": "bhY9eYoADGsR",
        "outputId": "39ca4551-3215-427d-ecce-73dde325f066"
      },
      "execution_count": null,
      "outputs": [
        {
          "output_type": "stream",
          "name": "stdout",
          "text": [
            "2024 Audi A4\n",
            "This car has 23 miles on it.\n"
          ]
        }
      ]
    },
    {
      "cell_type": "code",
      "source": [
        "# textbook example Modifying an Attribute’s Value Through a Method EXTENDED\n",
        "class Car:\n",
        "  \"\"\"A simple attempt to represent a car.\"\"\"\n",
        "\n",
        "  def __init__(self, make, model, year):\n",
        "    \"\"\"Initialize attributes to describe a car.\"\"\"\n",
        "    self.make = make\n",
        "    self.model = model\n",
        "    self.year = year\n",
        "    self.odometer_reading = 0\n",
        "\n",
        "  def get_descriptive_name(self):\n",
        "    \"\"\"Return a neatly formatted descriptive name.\"\"\"\n",
        "    long_name = f\"{self.year} {self.make} {self.model}\"\n",
        "    return long_name.title()\n",
        "\n",
        "  def read_odometer(self):\n",
        "    \"\"\"Print a statement showing the car's mileage.\"\"\"\n",
        "    print(f\"This car has {self.odometer_reading} miles on it.\")\n",
        "\n",
        "  def update_odometer(self, mileage):\n",
        "    \"\"\"Set the odometer reading to the given value.\n",
        "          Reject the change if it attempts to roll the odometer back.\n",
        "          \"\"\"\n",
        "    if mileage >= self.odometer_reading:\n",
        "      self.odometer_reading = mileage\n",
        "    else:\n",
        "      print(\"You can't roll back an odometer!\")\n",
        "\n",
        "\n",
        "my_new_car = Car('audi', 'a4', '2024')\n",
        "print(my_new_car.get_descriptive_name())\n",
        "\n",
        "my_new_car.update_odometer(23)\n",
        "my_new_car.read_odometer()"
      ],
      "metadata": {
        "colab": {
          "base_uri": "https://localhost:8080/"
        },
        "id": "z_WZ7kcIES6O",
        "outputId": "cf2eb9ba-f4d9-426c-bdfc-db7d13570c2d"
      },
      "execution_count": null,
      "outputs": [
        {
          "output_type": "stream",
          "name": "stdout",
          "text": [
            "2024 Audi A4\n",
            "This car has 23 miles on it.\n"
          ]
        }
      ]
    },
    {
      "cell_type": "code",
      "source": [
        "# example Incrementing an Attribute’s Value Through a Method\n",
        "class Car:\n",
        "  \"\"\"A simple attempt to represent a car.\"\"\"\n",
        "\n",
        "  def __init__(self, make, model, year):\n",
        "    \"\"\"Initialize attributes to describe a car.\"\"\"\n",
        "    self.make = make\n",
        "    self.model = model\n",
        "    self.year = year\n",
        "    self.odometer_reading = 0\n",
        "\n",
        "  def get_descriptive_name(self):\n",
        "    \"\"\"Return a neatly formatted descriptive name.\"\"\"\n",
        "    long_name = f\"{self.year} {self.make} {self.model}\"\n",
        "    return long_name.title()\n",
        "\n",
        "  def read_odometer(self):\n",
        "    \"\"\"Print a statement showing the car's mileage.\"\"\"\n",
        "    print(f\"This car has {self.odometer_reading} miles on it.\")\n",
        "\n",
        "  def update_odometer(self, mileage):\n",
        "    \"\"\"Set the odometer reading to the given value.\n",
        "          Reject the change if it attempts to roll the odometer back.\n",
        "          \"\"\"\n",
        "    if mileage >= self.odometer_reading:\n",
        "      self.odometer_reading = mileage\n",
        "    else:\n",
        "      print(\"You can't roll back an odometer!\")\n",
        "\n",
        "  def increment_odometer(self, miles):\n",
        "    \"\"\"Add the given amount to the odometer reading.\"\"\"\n",
        "    self.odometer_reading += miles\n",
        "\n",
        "my_used_car = Car('subaru', 'outback', 2019)\n",
        "print(my_used_car.get_descriptive_name())\n",
        "\n",
        "my_used_car.update_odometer(23_000)\n",
        "my_used_car.read_odometer()\n",
        "\n",
        "my_used_car.increment_odometer(100)\n",
        "my_used_car.read_odometer()\n"
      ],
      "metadata": {
        "colab": {
          "base_uri": "https://localhost:8080/"
        },
        "id": "CDnA-lxmGZMk",
        "outputId": "460a509b-75f6-4ae3-ade8-f04591426228"
      },
      "execution_count": null,
      "outputs": [
        {
          "output_type": "stream",
          "name": "stdout",
          "text": [
            "2019 Subaru Outback\n",
            "This car has 23000 miles on it.\n",
            "This car has 23100 miles on it.\n"
          ]
        }
      ]
    },
    {
      "cell_type": "code",
      "source": [
        "# example Incrementing an Attribute’s Value Through a Method\n",
        "class Car:\n",
        "  \"\"\"A simple attempt to represent a car.\"\"\"\n",
        "\n",
        "  def __init__(self, make, model, year):\n",
        "    \"\"\"Initialize attributes to describe a car.\"\"\"\n",
        "    self.make = make\n",
        "    self.model = model\n",
        "    self.year = year\n",
        "    self.odometer_reading = 0\n",
        "\n",
        "  def get_descriptive_name(self):\n",
        "    \"\"\"Return a neatly formatted descriptive name.\"\"\"\n",
        "    long_name = f\"{self.year} {self.make} {self.model}\"\n",
        "    return long_name.title()\n",
        "\n",
        "  def read_odometer(self):\n",
        "    \"\"\"Print a statement showing the car's mileage.\"\"\"\n",
        "    print(f\"This car has {self.odometer_reading} miles on it.\")\n",
        "\n",
        "  def update_odometer(self, mileage):\n",
        "    \"\"\"Set the odometer reading to the given value.\n",
        "          Reject the change if it attempts to roll the odometer back.\n",
        "          \"\"\"\n",
        "    if mileage >= self.odometer_reading:\n",
        "      self.odometer_reading = mileage\n",
        "    else:\n",
        "      print(\"You can't roll back an odometer!\")\n",
        "\n",
        "  def increment_odometer(self, miles):\n",
        "    \"\"\"Add the given amount to the odometer reading.\"\"\"\n",
        "    self.odometer_reading += miles\n",
        "\n",
        "my_used_car = Car('subaru', 'outback', 2019)\n",
        "print(my_used_car.get_descriptive_name())\n",
        "\n",
        "my_used_car.update_odometer(23_000)\n",
        "my_used_car.read_odometer()\n",
        "\n",
        "my_used_car.increment_odometer(100)\n",
        "my_used_car.read_odometer()\n",
        "\n",
        "my_used_car.update_odometer(20_000)"
      ],
      "metadata": {
        "colab": {
          "base_uri": "https://localhost:8080/"
        },
        "id": "yEdAIlmbKtqG",
        "outputId": "37282ac9-4a5d-4cdb-ace9-29e99ab861aa"
      },
      "execution_count": null,
      "outputs": [
        {
          "output_type": "stream",
          "name": "stdout",
          "text": [
            "2019 Subaru Outback\n",
            "This car has 23000 miles on it.\n",
            "This car has 23100 miles on it.\n",
            "You can't roll back an odometer!\n"
          ]
        }
      ]
    },
    {
      "cell_type": "code",
      "source": [
        "# example The __init__() Method for a Child Class\n",
        "class Car:\n",
        "  \"\"\"A simple attempt to represent a car.\"\"\"\n",
        "\n",
        "  def __init__(self, make, model, year):\n",
        "    \"\"\"Initialize attributes to describe a car.\"\"\"\n",
        "    self.make = make\n",
        "    self.model = model\n",
        "    self.year = year\n",
        "    self.odometer_reading = 0\n",
        "\n",
        "  def get_descriptive_name(self):\n",
        "    \"\"\"Return a neatly formatted descriptive name.\"\"\"\n",
        "    long_name = f\"{self.year} {self.make} {self.model}\"\n",
        "    return long_name.title()\n",
        "\n",
        "  def read_odometer(self):\n",
        "    \"\"\"Print a statement showing the car's mileage.\"\"\"\n",
        "    print(f\"This car has {self.odometer_reading} miles on it.\")\n",
        "\n",
        "  def update_odometer(self, mileage):\n",
        "    \"\"\"Set the odometer reading to the given value.\n",
        "          Reject the change if it attempts to roll the odometer back.\n",
        "          \"\"\"\n",
        "    if mileage >= self.odometer_reading:\n",
        "      self.odometer_reading = mileage\n",
        "    else:\n",
        "      print(\"You can't roll back an odometer!\")\n",
        "\n",
        "  def increment_odometer(self, miles):\n",
        "    \"\"\"Add the given amount to the odometer reading.\"\"\"\n",
        "    self.odometer_reading += miles\n",
        "\n",
        "class ElectricCar(Car):\n",
        "  \"\"\"Represent aspects of a car, specific to electric vehicles.\"\"\"\n",
        "\n",
        "  def __init__(self, make, model, year):\n",
        "    \"\"\"Initialize attributes of the parent class.\"\"\"\n",
        "    super().__init__(make, model, year)\n",
        "\n",
        "\n",
        "my_leaf = ElectricCar('nissan', 'leaf', 2024)\n",
        "print(my_leaf.get_descriptive_name())"
      ],
      "metadata": {
        "colab": {
          "base_uri": "https://localhost:8080/"
        },
        "id": "pONY_FZUM7hg",
        "outputId": "3280d219-d445-496c-acd0-4d600bc3d404"
      },
      "execution_count": null,
      "outputs": [
        {
          "output_type": "stream",
          "name": "stdout",
          "text": [
            "2024 Nissan Leaf\n"
          ]
        }
      ]
    },
    {
      "cell_type": "code",
      "source": [
        "# example Defining Attributes and Methods for the Child Class\n",
        "class Car:\n",
        "  \"\"\"A simple attempt to represent a car.\"\"\"\n",
        "\n",
        "  def __init__(self, make, model, year):\n",
        "    \"\"\"Initialize attributes to describe a car.\"\"\"\n",
        "    self.make = make\n",
        "    self.model = model\n",
        "    self.year = year\n",
        "    self.odometer_reading = 0\n",
        "\n",
        "  def get_descriptive_name(self):\n",
        "    \"\"\"Return a neatly formatted descriptive name.\"\"\"\n",
        "    long_name = f\"{self.year} {self.make} {self.model}\"\n",
        "    return long_name.title()\n",
        "\n",
        "  def read_odometer(self):\n",
        "    \"\"\"Print a statement showing the car's mileage.\"\"\"\n",
        "    print(f\"This car has {self.odometer_reading} miles on it.\")\n",
        "\n",
        "  def update_odometer(self, mileage):\n",
        "    \"\"\"Set the odometer reading to the given value.\n",
        "          Reject the change if it attempts to roll the odometer back.\n",
        "          \"\"\"\n",
        "    if mileage >= self.odometer_reading:\n",
        "      self.odometer_reading = mileage\n",
        "    else:\n",
        "      print(\"You can't roll back an odometer!\")\n",
        "\n",
        "  def increment_odometer(self, miles):\n",
        "    \"\"\"Add the given amount to the odometer reading.\"\"\"\n",
        "    self.odometer_reading += miles\n",
        "\n",
        "class ElectricCar(Car):\n",
        "  \"\"\"Represent aspects of a car, specific to electric vehicles.\"\"\"\n",
        "\n",
        "  def __init__(self, make, model, year):\n",
        "    \"\"\"Initialize attributes of the parent class.\n",
        "    Then initialize attributes specific to an electric car\n",
        "    \"\"\"\n",
        "    super().__init__(make, model, year)\n",
        "    self.battery_size = 40\n",
        "\n",
        "  def describe_battery(self):\n",
        "    \"\"\"print a statement describing battery size\"\"\"\n",
        "    print(f\"This car has a {self.battery_size}-KWh battery.\")\n",
        "\n",
        "my_leaf = ElectricCar('nissan', 'leaf', 2024)\n",
        "print(my_leaf.get_descriptive_name())\n",
        "my_leaf.describe_battery()"
      ],
      "metadata": {
        "colab": {
          "base_uri": "https://localhost:8080/"
        },
        "id": "uZxkxMVuO-PR",
        "outputId": "0af0168a-a4d0-4bf4-da72-6ce8f0092d7b"
      },
      "execution_count": null,
      "outputs": [
        {
          "output_type": "stream",
          "name": "stdout",
          "text": [
            "2024 Nissan Leaf\n",
            "This car has a 40-KWh battery.\n"
          ]
        }
      ]
    },
    {
      "cell_type": "code",
      "source": [
        "# example Instances as Attributes\n",
        "class Car:\n",
        "  \"\"\"A simple attempt to represent a car.\"\"\"\n",
        "\n",
        "  def __init__(self, make, model, year):\n",
        "    \"\"\"Initialize attributes to describe a car.\"\"\"\n",
        "    self.make = make\n",
        "    self.model = model\n",
        "    self.year = year\n",
        "    self.odometer_reading = 0\n",
        "\n",
        "  def get_descriptive_name(self):\n",
        "    \"\"\"Return a neatly formatted descriptive name.\"\"\"\n",
        "    long_name = f\"{self.year} {self.make} {self.model}\"\n",
        "    return long_name.title()\n",
        "\n",
        "  def read_odometer(self):\n",
        "    \"\"\"Print a statement showing the car's mileage.\"\"\"\n",
        "    print(f\"This car has {self.odometer_reading} miles on it.\")\n",
        "\n",
        "  def update_odometer(self, mileage):\n",
        "    \"\"\"Set the odometer reading to the given value.\n",
        "          Reject the change if it attempts to roll the odometer back.\n",
        "          \"\"\"\n",
        "    if mileage >= self.odometer_reading:\n",
        "      self.odometer_reading = mileage\n",
        "    else:\n",
        "      print(\"You can't roll back an odometer!\")\n",
        "\n",
        "  def increment_odometer(self, miles):\n",
        "    \"\"\"Add the given amount to the odometer reading.\"\"\"\n",
        "    self.odometer_reading += miles\n",
        "\n",
        "class Battery:\n",
        "    \"\"\"A simple attempt to model a battery for an electric car.\"\"\"\n",
        "    def __init__(self, battery_size=40):\n",
        "      \"\"\"Initialize the battery's attributes.\"\"\"\n",
        "      self.battery_size = battery_size\n",
        "\n",
        "    def describe_battery(self):\n",
        "        \"\"\"Print a statement describing the battery size.\"\"\"\n",
        "        print(f\"This car has a {self.battery_size}-kWh battery.\")\n",
        "\n",
        "class ElectricCar(Car):\n",
        "    \"\"\"Represent aspects of a car, specific to electric vehicles.\"\"\"\n",
        "    def __init__(self, make, model, year):\n",
        "        \"\"\"\n",
        "        Initialize attributes of the parent class.\n",
        "        Then initialize attributes specific to an electric car.\n",
        "        \"\"\"\n",
        "        super().__init__(make, model, year)\n",
        "        self.battery = Battery()\n",
        "\n",
        "my_leaf = ElectricCar('nissan', 'leaf', 2024)\n",
        "print(my_leaf.get_descriptive_name())\n",
        "my_leaf.battery.describe_battery()"
      ],
      "metadata": {
        "colab": {
          "base_uri": "https://localhost:8080/"
        },
        "id": "8FRiJK7rP6uz",
        "outputId": "e51f8b14-048a-4bbe-cebd-74751d22f7cd"
      },
      "execution_count": null,
      "outputs": [
        {
          "output_type": "stream",
          "name": "stdout",
          "text": [
            "2024 Nissan Leaf\n",
            "This car has a 40-kWh battery.\n"
          ]
        }
      ]
    },
    {
      "cell_type": "code",
      "source": [
        "# example another method to Battery that reports the range of the car\n",
        "class Car:\n",
        "  \"\"\"A simple attempt to represent a car.\"\"\"\n",
        "\n",
        "  def __init__(self, make, model, year):\n",
        "    \"\"\"Initialize attributes to describe a car.\"\"\"\n",
        "    self.make = make\n",
        "    self.model = model\n",
        "    self.year = year\n",
        "    self.odometer_reading = 0\n",
        "\n",
        "  def get_descriptive_name(self):\n",
        "    \"\"\"Return a neatly formatted descriptive name.\"\"\"\n",
        "    long_name = f\"{self.year} {self.make} {self.model}\"\n",
        "    return long_name.title()\n",
        "\n",
        "  def read_odometer(self):\n",
        "    \"\"\"Print a statement showing the car's mileage.\"\"\"\n",
        "    print(f\"This car has {self.odometer_reading} miles on it.\")\n",
        "\n",
        "  def update_odometer(self, mileage):\n",
        "    \"\"\"Set the odometer reading to the given value.\n",
        "          Reject the change if it attempts to roll the odometer back.\n",
        "          \"\"\"\n",
        "    if mileage >= self.odometer_reading:\n",
        "      self.odometer_reading = mileage\n",
        "    else:\n",
        "      print(\"You can't roll back an odometer!\")\n",
        "\n",
        "  def increment_odometer(self, miles):\n",
        "    \"\"\"Add the given amount to the odometer reading.\"\"\"\n",
        "    self.odometer_reading += miles\n",
        "\n",
        "class Battery:\n",
        "    \"\"\"A simple attempt to model a battery for an electric car.\"\"\"\n",
        "    def __init__(self, battery_size=40):\n",
        "      \"\"\"Initialize the battery's attributes.\"\"\"\n",
        "      self.battery_size = battery_size\n",
        "\n",
        "    def describe_battery(self):\n",
        "        \"\"\"Print a statement describing the battery size.\"\"\"\n",
        "        print(f\"This car has a {self.battery_size}-kWh battery.\")\n",
        "\n",
        "    def get_range(self):\n",
        "          \"\"\"Print a statement about the range this battery provides.\"\"\"\n",
        "          if self.battery_size == 40:\n",
        "              range = 150\n",
        "          elif self.battery_size == 65:\n",
        "              range = 225\n",
        "          print(f\"This car can go about {range} miles on a full charge.\")\n",
        "\n",
        "class ElectricCar(Car):\n",
        "    \"\"\"Represent aspects of a car, specific to electric vehicles.\"\"\"\n",
        "    def __init__(self, make, model, year):\n",
        "        \"\"\"\n",
        "        Initialize attributes of the parent class.\n",
        "        Then initialize attributes specific to an electric car.\n",
        "        \"\"\"\n",
        "        super().__init__(make, model, year)\n",
        "        self.battery = Battery()\n",
        "\n",
        "my_leaf = ElectricCar('nissan', 'leaf', 2024)\n",
        "print(my_leaf.get_descriptive_name())\n",
        "my_leaf.battery.describe_battery()\n",
        "my_leaf.battery.get_range()"
      ],
      "metadata": {
        "colab": {
          "base_uri": "https://localhost:8080/"
        },
        "id": "TA0pR1OCUKRU",
        "outputId": "e8f090a6-0181-482c-a4a9-949d33c70b82"
      },
      "execution_count": null,
      "outputs": [
        {
          "output_type": "stream",
          "name": "stdout",
          "text": [
            "2024 Nissan Leaf\n",
            "This car has a 40-kWh battery.\n",
            "This car can go about 150 miles on a full charge.\n"
          ]
        }
      ]
    },
    {
      "cell_type": "code",
      "source": [
        "# try it yourself 9-6\n",
        "class Restaurant:\n",
        "  \"\"\"a class that represents a restaurant\"\"\"\n",
        "\n",
        "  def __init__(self, name, type):\n",
        "    self.name = name\n",
        "    self.type = type\n",
        "\n",
        "  def describe_restaurant(self):\n",
        "    print(f\"\\n{self.name} serves great {self.type}!\")\n",
        "\n",
        "  def open_restaurant(self):\n",
        "    print(f\"\\n{self.name} is open and ready for orders!\")\n",
        "\n",
        "\n",
        "class IceCreamStand(Restaurant):\n",
        "  \"\"\"Represent an ice cream stand.\"\"\"\n",
        "\n",
        "  def __init__(self, name, type='ice cream'):\n",
        "\n",
        "        super().__init__(name, type)\n",
        "        self.flavors = []\n",
        "\n",
        "  def show_flavors(self):\n",
        "        \"\"\"Display the flavors.\"\"\"\n",
        "        print(\"\\nWe have the following flavors :\")\n",
        "        for flavor in self.flavors:\n",
        "            print(f\"- {flavor.title()}\")\n",
        "\n",
        "\n",
        "freezer = IceCreamStand('The Freezer')\n",
        "freezer.flavors = ['vanilla', 'chocolate', 'black cherry']\n",
        "\n",
        "freezer.describe_restaurant()\n",
        "freezer.show_flavors()"
      ],
      "metadata": {
        "colab": {
          "base_uri": "https://localhost:8080/"
        },
        "id": "nJLEoY-NU9wa",
        "outputId": "385a0baf-43f1-4e4b-c2f9-037082993acb"
      },
      "execution_count": null,
      "outputs": [
        {
          "output_type": "stream",
          "name": "stdout",
          "text": [
            "\n",
            "The Freezer serves great ice cream!\n",
            "\n",
            "We have the following flavors :\n",
            "- Vanilla\n",
            "- Chocolate\n",
            "- Black Cherry\n"
          ]
        }
      ]
    },
    {
      "cell_type": "code",
      "source": [
        "# try it yourself 9-7\n",
        "class Users:\n",
        "  \"\"\"a class that represents a user\"\"\"\n",
        "\n",
        "  def __init__(self, first_name, last_name, username, email, location):\n",
        "    self.first_name = first_name.title()\n",
        "    self.last_name = last_name.title()\n",
        "    self.username = username\n",
        "    self.email = email\n",
        "    self.location = location.title()\n",
        "\n",
        "  def describe_user(self):\n",
        "    print(f\"\\n{self.first_name} {self.last_name}\")\n",
        "    print(f\"   Username: {self.username}\")\n",
        "    print(f\"   Email: {self.email}\")\n",
        "    print(f\"   Location: {self.location}\")\n",
        "\n",
        "  def greet_user(self):\n",
        "    print(f\"\\nWelcome back {self.username}! \")\n",
        "\n",
        "class Admin(Users):\n",
        "  def __init__(self, first_name, last_name, username, email, location):\n",
        "    super().__init__(first_name, last_name, username, email, location)\n",
        "    self.privileges = []\n",
        "\n",
        "  def show_privileges(self):\n",
        "    print(\"\\nPrivileges:\")\n",
        "    for privilege in self.privileges:\n",
        "      print(f\"- {privilege}\")\n",
        "\n",
        "cole = Admin('cole', 'grecki', 'cgrecky01', 'cgrecky08@icloud.com', 'california')\n",
        "cole.describe_user()\n",
        "\n",
        "cole.privileges = [\n",
        "    'can add posts',\n",
        "    'can delete posts',\n",
        "    'can edit posts',\n",
        "    'can ban users',\n",
        "    'can reset passwords'\n",
        "    ]\n",
        "\n",
        "cole.show_privileges()"
      ],
      "metadata": {
        "colab": {
          "base_uri": "https://localhost:8080/"
        },
        "id": "4TBdpLFiYHJU",
        "outputId": "f28d0caf-b143-4772-921a-cfce571ee8d1"
      },
      "execution_count": null,
      "outputs": [
        {
          "output_type": "stream",
          "name": "stdout",
          "text": [
            "\n",
            "Cole Grecki\n",
            "   Username: cgrecky01\n",
            "   Email: cgrecky08@icloud.com\n",
            "   Location: California\n",
            "\n",
            "Privileges:\n",
            "- can add posts\n",
            "- can delete posts\n",
            "- can edit posts\n",
            "- can ban users\n",
            "- can reset passwords\n"
          ]
        }
      ]
    },
    {
      "cell_type": "code",
      "source": [
        "%%file electric_car.py\n",
        "\n",
        "import car\n",
        "class Battery:\n",
        "    \"\"\"A simple attempt to model a battery for an electric car.\"\"\"\n",
        "    def __init__(self, battery_size=40):\n",
        "      \"\"\"Initialize the battery's attributes.\"\"\"\n",
        "      self.battery_size = battery_size\n",
        "\n",
        "    def describe_battery(self):\n",
        "        \"\"\"Print a statement describing the battery size.\"\"\"\n",
        "        print(f\"This car has a {self.battery_size}-kWh battery.\")\n",
        "\n",
        "    def get_range(self):\n",
        "          \"\"\"Print a statement about the range this battery provides.\"\"\"\n",
        "          if self.battery_size == 40:\n",
        "              range = 150\n",
        "          elif self.battery_size == 65:\n",
        "              range = 225\n",
        "          print(f\"This car can go about {range} miles on a full charge.\")\n",
        "\n",
        "class ElectricCar(car.Car):\n",
        "    \"\"\"Represent aspects of a car, specific to electric vehicles.\"\"\"\n",
        "    def __init__(self, make, model, year):\n",
        "        \"\"\"\n",
        "        Initialize attributes of the parent class.\n",
        "        Then initialize attributes specific to an electric car.\n",
        "        \"\"\"\n",
        "        super().__init__(make, model, year)\n",
        "        self.battery = Battery()\n",
        "\n"
      ],
      "metadata": {
        "colab": {
          "base_uri": "https://localhost:8080/"
        },
        "id": "EsJNj-1-t-vE",
        "outputId": "3be6cb14-30c9-434f-cb7e-eecdf7d4adda"
      },
      "execution_count": null,
      "outputs": [
        {
          "output_type": "stream",
          "name": "stdout",
          "text": [
            "Overwriting electric_car.py\n"
          ]
        }
      ]
    },
    {
      "cell_type": "code",
      "source": [
        "# example Importing a Single Class\n",
        "from car import Car\n",
        "my_new_car = Car('audi', 'a4', '2024')\n",
        "print(my_new_car.get_descriptive_name())\n",
        "my_new_car.odometer_reading = 23\n",
        "my_new_car.read_odometer()\n"
      ],
      "metadata": {
        "id": "vJUET63IhyAh",
        "colab": {
          "base_uri": "https://localhost:8080/"
        },
        "outputId": "1d56df16-f1d6-4691-810a-2ad3035e2944"
      },
      "execution_count": null,
      "outputs": [
        {
          "output_type": "stream",
          "name": "stdout",
          "text": [
            "2024 Audi A4\n",
            "This car has 23 miles on it.\n"
          ]
        }
      ]
    },
    {
      "cell_type": "code",
      "source": [
        "from car import Car, ElectricCar\n",
        "\n",
        "my_mustang = Car('ford', 'mustang', 2024)\n",
        "print(my_mustang.get_descriptive_name())\n",
        "\n",
        "my_leaf = ElectricCar('nissan', 'leaf', 2024)\n",
        "print(my_leaf.get_descriptive_name())"
      ],
      "metadata": {
        "colab": {
          "base_uri": "https://localhost:8080/"
        },
        "id": "-VlxWic9-pSF",
        "outputId": "89b9a023-d8cb-46a0-ae39-8baafede507f"
      },
      "execution_count": null,
      "outputs": [
        {
          "output_type": "stream",
          "name": "stdout",
          "text": [
            "2024 Ford Mustang\n",
            "2024 Nissan Leaf\n"
          ]
        }
      ]
    },
    {
      "cell_type": "code",
      "source": [
        "from car import Car, ElectricCar\n",
        "my_mustang = Car('ford', 'mustang', 2024)\n",
        "print(my_mustang.get_descriptive_name())\n",
        "my_leaf = ElectricCar('nissan', 'leaf', 2024)\n",
        "print(my_leaf.get_descriptive_name())"
      ],
      "metadata": {
        "colab": {
          "base_uri": "https://localhost:8080/"
        },
        "id": "jszifBj655Bz",
        "outputId": "4918a552-68ff-4c37-c46c-c99a57ab5ed1"
      },
      "execution_count": null,
      "outputs": [
        {
          "output_type": "stream",
          "name": "stdout",
          "text": [
            "2024 Ford Mustang\n",
            "2024 Nissan Leaf\n"
          ]
        }
      ]
    },
    {
      "cell_type": "code",
      "source": [
        "from car import Car\n",
        "from electric_car import ElectricCar\n",
        "\n",
        "my_mustang = Car('ford', 'mustang', 2024)\n",
        "print(my_mustang.get_descriptive_name())\n",
        "\n",
        "my_leaf = ElectricCar('nissan', 'leaf', 2024)\n",
        "print(my_leaf.get_descriptive_name())"
      ],
      "metadata": {
        "id": "ajAV2A9x_deR",
        "colab": {
          "base_uri": "https://localhost:8080/"
        },
        "outputId": "37a7e082-0ee5-40eb-fdc9-b3d0b0d8898d"
      },
      "execution_count": 37,
      "outputs": [
        {
          "output_type": "stream",
          "name": "stdout",
          "text": [
            "2024 Ford Mustang\n",
            "2024 Nissan Leaf\n"
          ]
        }
      ]
    },
    {
      "cell_type": "code",
      "source": [
        "from electric_car import ElectricCar as EC"
      ],
      "metadata": {
        "id": "eJdhRSk9xmwR"
      },
      "execution_count": 38,
      "outputs": []
    },
    {
      "cell_type": "code",
      "source": [
        "my_leaf = EC('nissan', 'leaf', '2024')"
      ],
      "metadata": {
        "id": "C79pgYce8oir"
      },
      "execution_count": 40,
      "outputs": []
    },
    {
      "cell_type": "code",
      "source": [
        "import electric_car as ec"
      ],
      "metadata": {
        "id": "weyYhsu180lJ"
      },
      "execution_count": 41,
      "outputs": []
    },
    {
      "cell_type": "code",
      "source": [
        "my_leaf = ec.ElectricCar('nissan', 'leaf', '2024')"
      ],
      "metadata": {
        "id": "6xYSOvoA882l"
      },
      "execution_count": 42,
      "outputs": []
    },
    {
      "cell_type": "code",
      "source": [],
      "metadata": {
        "id": "t7Qm7ILi9GnR"
      },
      "execution_count": null,
      "outputs": []
    }
  ]
}