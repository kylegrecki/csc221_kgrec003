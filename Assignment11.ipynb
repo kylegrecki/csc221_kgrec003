{
  "nbformat": 4,
  "nbformat_minor": 0,
  "metadata": {
    "colab": {
      "provenance": [],
      "authorship_tag": "ABX9TyOTMcCIR0zZkEg625LDyNC5",
      "include_colab_link": true
    },
    "kernelspec": {
      "name": "python3",
      "display_name": "Python 3"
    },
    "language_info": {
      "name": "python"
    }
  },
  "cells": [
    {
      "cell_type": "markdown",
      "metadata": {
        "id": "view-in-github",
        "colab_type": "text"
      },
      "source": [
        "<a href=\"https://colab.research.google.com/github/kylegrecki/csc221_kgrec003/blob/main/Assignment11.ipynb\" target=\"_parent\"><img src=\"https://colab.research.google.com/assets/colab-badge.svg\" alt=\"Open In Colab\"/></a>"
      ]
    },
    {
      "cell_type": "markdown",
      "source": [
        "Kyle Grecki                                                             \n",
        "\n",
        "\n",
        "\n",
        "\n",
        "Assignment 11"
      ],
      "metadata": {
        "id": "SKjgwLYGtEP_"
      }
    },
    {
      "cell_type": "markdown",
      "source": [
        "Examples involving dogs and cars:"
      ],
      "metadata": {
        "id": "SFLxzY-BtdmX"
      }
    },
    {
      "cell_type": "code",
      "execution_count": null,
      "metadata": {
        "id": "zHyhYHVBs4eN"
      },
      "outputs": [],
      "source": [
        "class Dog:\n",
        "  \"\"\"a simple attempt to model a dog\"\"\"\n",
        "\n",
        "  def __init__(self, name, age):\n",
        "    \"\"\"Initialize name and age attributes\"\"\"\n",
        "    self.name = name\n",
        "    self.age = age\n",
        "\n",
        "  def sit(self):\n",
        "    \"\"\"Simulate a dog sitting in response to a command\"\"\"\n",
        "    print(f\"{self.name} is now sitting.\")\n",
        "\n",
        "  def roll_over(self):\n",
        "    \"\"\"simulate rolling over in response to a command\"\"\"\n",
        "    print(f\"{self.name} rolled over!\")"
      ]
    },
    {
      "cell_type": "code",
      "source": [
        "my_dog = Dog('Willie', 6)\n",
        "\n",
        "print(f\"My dog's name is {my_dog.name}.\")\n",
        "print(f\"My dog is {my_dog.age} years old.\")"
      ],
      "metadata": {
        "colab": {
          "base_uri": "https://localhost:8080/"
        },
        "id": "7wRkOLIPzsyB",
        "outputId": "0c2fbf7e-0c62-49a0-f27e-47bd890280b8"
      },
      "execution_count": null,
      "outputs": [
        {
          "output_type": "stream",
          "name": "stdout",
          "text": [
            "My dog's name is Willie.\n",
            "My dog is 6 years old.\n"
          ]
        }
      ]
    },
    {
      "cell_type": "code",
      "source": [
        "my_dog.name"
      ],
      "metadata": {
        "colab": {
          "base_uri": "https://localhost:8080/",
          "height": 35
        },
        "id": "9ciDUQFY0QFw",
        "outputId": "4f64d162-7f3d-4aa0-d63e-05669556d4bf"
      },
      "execution_count": null,
      "outputs": [
        {
          "output_type": "execute_result",
          "data": {
            "text/plain": [
              "'Willie'"
            ],
            "application/vnd.google.colaboratory.intrinsic+json": {
              "type": "string"
            }
          },
          "metadata": {},
          "execution_count": 4
        }
      ]
    },
    {
      "cell_type": "code",
      "source": [
        "my_dog.sit()\n",
        "my_dog.roll_over()"
      ],
      "metadata": {
        "colab": {
          "base_uri": "https://localhost:8080/"
        },
        "id": "FrWrIDyk0gsP",
        "outputId": "66f911fa-9f69-4dc1-b041-0ee6f0c75725"
      },
      "execution_count": null,
      "outputs": [
        {
          "output_type": "stream",
          "name": "stdout",
          "text": [
            "Willie is now sitting.\n",
            "Willie rolled over!\n"
          ]
        }
      ]
    },
    {
      "cell_type": "code",
      "source": [
        "your_dog = Dog('lucy', 3)\n",
        "\n",
        "print(f\"My dog's name is {my_dog.name}.\")\n",
        "print(f\"My dog is {my_dog.age} years old.\")\n",
        "my_dog.sit()\n",
        "\n",
        "print(f\"\\nYour dog's name is {your_dog.name}.\")\n",
        "print(f\"Your dog is {your_dog.age} years old.\")\n",
        "your_dog.sit()"
      ],
      "metadata": {
        "colab": {
          "base_uri": "https://localhost:8080/"
        },
        "id": "Mk_7wY1k09uI",
        "outputId": "c8e24201-cbce-4c49-a533-08b3cca7d8f1"
      },
      "execution_count": null,
      "outputs": [
        {
          "output_type": "stream",
          "name": "stdout",
          "text": [
            "My dog's name is Willie.\n",
            "My dog is 6 years old.\n",
            "Willie is now sitting.\n",
            "\n",
            "Your dog's name is lucy.\n",
            "Your dog is 3 years old.\n",
            "lucy is now sitting.\n"
          ]
        }
      ]
    },
    {
      "cell_type": "code",
      "source": [
        "# try it yourself 9-1\n",
        "class Restaurant:\n",
        "  \"\"\"a class that represents a restaurant\"\"\"\n",
        "\n",
        "  def __init__(self, name, type):\n",
        "    self.name = name\n",
        "    self.type = type\n",
        "\n",
        "  def describe_restaurant(self):\n",
        "    print(f\"\\n{self.name} serves great {self.type}!\")\n",
        "\n",
        "  def open_restaurant(self):\n",
        "    print(f\"\\n{self.name} is open and ready for orders!\")\n",
        "\n",
        "restaurant = Restaurant('Carmines', 'Italian')\n",
        "print(restaurant.name)\n",
        "print(restaurant.type)\n",
        "\n",
        "restaurant.describe_restaurant()\n",
        "restaurant.open_restaurant()"
      ],
      "metadata": {
        "colab": {
          "base_uri": "https://localhost:8080/"
        },
        "id": "7DipF3i32Q8x",
        "outputId": "70c777af-c8f2-4635-e6dd-a8e4e980f9be"
      },
      "execution_count": null,
      "outputs": [
        {
          "output_type": "stream",
          "name": "stdout",
          "text": [
            "Carmines\n",
            "Italian\n",
            "\n",
            "Carmines serves great Italian!\n",
            "\n",
            "Carmines is open and ready for orders!\n"
          ]
        }
      ]
    },
    {
      "cell_type": "code",
      "source": [
        "# try it yourself 9-2\n",
        "class Restaurant:\n",
        "  \"\"\"a class that represents a restaurant\"\"\"\n",
        "\n",
        "  def __init__(self, name, type):\n",
        "    self.name = name\n",
        "    self.type = type\n",
        "\n",
        "  def describe_restaurant(self):\n",
        "    print(f\"\\n{self.name} serves great {self.type} food.\")\n",
        "\n",
        "  def open_restaurant(self):\n",
        "    print(f\"\\n{self.name} is open and ready for orders!\")\n",
        "\n",
        "Carmines = Restaurant('Carmines', 'Italian')\n",
        "Carmines.describe_restaurant()\n",
        "\n",
        "Prime = Restaurant('Prime', 'American')\n",
        "Prime.describe_restaurant()\n",
        "\n",
        "Gasho = Restaurant('Gasho', 'hibachi')\n",
        "Gasho.describe_restaurant()"
      ],
      "metadata": {
        "colab": {
          "base_uri": "https://localhost:8080/"
        },
        "id": "3uxV80al5pIF",
        "outputId": "0635cfdc-477d-41a5-bac8-341734e0e3b2"
      },
      "execution_count": null,
      "outputs": [
        {
          "output_type": "stream",
          "name": "stdout",
          "text": [
            "\n",
            "Carmines serves great Italian food.\n",
            "\n",
            "Prime serves great American food.\n",
            "\n",
            "Gasho serves great hibachi food.\n"
          ]
        }
      ]
    },
    {
      "cell_type": "code",
      "source": [
        "#try it yourself 9-3\n",
        "class Users:\n",
        "  \"\"\"a class that represents a user\"\"\"\n",
        "\n",
        "  def __init__(self, first_name, last_name, username, email, location):\n",
        "    self.first_name = first_name.title()\n",
        "    self.last_name = last_name.title()\n",
        "    self.username = username\n",
        "    self.email = email\n",
        "    self.location = location.title()\n",
        "\n",
        "  def describe_user(self):\n",
        "    print(f\"\\n{self.first_name} {self.last_name}\")\n",
        "    print(f\"   Username: {self.username}\")\n",
        "    print(f\"   Email: {self.email}\")\n",
        "    print(f\"   Location: {self.location}\")\n",
        "\n",
        "  def greet_user(self):\n",
        "    print(f\"\\nWelcome back {self.username}! \")\n",
        "\n",
        "kyle = Users('kyle', 'grecki', 'kgrecki999', 'kgrecki000@yahoo.com', 'new york')\n",
        "kyle.describe_user()\n",
        "kyle.greet_user()\n",
        "\n",
        "cole = Users('cole', 'grecki', 'cgrecky01', 'cgrecky08@icloud.com', 'california')\n",
        "cole.describe_user()\n",
        "cole.greet_user()\n"
      ],
      "metadata": {
        "colab": {
          "base_uri": "https://localhost:8080/"
        },
        "id": "CclLGmOd7HnX",
        "outputId": "f53fcea9-36fa-4f98-f8e6-98d92c0edcfc"
      },
      "execution_count": null,
      "outputs": [
        {
          "output_type": "stream",
          "name": "stdout",
          "text": [
            "\n",
            "Kyle Grecki\n",
            "   Username: kgrecki999\n",
            "   Email: kgrecki000@yahoo.com\n",
            "   Location: New York\n",
            "\n",
            "Welcome back kgrecki999! \n",
            "\n",
            "Cole Grecki\n",
            "   Username: cgrecky01\n",
            "   Email: cgrecky08@icloud.com\n",
            "   Location: California\n",
            "\n",
            "Welcome back cgrecky01! \n"
          ]
        }
      ]
    },
    {
      "cell_type": "code",
      "source": [
        "# textbook example The Car Class\n",
        "class Car:\n",
        "  \"\"\"A simple attempt to represent a car.\"\"\"\n",
        "\n",
        "  def __init__(self, make, model, year):\n",
        "    \"\"\"Initialize attributes to describe a car.\"\"\"\n",
        "    self.make = make\n",
        "    self.model = model\n",
        "    self.year = year\n",
        "\n",
        "  def get_descriptive_name(self):\n",
        "    \"\"\"Return a neatly formatted descriptive name.\"\"\"\n",
        "    long_name = f\"{self.year} {self.make} {self.model}\"\n",
        "    return long_name.title()\n",
        "\n",
        "my_new_car = Car('audi', 'a4', '2024')\n",
        "print(my_new_car.get_descriptive_name())"
      ],
      "metadata": {
        "colab": {
          "base_uri": "https://localhost:8080/"
        },
        "id": "tOi5NpHeAD1W",
        "outputId": "ed750cfa-e6d4-49b1-94ea-23c54c986231"
      },
      "execution_count": null,
      "outputs": [
        {
          "output_type": "stream",
          "name": "stdout",
          "text": [
            "2024 Audi A4\n"
          ]
        }
      ]
    },
    {
      "cell_type": "code",
      "source": [
        "# textbook example Setting a Default Value for an Attribute\n",
        "\n",
        "class Car:\n",
        "  \"\"\"A simple attempt to represent a car.\"\"\"\n",
        "\n",
        "  def __init__(self, make, model, year):\n",
        "    \"\"\"Initialize attributes to describe a car.\"\"\"\n",
        "    self.make = make\n",
        "    self.model = model\n",
        "    self.year = year\n",
        "    self.odometer_reading = 0\n",
        "\n",
        "  def get_descriptive_name(self):\n",
        "    \"\"\"Return a neatly formatted descriptive name.\"\"\"\n",
        "    long_name = f\"{self.year} {self.make} {self.model}\"\n",
        "    return long_name.title()\n",
        "\n",
        "  def read_odometer(self):\n",
        "    \"\"\"Print a statement showing the car's mileage.\"\"\"\n",
        "    print(f\"This car has {self.odometer_reading} miles on it.\")\n",
        "\n",
        "my_new_car = Car('audi', 'a4', '2024')\n",
        "print(my_new_car.get_descriptive_name())\n",
        "my_new_car.read_odometer()"
      ],
      "metadata": {
        "colab": {
          "base_uri": "https://localhost:8080/"
        },
        "id": "ed6HSTXaBkEC",
        "outputId": "9f59ec7a-a7ad-47a0-aa51-fad57dea602f"
      },
      "execution_count": null,
      "outputs": [
        {
          "output_type": "stream",
          "name": "stdout",
          "text": [
            "2024 Audi A4\n",
            "This car has 0 miles on it.\n"
          ]
        }
      ]
    },
    {
      "cell_type": "code",
      "source": [
        "# textbook example Modifying an Attribute’s Value Directly\n",
        "class Car:\n",
        "  \"\"\"A simple attempt to represent a car.\"\"\"\n",
        "\n",
        "  def __init__(self, make, model, year):\n",
        "    \"\"\"Initialize attributes to describe a car.\"\"\"\n",
        "    self.make = make\n",
        "    self.model = model\n",
        "    self.year = year\n",
        "    self.odometer_reading = 0\n",
        "\n",
        "  def get_descriptive_name(self):\n",
        "    \"\"\"Return a neatly formatted descriptive name.\"\"\"\n",
        "    long_name = f\"{self.year} {self.make} {self.model}\"\n",
        "    return long_name.title()\n",
        "\n",
        "  def read_odometer(self):\n",
        "    \"\"\"Print a statement showing the car's mileage.\"\"\"\n",
        "    print(f\"This car has {self.odometer_reading} miles on it.\")\n",
        "\n",
        "my_new_car = Car('audi', 'a4', '2024')\n",
        "print(my_new_car.get_descriptive_name())\n",
        "\n",
        "my_new_car.odometer_reading = 23\n",
        "my_new_car.read_odometer()"
      ],
      "metadata": {
        "colab": {
          "base_uri": "https://localhost:8080/"
        },
        "id": "GudFJ5wdCWUC",
        "outputId": "418d13b5-b2cf-46a5-9480-3923e8601101"
      },
      "execution_count": null,
      "outputs": [
        {
          "output_type": "stream",
          "name": "stdout",
          "text": [
            "2024 Audi A4\n",
            "This car has 23 miles on it.\n"
          ]
        }
      ]
    },
    {
      "cell_type": "code",
      "source": [
        "# textbook example Modifying an Attribute’s Value Through a Method\n",
        "class Car:\n",
        "  \"\"\"A simple attempt to represent a car.\"\"\"\n",
        "\n",
        "  def __init__(self, make, model, year):\n",
        "    \"\"\"Initialize attributes to describe a car.\"\"\"\n",
        "    self.make = make\n",
        "    self.model = model\n",
        "    self.year = year\n",
        "    self.odometer_reading = 0\n",
        "\n",
        "  def get_descriptive_name(self):\n",
        "    \"\"\"Return a neatly formatted descriptive name.\"\"\"\n",
        "    long_name = f\"{self.year} {self.make} {self.model}\"\n",
        "    return long_name.title()\n",
        "\n",
        "  def read_odometer(self):\n",
        "    \"\"\"Print a statement showing the car's mileage.\"\"\"\n",
        "    print(f\"This car has {self.odometer_reading} miles on it.\")\n",
        "\n",
        "  def update_odometer(self, mileage):\n",
        "      \"\"\"Set the odometer reading to the given value.\"\"\"\n",
        "      self.odometer_reading = mileage\n",
        "\n",
        "my_new_car = Car('audi', 'a4', '2024')\n",
        "print(my_new_car.get_descriptive_name())\n",
        "\n",
        "my_new_car.update_odometer(23)\n",
        "my_new_car.read_odometer()"
      ],
      "metadata": {
        "colab": {
          "base_uri": "https://localhost:8080/"
        },
        "id": "bhY9eYoADGsR",
        "outputId": "370aeb9d-a759-4480-f7bc-e24a055b5f52"
      },
      "execution_count": null,
      "outputs": [
        {
          "output_type": "stream",
          "name": "stdout",
          "text": [
            "2024 Audi A4\n",
            "This car has 23 miles on it.\n"
          ]
        }
      ]
    },
    {
      "cell_type": "code",
      "source": [
        "# textbook example Modifying an Attribute’s Value Through a Method EXTENDED\n",
        "class Car:\n",
        "  \"\"\"A simple attempt to represent a car.\"\"\"\n",
        "\n",
        "  def __init__(self, make, model, year):\n",
        "    \"\"\"Initialize attributes to describe a car.\"\"\"\n",
        "    self.make = make\n",
        "    self.model = model\n",
        "    self.year = year\n",
        "    self.odometer_reading = 0\n",
        "\n",
        "  def get_descriptive_name(self):\n",
        "    \"\"\"Return a neatly formatted descriptive name.\"\"\"\n",
        "    long_name = f\"{self.year} {self.make} {self.model}\"\n",
        "    return long_name.title()\n",
        "\n",
        "  def read_odometer(self):\n",
        "    \"\"\"Print a statement showing the car's mileage.\"\"\"\n",
        "    print(f\"This car has {self.odometer_reading} miles on it.\")\n",
        "\n",
        "  def update_odometer(self, mileage):\n",
        "    \"\"\"Set the odometer reading to the given value.\n",
        "          Reject the change if it attempts to roll the odometer back.\n",
        "          \"\"\"\n",
        "    if mileage >= self.odometer_reading:\n",
        "      self.odometer_reading = mileage\n",
        "    else:\n",
        "      print(\"You can't roll back an odometer!\")\n",
        "\n",
        "\n",
        "my_new_car = Car('audi', 'a4', '2024')\n",
        "print(my_new_car.get_descriptive_name())\n",
        "\n",
        "my_new_car.update_odometer(23)\n",
        "my_new_car.read_odometer()"
      ],
      "metadata": {
        "colab": {
          "base_uri": "https://localhost:8080/"
        },
        "id": "z_WZ7kcIES6O",
        "outputId": "40ff11d5-dc2c-4d49-d381-4e5cf160a4d1"
      },
      "execution_count": null,
      "outputs": [
        {
          "output_type": "stream",
          "name": "stdout",
          "text": [
            "2024 Audi A4\n",
            "This car has 23 miles on it.\n"
          ]
        }
      ]
    },
    {
      "cell_type": "code",
      "source": [
        "# example Incrementing an Attribute’s Value Through a Method\n",
        "class Car:\n",
        "  \"\"\"A simple attempt to represent a car.\"\"\"\n",
        "\n",
        "  def __init__(self, make, model, year):\n",
        "    \"\"\"Initialize attributes to describe a car.\"\"\"\n",
        "    self.make = make\n",
        "    self.model = model\n",
        "    self.year = year\n",
        "    self.odometer_reading = 0\n",
        "\n",
        "  def get_descriptive_name(self):\n",
        "    \"\"\"Return a neatly formatted descriptive name.\"\"\"\n",
        "    long_name = f\"{self.year} {self.make} {self.model}\"\n",
        "    return long_name.title()\n",
        "\n",
        "  def read_odometer(self):\n",
        "    \"\"\"Print a statement showing the car's mileage.\"\"\"\n",
        "    print(f\"This car has {self.odometer_reading} miles on it.\")\n",
        "\n",
        "  def update_odometer(self, mileage):\n",
        "    \"\"\"Set the odometer reading to the given value.\n",
        "          Reject the change if it attempts to roll the odometer back.\n",
        "          \"\"\"\n",
        "    if mileage >= self.odometer_reading:\n",
        "      self.odometer_reading = mileage\n",
        "    else:\n",
        "      print(\"You can't roll back an odometer!\")\n",
        "\n",
        "  def increment_odometer(self, miles):\n",
        "    \"\"\"Add the given amount to the odometer reading.\"\"\"\n",
        "    self.odometer_reading += miles\n",
        "\n",
        "my_used_car = Car('subaru', 'outback', 2019)\n",
        "print(my_used_car.get_descriptive_name())\n",
        "\n",
        "my_used_car.update_odometer(23_000)\n",
        "my_used_car.read_odometer()\n",
        "\n",
        "my_used_car.increment_odometer(100)\n",
        "my_used_car.read_odometer()\n"
      ],
      "metadata": {
        "colab": {
          "base_uri": "https://localhost:8080/"
        },
        "id": "CDnA-lxmGZMk",
        "outputId": "a525828b-fc5b-4466-8a8e-4427b1e77eb2"
      },
      "execution_count": null,
      "outputs": [
        {
          "output_type": "stream",
          "name": "stdout",
          "text": [
            "2019 Subaru Outback\n",
            "This car has 23000 miles on it.\n",
            "This car has 23100 miles on it.\n"
          ]
        }
      ]
    },
    {
      "cell_type": "code",
      "source": [
        "# example Incrementing an Attribute’s Value Through a Method\n",
        "class Car:\n",
        "  \"\"\"A simple attempt to represent a car.\"\"\"\n",
        "\n",
        "  def __init__(self, make, model, year):\n",
        "    \"\"\"Initialize attributes to describe a car.\"\"\"\n",
        "    self.make = make\n",
        "    self.model = model\n",
        "    self.year = year\n",
        "    self.odometer_reading = 0\n",
        "\n",
        "  def get_descriptive_name(self):\n",
        "    \"\"\"Return a neatly formatted descriptive name.\"\"\"\n",
        "    long_name = f\"{self.year} {self.make} {self.model}\"\n",
        "    return long_name.title()\n",
        "\n",
        "  def read_odometer(self):\n",
        "    \"\"\"Print a statement showing the car's mileage.\"\"\"\n",
        "    print(f\"This car has {self.odometer_reading} miles on it.\")\n",
        "\n",
        "  def update_odometer(self, mileage):\n",
        "    \"\"\"Set the odometer reading to the given value.\n",
        "          Reject the change if it attempts to roll the odometer back.\n",
        "          \"\"\"\n",
        "    if mileage >= self.odometer_reading:\n",
        "      self.odometer_reading = mileage\n",
        "    else:\n",
        "      print(\"You can't roll back an odometer!\")\n",
        "\n",
        "  def increment_odometer(self, miles):\n",
        "    \"\"\"Add the given amount to the odometer reading.\"\"\"\n",
        "    self.odometer_reading += miles\n",
        "\n",
        "my_used_car = Car('subaru', 'outback', 2019)\n",
        "print(my_used_car.get_descriptive_name())\n",
        "\n",
        "my_used_car.update_odometer(23_000)\n",
        "my_used_car.read_odometer()\n",
        "\n",
        "my_used_car.increment_odometer(100)\n",
        "my_used_car.read_odometer()\n",
        "\n",
        "my_used_car.update_odometer(20_000)"
      ],
      "metadata": {
        "colab": {
          "base_uri": "https://localhost:8080/"
        },
        "id": "yEdAIlmbKtqG",
        "outputId": "df216ed1-66a7-4a1a-be46-c547e673ae1f"
      },
      "execution_count": null,
      "outputs": [
        {
          "output_type": "stream",
          "name": "stdout",
          "text": [
            "2019 Subaru Outback\n",
            "This car has 23000 miles on it.\n",
            "This car has 23100 miles on it.\n",
            "You can't roll back an odometer!\n"
          ]
        }
      ]
    },
    {
      "cell_type": "code",
      "source": [
        "# example The __init__() Method for a Child Class\n",
        "class Car:\n",
        "  \"\"\"A simple attempt to represent a car.\"\"\"\n",
        "\n",
        "  def __init__(self, make, model, year):\n",
        "    \"\"\"Initialize attributes to describe a car.\"\"\"\n",
        "    self.make = make\n",
        "    self.model = model\n",
        "    self.year = year\n",
        "    self.odometer_reading = 0\n",
        "\n",
        "  def get_descriptive_name(self):\n",
        "    \"\"\"Return a neatly formatted descriptive name.\"\"\"\n",
        "    long_name = f\"{self.year} {self.make} {self.model}\"\n",
        "    return long_name.title()\n",
        "\n",
        "  def read_odometer(self):\n",
        "    \"\"\"Print a statement showing the car's mileage.\"\"\"\n",
        "    print(f\"This car has {self.odometer_reading} miles on it.\")\n",
        "\n",
        "  def update_odometer(self, mileage):\n",
        "    \"\"\"Set the odometer reading to the given value.\n",
        "          Reject the change if it attempts to roll the odometer back.\n",
        "          \"\"\"\n",
        "    if mileage >= self.odometer_reading:\n",
        "      self.odometer_reading = mileage\n",
        "    else:\n",
        "      print(\"You can't roll back an odometer!\")\n",
        "\n",
        "  def increment_odometer(self, miles):\n",
        "    \"\"\"Add the given amount to the odometer reading.\"\"\"\n",
        "    self.odometer_reading += miles\n",
        "\n",
        "class ElectricCar(Car):\n",
        "  \"\"\"Represent aspects of a car, specific to electric vehicles.\"\"\"\n",
        "\n",
        "  def __init__(self, make, model, year):\n",
        "    \"\"\"Initialize attributes of the parent class.\"\"\"\n",
        "    super().__init__(make, model, year)\n",
        "\n",
        "\n",
        "my_leaf = ElectricCar('nissan', 'leaf', 2024)\n",
        "print(my_leaf.get_descriptive_name())"
      ],
      "metadata": {
        "colab": {
          "base_uri": "https://localhost:8080/"
        },
        "id": "pONY_FZUM7hg",
        "outputId": "e98634ee-55fb-4e56-e64f-430457751d07"
      },
      "execution_count": null,
      "outputs": [
        {
          "output_type": "stream",
          "name": "stdout",
          "text": [
            "2024 Nissan Leaf\n"
          ]
        }
      ]
    },
    {
      "cell_type": "code",
      "source": [
        "# example Defining Attributes and Methods for the Child Class\n",
        "class Car:\n",
        "  \"\"\"A simple attempt to represent a car.\"\"\"\n",
        "\n",
        "  def __init__(self, make, model, year):\n",
        "    \"\"\"Initialize attributes to describe a car.\"\"\"\n",
        "    self.make = make\n",
        "    self.model = model\n",
        "    self.year = year\n",
        "    self.odometer_reading = 0\n",
        "\n",
        "  def get_descriptive_name(self):\n",
        "    \"\"\"Return a neatly formatted descriptive name.\"\"\"\n",
        "    long_name = f\"{self.year} {self.make} {self.model}\"\n",
        "    return long_name.title()\n",
        "\n",
        "  def read_odometer(self):\n",
        "    \"\"\"Print a statement showing the car's mileage.\"\"\"\n",
        "    print(f\"This car has {self.odometer_reading} miles on it.\")\n",
        "\n",
        "  def update_odometer(self, mileage):\n",
        "    \"\"\"Set the odometer reading to the given value.\n",
        "          Reject the change if it attempts to roll the odometer back.\n",
        "          \"\"\"\n",
        "    if mileage >= self.odometer_reading:\n",
        "      self.odometer_reading = mileage\n",
        "    else:\n",
        "      print(\"You can't roll back an odometer!\")\n",
        "\n",
        "  def increment_odometer(self, miles):\n",
        "    \"\"\"Add the given amount to the odometer reading.\"\"\"\n",
        "    self.odometer_reading += miles\n",
        "\n",
        "class ElectricCar(Car):\n",
        "  \"\"\"Represent aspects of a car, specific to electric vehicles.\"\"\"\n",
        "\n",
        "  def __init__(self, make, model, year):\n",
        "    \"\"\"Initialize attributes of the parent class.\n",
        "    Then initialize attributes specific to an electric car\n",
        "    \"\"\"\n",
        "    super().__init__(make, model, year)\n",
        "    self.battery_size = 40\n",
        "\n",
        "  def describe_battery(self):\n",
        "    \"\"\"print a statement describing battery size\"\"\"\n",
        "    print(f\"This car has a {self.battery_size}-KWh battery.\")\n",
        "\n",
        "my_leaf = ElectricCar('nissan', 'leaf', 2024)\n",
        "print(my_leaf.get_descriptive_name())\n",
        "my_leaf.describe_battery()"
      ],
      "metadata": {
        "colab": {
          "base_uri": "https://localhost:8080/"
        },
        "id": "uZxkxMVuO-PR",
        "outputId": "b0493f63-8157-4d5d-a8dc-988fdb7d3a2f"
      },
      "execution_count": null,
      "outputs": [
        {
          "output_type": "stream",
          "name": "stdout",
          "text": [
            "2024 Nissan Leaf\n",
            "this car has a 40-KWh battery.\n"
          ]
        }
      ]
    },
    {
      "cell_type": "code",
      "source": [
        "# example Instances as Attributes\n",
        "class Car:\n",
        "  \"\"\"A simple attempt to represent a car.\"\"\"\n",
        "\n",
        "  def __init__(self, make, model, year):\n",
        "    \"\"\"Initialize attributes to describe a car.\"\"\"\n",
        "    self.make = make\n",
        "    self.model = model\n",
        "    self.year = year\n",
        "    self.odometer_reading = 0\n",
        "\n",
        "  def get_descriptive_name(self):\n",
        "    \"\"\"Return a neatly formatted descriptive name.\"\"\"\n",
        "    long_name = f\"{self.year} {self.make} {self.model}\"\n",
        "    return long_name.title()\n",
        "\n",
        "  def read_odometer(self):\n",
        "    \"\"\"Print a statement showing the car's mileage.\"\"\"\n",
        "    print(f\"This car has {self.odometer_reading} miles on it.\")\n",
        "\n",
        "  def update_odometer(self, mileage):\n",
        "    \"\"\"Set the odometer reading to the given value.\n",
        "          Reject the change if it attempts to roll the odometer back.\n",
        "          \"\"\"\n",
        "    if mileage >= self.odometer_reading:\n",
        "      self.odometer_reading = mileage\n",
        "    else:\n",
        "      print(\"You can't roll back an odometer!\")\n",
        "\n",
        "  def increment_odometer(self, miles):\n",
        "    \"\"\"Add the given amount to the odometer reading.\"\"\"\n",
        "    self.odometer_reading += miles\n",
        "\n",
        "class Battery:\n",
        "    \"\"\"A simple attempt to model a battery for an electric car.\"\"\"\n",
        "    def __init__(self, battery_size=40):\n",
        "      \"\"\"Initialize the battery's attributes.\"\"\"\n",
        "      self.battery_size = battery_size\n",
        "\n",
        "    def describe_battery(self):\n",
        "        \"\"\"Print a statement describing the battery size.\"\"\"\n",
        "        print(f\"This car has a {self.battery_size}-kWh battery.\")\n",
        "\n",
        "class ElectricCar(Car):\n",
        "    \"\"\"Represent aspects of a car, specific to electric vehicles.\"\"\"\n",
        "    def __init__(self, make, model, year):\n",
        "        \"\"\"\n",
        "        Initialize attributes of the parent class.\n",
        "        Then initialize attributes specific to an electric car.\n",
        "        \"\"\"\n",
        "        super().__init__(make, model, year)\n",
        "        self.battery = Battery()\n",
        "\n",
        "my_leaf = ElectricCar('nissan', 'leaf', 2024)\n",
        "print(my_leaf.get_descriptive_name())\n",
        "my_leaf.battery.describe_battery()"
      ],
      "metadata": {
        "colab": {
          "base_uri": "https://localhost:8080/"
        },
        "id": "8FRiJK7rP6uz",
        "outputId": "82a03935-2e81-4e8f-f629-29dbf9f43c54"
      },
      "execution_count": null,
      "outputs": [
        {
          "output_type": "stream",
          "name": "stdout",
          "text": [
            "2024 Nissan Leaf\n",
            "This car has a 40-kWh battery.\n"
          ]
        }
      ]
    },
    {
      "cell_type": "code",
      "source": [
        "# example another method to Battery that reports the range of the car\n",
        "class Car:\n",
        "  \"\"\"A simple attempt to represent a car.\"\"\"\n",
        "\n",
        "  def __init__(self, make, model, year):\n",
        "    \"\"\"Initialize attributes to describe a car.\"\"\"\n",
        "    self.make = make\n",
        "    self.model = model\n",
        "    self.year = year\n",
        "    self.odometer_reading = 0\n",
        "\n",
        "  def get_descriptive_name(self):\n",
        "    \"\"\"Return a neatly formatted descriptive name.\"\"\"\n",
        "    long_name = f\"{self.year} {self.make} {self.model}\"\n",
        "    return long_name.title()\n",
        "\n",
        "  def read_odometer(self):\n",
        "    \"\"\"Print a statement showing the car's mileage.\"\"\"\n",
        "    print(f\"This car has {self.odometer_reading} miles on it.\")\n",
        "\n",
        "  def update_odometer(self, mileage):\n",
        "    \"\"\"Set the odometer reading to the given value.\n",
        "          Reject the change if it attempts to roll the odometer back.\n",
        "          \"\"\"\n",
        "    if mileage >= self.odometer_reading:\n",
        "      self.odometer_reading = mileage\n",
        "    else:\n",
        "      print(\"You can't roll back an odometer!\")\n",
        "\n",
        "  def increment_odometer(self, miles):\n",
        "    \"\"\"Add the given amount to the odometer reading.\"\"\"\n",
        "    self.odometer_reading += miles\n",
        "\n",
        "class Battery:\n",
        "    \"\"\"A simple attempt to model a battery for an electric car.\"\"\"\n",
        "    def __init__(self, battery_size=40):\n",
        "      \"\"\"Initialize the battery's attributes.\"\"\"\n",
        "      self.battery_size = battery_size\n",
        "\n",
        "    def describe_battery(self):\n",
        "        \"\"\"Print a statement describing the battery size.\"\"\"\n",
        "        print(f\"This car has a {self.battery_size}-kWh battery.\")\n",
        "\n",
        "    def get_range(self):\n",
        "          \"\"\"Print a statement about the range this battery provides.\"\"\"\n",
        "          if self.battery_size == 40:\n",
        "              range = 150\n",
        "          elif self.battery_size == 65:\n",
        "              range = 225\n",
        "          print(f\"This car can go about {range} miles on a full charge.\")\n",
        "\n",
        "class ElectricCar(Car):\n",
        "    \"\"\"Represent aspects of a car, specific to electric vehicles.\"\"\"\n",
        "    def __init__(self, make, model, year):\n",
        "        \"\"\"\n",
        "        Initialize attributes of the parent class.\n",
        "        Then initialize attributes specific to an electric car.\n",
        "        \"\"\"\n",
        "        super().__init__(make, model, year)\n",
        "        self.battery = Battery()\n",
        "\n",
        "my_leaf = ElectricCar('nissan', 'leaf', 2024)\n",
        "print(my_leaf.get_descriptive_name())\n",
        "my_leaf.battery.describe_battery()\n",
        "my_leaf.battery.get_range()"
      ],
      "metadata": {
        "colab": {
          "base_uri": "https://localhost:8080/"
        },
        "id": "TA0pR1OCUKRU",
        "outputId": "30e6d7e3-c8ed-49e7-b57d-6d68939104c6"
      },
      "execution_count": null,
      "outputs": [
        {
          "output_type": "stream",
          "name": "stdout",
          "text": [
            "2024 Nissan Leaf\n",
            "This car has a 40-kWh battery.\n",
            "This car can go about 150 miles on a full charge.\n"
          ]
        }
      ]
    },
    {
      "cell_type": "code",
      "source": [
        "# try it yourself 9-6\n",
        "class Restaurant:\n",
        "  \"\"\"a class that represents a restaurant\"\"\"\n",
        "\n",
        "  def __init__(self, name, type):\n",
        "    self.name = name\n",
        "    self.type = type\n",
        "\n",
        "  def describe_restaurant(self):\n",
        "    print(f\"\\n{self.name} serves great {self.type}!\")\n",
        "\n",
        "  def open_restaurant(self):\n",
        "    print(f\"\\n{self.name} is open and ready for orders!\")\n",
        "\n",
        "\n",
        "class IceCreamStand(Restaurant):\n",
        "  \"\"\"Represent an ice cream stand.\"\"\"\n",
        "\n",
        "  def __init__(self, name, type='ice cream'):\n",
        "\n",
        "        super().__init__(name, type)\n",
        "        self.flavors = []\n",
        "\n",
        "  def show_flavors(self):\n",
        "        \"\"\"Display the flavors.\"\"\"\n",
        "        print(\"\\nWe have the following flavors :\")\n",
        "        for flavor in self.flavors:\n",
        "            print(f\"- {flavor.title()}\")\n",
        "\n",
        "\n",
        "freezer = IceCreamStand('The Freezer')\n",
        "freezer.flavors = ['vanilla', 'chocolate', 'black cherry']\n",
        "\n",
        "freezer.describe_restaurant()\n",
        "freezer.show_flavors()"
      ],
      "metadata": {
        "colab": {
          "base_uri": "https://localhost:8080/"
        },
        "id": "nJLEoY-NU9wa",
        "outputId": "8196a145-0fc1-4fbb-fae2-cae5a7fab10a"
      },
      "execution_count": null,
      "outputs": [
        {
          "output_type": "stream",
          "name": "stdout",
          "text": [
            "\n",
            "The Freezer serves great ice cream!\n",
            "\n",
            "We have the following flavors :\n",
            "- Vanilla\n",
            "- Chocolate\n",
            "- Black Cherry\n"
          ]
        }
      ]
    },
    {
      "cell_type": "code",
      "source": [
        "# try it yourself 9-7\n",
        "class Users:\n",
        "  \"\"\"a class that represents a user\"\"\"\n",
        "\n",
        "  def __init__(self, first_name, last_name, username, email, location):\n",
        "    self.first_name = first_name.title()\n",
        "    self.last_name = last_name.title()\n",
        "    self.username = username\n",
        "    self.email = email\n",
        "    self.location = location.title()\n",
        "\n",
        "  def describe_user(self):\n",
        "    print(f\"\\n{self.first_name} {self.last_name}\")\n",
        "    print(f\"   Username: {self.username}\")\n",
        "    print(f\"   Email: {self.email}\")\n",
        "    print(f\"   Location: {self.location}\")\n",
        "\n",
        "  def greet_user(self):\n",
        "    print(f\"\\nWelcome back {self.username}! \")\n",
        "\n",
        "class Admin(Users):\n",
        "  def __init__(self, first_name, last_name, username, email, location):\n",
        "    super().__init__(first_name, last_name, username, email, location)\n",
        "    self.privileges = []\n",
        "\n",
        "  def show_privileges(self):\n",
        "    print(\"\\nPrivileges:\")\n",
        "    for privilege in self.privileges:\n",
        "      print(f\"- {privilege}\")\n",
        "\n",
        "cole = Admin('cole', 'grecki', 'cgrecky01', 'cgrecky08@icloud.com', 'california')\n",
        "cole.describe_user()\n",
        "\n",
        "cole.privileges = [\n",
        "    'can add posts',\n",
        "    'can delete posts',\n",
        "    'can edit posts',\n",
        "    'can ban users',\n",
        "    'can reset passwords'\n",
        "    ]\n",
        "\n",
        "cole.show_privileges()"
      ],
      "metadata": {
        "colab": {
          "base_uri": "https://localhost:8080/"
        },
        "id": "4TBdpLFiYHJU",
        "outputId": "b01897b5-8b2e-4f81-91e4-c0fea1a1fd26"
      },
      "execution_count": null,
      "outputs": [
        {
          "output_type": "stream",
          "name": "stdout",
          "text": [
            "\n",
            "Cole Grecki\n",
            "   Username: cgrecky01\n",
            "   Email: cgrecky08@icloud.com\n",
            "   Location: California\n",
            "\n",
            "Privileges:\n",
            "- can add posts\n",
            "- can delete posts\n",
            "- can edit posts\n",
            "- can ban users\n",
            "- can reset passwords\n"
          ]
        }
      ]
    },
    {
      "cell_type": "code",
      "source": [
        "# example Importing a Single Class\n",
        "from car import Car\n",
        "my_new_car = Car('audi', 'a4', '2024')\n",
        "print(my_new_car.get_descriptive_name())\n",
        "my_new_car.odometer_reading = 23\n",
        "my_new_car.read_odometer()\n"
      ],
      "metadata": {
        "id": "vJUET63IhyAh",
        "colab": {
          "base_uri": "https://localhost:8080/"
        },
        "outputId": "7d2c9f2c-9074-40d4-a327-5a0f1030536c"
      },
      "execution_count": 35,
      "outputs": [
        {
          "output_type": "stream",
          "name": "stdout",
          "text": [
            "2024 Audi A4\n",
            "This car has 23 miles on it.\n"
          ]
        }
      ]
    },
    {
      "cell_type": "code",
      "source": [
        "from car import ElectricCar\n",
        "my_leaf = ElectricCar('nissan', 'leaf', 2024)\n",
        "print(my_leaf.get_descriptive_name())\n",
        "\n",
        "my_leaf.battery.describe_battery()\n",
        "\n",
        "my_leaf.battery.get_range()"
      ],
      "metadata": {
        "colab": {
          "base_uri": "https://localhost:8080/",
          "height": 378
        },
        "id": "-VlxWic9-pSF",
        "outputId": "547acda9-2ba8-4212-aa0f-2aca9f77e393"
      },
      "execution_count": 38,
      "outputs": [
        {
          "output_type": "error",
          "ename": "ImportError",
          "evalue": "ignored",
          "traceback": [
            "\u001b[0;31m---------------------------------------------------------------------------\u001b[0m",
            "\u001b[0;31mImportError\u001b[0m                               Traceback (most recent call last)",
            "\u001b[0;32m<ipython-input-38-a6349b536f5c>\u001b[0m in \u001b[0;36m<cell line: 1>\u001b[0;34m()\u001b[0m\n\u001b[0;32m----> 1\u001b[0;31m \u001b[0;32mfrom\u001b[0m \u001b[0mcar\u001b[0m \u001b[0;32mimport\u001b[0m \u001b[0mElectricCar\u001b[0m\u001b[0;34m\u001b[0m\u001b[0;34m\u001b[0m\u001b[0m\n\u001b[0m\u001b[1;32m      2\u001b[0m \u001b[0mmy_leaf\u001b[0m \u001b[0;34m=\u001b[0m \u001b[0mElectricCar\u001b[0m\u001b[0;34m(\u001b[0m\u001b[0;34m'nissan'\u001b[0m\u001b[0;34m,\u001b[0m \u001b[0;34m'leaf'\u001b[0m\u001b[0;34m,\u001b[0m \u001b[0;36m2024\u001b[0m\u001b[0;34m)\u001b[0m\u001b[0;34m\u001b[0m\u001b[0;34m\u001b[0m\u001b[0m\n\u001b[1;32m      3\u001b[0m \u001b[0mprint\u001b[0m\u001b[0;34m(\u001b[0m\u001b[0mmy_leaf\u001b[0m\u001b[0;34m.\u001b[0m\u001b[0mget_descriptive_name\u001b[0m\u001b[0;34m(\u001b[0m\u001b[0;34m)\u001b[0m\u001b[0;34m)\u001b[0m\u001b[0;34m\u001b[0m\u001b[0;34m\u001b[0m\u001b[0m\n\u001b[1;32m      4\u001b[0m \u001b[0;34m\u001b[0m\u001b[0m\n\u001b[1;32m      5\u001b[0m \u001b[0mmy_leaf\u001b[0m\u001b[0;34m.\u001b[0m\u001b[0mbattery\u001b[0m\u001b[0;34m.\u001b[0m\u001b[0mdescribe_battery\u001b[0m\u001b[0;34m(\u001b[0m\u001b[0;34m)\u001b[0m\u001b[0;34m\u001b[0m\u001b[0;34m\u001b[0m\u001b[0m\n",
            "\u001b[0;31mImportError\u001b[0m: cannot import name 'ElectricCar' from 'car' (/content/car.py)",
            "",
            "\u001b[0;31m---------------------------------------------------------------------------\u001b[0;32m\nNOTE: If your import is failing due to a missing package, you can\nmanually install dependencies using either !pip or !apt.\n\nTo view examples of installing some common dependencies, click the\n\"Open Examples\" button below.\n\u001b[0;31m---------------------------------------------------------------------------\u001b[0m\n"
          ],
          "errorDetails": {
            "actions": [
              {
                "action": "open_url",
                "actionText": "Open Examples",
                "url": "/notebooks/snippets/importing_libraries.ipynb"
              }
            ]
          }
        }
      ]
    }
  ]
}