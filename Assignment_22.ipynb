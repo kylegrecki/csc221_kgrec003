{
  "nbformat": 4,
  "nbformat_minor": 0,
  "metadata": {
    "colab": {
      "provenance": [],
      "authorship_tag": "ABX9TyMsiufJM+PlN+QDjfc4+oal",
      "include_colab_link": true
    },
    "kernelspec": {
      "name": "python3",
      "display_name": "Python 3"
    },
    "language_info": {
      "name": "python"
    }
  },
  "cells": [
    {
      "cell_type": "markdown",
      "metadata": {
        "id": "view-in-github",
        "colab_type": "text"
      },
      "source": [
        "<a href=\"https://colab.research.google.com/github/kylegrecki/csc221_kgrec003/blob/main/Assignment_22.ipynb\" target=\"_parent\"><img src=\"https://colab.research.google.com/assets/colab-badge.svg\" alt=\"Open In Colab\"/></a>"
      ]
    },
    {
      "cell_type": "markdown",
      "source": [
        "**CSC 221**\n",
        "\n",
        "Kyle Grecki\n",
        "\n",
        "Assignment 22"
      ],
      "metadata": {
        "id": "2OMtgrxKYAmy"
      }
    },
    {
      "cell_type": "code",
      "execution_count": 10,
      "metadata": {
        "id": "ARcE-dGoX9ql",
        "colab": {
          "base_uri": "https://localhost:8080/"
        },
        "outputId": "7007ba83-3704-4955-b2c6-061df1195308"
      },
      "outputs": [
        {
          "output_type": "stream",
          "name": "stdout",
          "text": [
            "Original Vectors:\n",
            "Vector2D(3, 4)\n",
            "Vector2D(1, 2)\n",
            "Vector2D(5, 6)\n",
            "Vector2D(0, 0)\n",
            "\n",
            "Sorted Vectors by Length:\n",
            "Vector2D(0, 0)\n",
            "Vector2D(1, 2)\n",
            "Vector2D(3, 4)\n",
            "Vector2D(5, 6)\n"
          ]
        }
      ],
      "source": [
        "# part 1\n",
        "class Vector2D:\n",
        "    def __init__(self, a, b):\n",
        "        self.a = a\n",
        "        self.b = b\n",
        "\n",
        "    def __repr__(self):\n",
        "        return f\"Vector2D({self.a}, {self.b})\"\n",
        "\n",
        "    def __lt__(self, other):\n",
        "        return self.length() < other.length()\n",
        "\n",
        "    def length(self):\n",
        "        return (self.a**2 + self.b**2)\n",
        "\n",
        "vectors = [Vector2D(3, 4), Vector2D(1, 2), Vector2D(5, 6), Vector2D(0, 0)]\n",
        "\n",
        "print(\"Original Vectors:\")\n",
        "for vector in vectors:\n",
        "    print(vector)\n",
        "\n",
        "# Sort vectors by the length\n",
        "sorted_vectors = sorted(vectors)\n",
        "\n",
        "print(\"\\nSorted Vectors by Length:\")\n",
        "for vector in sorted_vectors:\n",
        "    print(vector)"
      ]
    },
    {
      "cell_type": "code",
      "source": [
        "# part 2\n",
        "class Vector2D:\n",
        "    def __init__(self, a, b):\n",
        "        self.a = a\n",
        "        self.b = b\n",
        "\n",
        "    def __repr__(self):\n",
        "        return f\"Vector2D({self.a}, {self.b})\"\n",
        "\n",
        "    def __lt__(self, other):\n",
        "        return self.length() < other.length()\n",
        "\n",
        "    def length(self):\n",
        "        return (self.a**2 + self.b**2)\n",
        "\n",
        "vectors = [Vector2D(3, 4), Vector2D(1, 2), Vector2D(5, 6), Vector2D(0, 0)]\n",
        "\n",
        "print(\"Original Vectors:\")\n",
        "for vector in vectors:\n",
        "    print(vector)\n",
        "\n",
        "# Sort vectors by the Euclidean length\n",
        "sorted_vectors = sorted(vectors, key=lambda v: v.a**2 + v.b**2)\n",
        "\n",
        "print(\"\\nSorted Vectors by Euclidean Length:\")\n",
        "for vector in sorted_vectors:\n",
        "    print(vector, \"Sum:\", vector.a + vector.b)"
      ],
      "metadata": {
        "colab": {
          "base_uri": "https://localhost:8080/"
        },
        "id": "u4Bh7jxw6Pm_",
        "outputId": "d82e993a-c14d-47a3-a928-672c77749759"
      },
      "execution_count": 48,
      "outputs": [
        {
          "output_type": "stream",
          "name": "stdout",
          "text": [
            "Original Vectors:\n",
            "Vector2D(3, 4)\n",
            "Vector2D(1, 2)\n",
            "Vector2D(5, 6)\n",
            "Vector2D(0, 0)\n",
            "\n",
            "Sorted Vectors by Euclidean Length:\n",
            "Vector2D(0, 0) Sum: 0\n",
            "Vector2D(1, 2) Sum: 3\n",
            "Vector2D(3, 4) Sum: 7\n",
            "Vector2D(5, 6) Sum: 11\n"
          ]
        }
      ]
    },
    {
      "cell_type": "code",
      "source": [
        "# part 3\n",
        "class Protocol:\n",
        "    def __getitem__(self, key):\n",
        "        return len(key)\n",
        "\n",
        "m1 = Protocol()\n",
        "\n",
        "print(m1['hello'])\n",
        "print(m1['kyleee'])\n",
        "print(m1['omni-man'])\n",
        "print(m1['invincible'])"
      ],
      "metadata": {
        "colab": {
          "base_uri": "https://localhost:8080/"
        },
        "id": "5DhitZEi9HCN",
        "outputId": "86e3df0d-e79c-4ea3-d9dc-83f5ddb5bd48"
      },
      "execution_count": 47,
      "outputs": [
        {
          "output_type": "stream",
          "name": "stdout",
          "text": [
            "5\n",
            "6\n",
            "8\n",
            "10\n"
          ]
        }
      ]
    }
  ]
}