{
  "nbformat": 4,
  "nbformat_minor": 0,
  "metadata": {
    "colab": {
      "provenance": [],
      "authorship_tag": "ABX9TyM1preQjiSuYN8FLxjHKe0+",
      "include_colab_link": true
    },
    "kernelspec": {
      "name": "python3",
      "display_name": "Python 3"
    },
    "language_info": {
      "name": "python"
    }
  },
  "cells": [
    {
      "cell_type": "markdown",
      "metadata": {
        "id": "view-in-github",
        "colab_type": "text"
      },
      "source": [
        "<a href=\"https://colab.research.google.com/github/kylegrecki/csc221_kgrec003/blob/main/assignment4.ipynb\" target=\"_parent\"><img src=\"https://colab.research.google.com/assets/colab-badge.svg\" alt=\"Open In Colab\"/></a>"
      ]
    },
    {
      "cell_type": "code",
      "execution_count": 5,
      "metadata": {
        "colab": {
          "base_uri": "https://localhost:8080/"
        },
        "id": "QR9ru7oLaXqk",
        "outputId": "f4e0e52c-88b0-45a7-d1df-954f5d10b8eb"
      },
      "outputs": [
        {
          "output_type": "stream",
          "name": "stdout",
          "text": [
            "chris\n",
            "mike\n",
            "cole\n",
            "joe\n",
            "matt\n"
          ]
        }
      ],
      "source": [
        "names = ['chris','mike','cole','joe','matt']\n",
        "print(names[0])\n",
        "print(names[1])\n",
        "print(names[2])\n",
        "print(names[3])\n",
        "print(names[4])\n"
      ]
    },
    {
      "cell_type": "code",
      "source": [
        "message = f\"My oldest friend is {names[0].title()}\"\n",
        "print(message)\n"
      ],
      "metadata": {
        "colab": {
          "base_uri": "https://localhost:8080/"
        },
        "id": "Hwj1GlRKbbkh",
        "outputId": "7badc409-0e3f-4f23-8ab5-3764a8d70567"
      },
      "execution_count": 13,
      "outputs": [
        {
          "output_type": "stream",
          "name": "stdout",
          "text": [
            "My oldest friend is Chris\n"
          ]
        }
      ]
    },
    {
      "cell_type": "code",
      "source": [
        "message = f\"My work friend is {names[1].title()}\"\n",
        "print(message)\n"
      ],
      "metadata": {
        "colab": {
          "base_uri": "https://localhost:8080/"
        },
        "id": "MSI7AsiPcFu9",
        "outputId": "aed5ba78-dd90-4c71-bb66-e124f9f99d3f"
      },
      "execution_count": 14,
      "outputs": [
        {
          "output_type": "stream",
          "name": "stdout",
          "text": [
            "My work friend is Mike\n"
          ]
        }
      ]
    },
    {
      "cell_type": "code",
      "source": [
        "message = f\"My brother is {names[2].title()}\"\n",
        "print(message)\n"
      ],
      "metadata": {
        "colab": {
          "base_uri": "https://localhost:8080/"
        },
        "id": "2zp2YxDmcUgZ",
        "outputId": "40d699e1-7461-4b0f-8cd3-a7a7f41116b6"
      },
      "execution_count": 15,
      "outputs": [
        {
          "output_type": "stream",
          "name": "stdout",
          "text": [
            "My brother is Cole\n"
          ]
        }
      ]
    },
    {
      "cell_type": "code",
      "source": [
        "message = f\"My friend {names[3].title()} is very funny\"\n",
        "print(message)\n"
      ],
      "metadata": {
        "colab": {
          "base_uri": "https://localhost:8080/"
        },
        "id": "dXAmprFxcjOX",
        "outputId": "f7e4eb5a-7514-4436-826d-e9803a2b4963"
      },
      "execution_count": 16,
      "outputs": [
        {
          "output_type": "stream",
          "name": "stdout",
          "text": [
            "My friend Joe is very funny\n"
          ]
        }
      ]
    },
    {
      "cell_type": "code",
      "source": [
        "message = f\"My friend {names[4].title()} has a lot of money\"\n",
        "print(message)\n"
      ],
      "metadata": {
        "colab": {
          "base_uri": "https://localhost:8080/"
        },
        "id": "QFkmQ1cEc4-O",
        "outputId": "94a81208-a35b-49d7-ffda-03ae2ba9fc50"
      },
      "execution_count": 17,
      "outputs": [
        {
          "output_type": "stream",
          "name": "stdout",
          "text": [
            "My friend Matt has a lot of money\n"
          ]
        }
      ]
    },
    {
      "cell_type": "code",
      "source": [
        "transportation = ['motorcycle','car','quad','dirtbike','snowmobile']\n",
        "message2 = f\"in the summer time I like to ride my {transportation[0]}\"\n",
        "print(message2)\n"
      ],
      "metadata": {
        "id": "Tb7BHObFdNqT"
      },
      "execution_count": null,
      "outputs": []
    },
    {
      "cell_type": "code",
      "source": [
        "message2 = f\"my prize possesion is my {transportation[1]}\"\n",
        "print(message2)"
      ],
      "metadata": {
        "colab": {
          "base_uri": "https://localhost:8080/"
        },
        "id": "hmlKPZkPeLdY",
        "outputId": "59d9c2b0-babc-4de7-d216-58e1256aa4b4"
      },
      "execution_count": 20,
      "outputs": [
        {
          "output_type": "stream",
          "name": "stdout",
          "text": [
            "my prize possesion is my car\n"
          ]
        }
      ]
    },
    {
      "cell_type": "code",
      "source": [
        "message2 = f\"I like to ride my {transportation[2]} in the snow\"\n",
        "print(message2)"
      ],
      "metadata": {
        "colab": {
          "base_uri": "https://localhost:8080/"
        },
        "id": "GGNDN0yteYtm",
        "outputId": "8c0f7852-c237-40aa-a809-a0eddaaa39fe"
      },
      "execution_count": 21,
      "outputs": [
        {
          "output_type": "stream",
          "name": "stdout",
          "text": [
            "I like to ride my quad in the snow\n"
          ]
        }
      ]
    },
    {
      "cell_type": "code",
      "source": [
        "message2 = f\"I dont get to ride my {transportation[3]} as much as I want to\"\n",
        "print(message2)"
      ],
      "metadata": {
        "colab": {
          "base_uri": "https://localhost:8080/"
        },
        "id": "SJozbDKsejZI",
        "outputId": "06da0012-a1f6-4735-8cf0-a23133de3c4b"
      },
      "execution_count": 22,
      "outputs": [
        {
          "output_type": "stream",
          "name": "stdout",
          "text": [
            "I dont get to ride my dirtbike as much as I want to\n"
          ]
        }
      ]
    },
    {
      "cell_type": "code",
      "source": [
        "message2 = f\"I have not rode my {transportation[4]} in years and it makes me :(\"\n",
        "print(message2)"
      ],
      "metadata": {
        "colab": {
          "base_uri": "https://localhost:8080/"
        },
        "id": "Jx2v38T-evgT",
        "outputId": "e258a05a-7acd-4b37-c0f4-9a2ef47f4e46"
      },
      "execution_count": 23,
      "outputs": [
        {
          "output_type": "stream",
          "name": "stdout",
          "text": [
            "I have not rode my snowmobile in years and it makes me :(\n"
          ]
        }
      ]
    },
    {
      "cell_type": "code",
      "source": [
        "guest = ['drake','heisenberg','homelander']\n",
        "message3 = f\"id like to invite you ! {guest[0].title()}, to a dinner hosted by me\"\n",
        "print(message3)"
      ],
      "metadata": {
        "colab": {
          "base_uri": "https://localhost:8080/"
        },
        "id": "9BoPDlaxfA17",
        "outputId": "cf48ea32-b64b-4d5e-ffe2-a818bf62e95a"
      },
      "execution_count": 28,
      "outputs": [
        {
          "output_type": "stream",
          "name": "stdout",
          "text": [
            "id like to invite you ! Drake, to a dinner hosted by me\n"
          ]
        }
      ]
    },
    {
      "cell_type": "code",
      "source": [
        "message3 = f\"id like to invite you ! {guest[1].title()}, to a dinner hosted by me\"\n",
        "print(message3)"
      ],
      "metadata": {
        "colab": {
          "base_uri": "https://localhost:8080/"
        },
        "id": "P2sg9RH3gtrk",
        "outputId": "7fba50a8-0581-4c6a-eb07-60de8d2d501a"
      },
      "execution_count": 29,
      "outputs": [
        {
          "output_type": "stream",
          "name": "stdout",
          "text": [
            "id like to invite you ! Heisenberg, to a dinner hosted by me\n"
          ]
        }
      ]
    },
    {
      "cell_type": "code",
      "source": [
        "message3 = f\"id like to invite you ! {guest[2].title()}, to a dinner hosted by me\"\n",
        "print(message3)"
      ],
      "metadata": {
        "colab": {
          "base_uri": "https://localhost:8080/"
        },
        "id": "UJ1dXWGRg0YP",
        "outputId": "e3a6d28a-1c95-40cf-a211-f04d6ed26f66"
      },
      "execution_count": 30,
      "outputs": [
        {
          "output_type": "stream",
          "name": "stdout",
          "text": [
            "id like to invite you ! Homelander, to a dinner hosted by me\n"
          ]
        }
      ]
    },
    {
      "cell_type": "code",
      "source": [
        "print(guest)"
      ],
      "metadata": {
        "colab": {
          "base_uri": "https://localhost:8080/"
        },
        "id": "5cSftPxAhwsO",
        "outputId": "cab05e32-a571-4854-acdf-25ade60e57d2"
      },
      "execution_count": 31,
      "outputs": [
        {
          "output_type": "stream",
          "name": "stdout",
          "text": [
            "['drake', 'heisenberg', 'homelander']\n"
          ]
        }
      ]
    },
    {
      "cell_type": "code",
      "source": [
        "del guest[1]\n",
        "print(guest)"
      ],
      "metadata": {
        "colab": {
          "base_uri": "https://localhost:8080/"
        },
        "id": "JuTOY29UjshZ",
        "outputId": "cad4f0e8-1476-4d6d-f10b-c0e91b1ed5fb"
      },
      "execution_count": 50,
      "outputs": [
        {
          "output_type": "stream",
          "name": "stdout",
          "text": [
            "['drake', 'homelander']\n"
          ]
        }
      ]
    },
    {
      "cell_type": "code",
      "source": [
        "guest.insert(1,'peter parker')\n",
        "print(guest)"
      ],
      "metadata": {
        "colab": {
          "base_uri": "https://localhost:8080/"
        },
        "id": "ANaNxgkEj_Sw",
        "outputId": "4479cc80-b81c-481d-94a6-c997fc9d71df"
      },
      "execution_count": 51,
      "outputs": [
        {
          "output_type": "stream",
          "name": "stdout",
          "text": [
            "['drake', 'peter parker', 'homelander']\n"
          ]
        }
      ]
    },
    {
      "cell_type": "code",
      "source": [
        "message3 = f\"id like to invite you ! {guest[1].title()}, to a dinner hosted by me\"\n",
        "print(message3)"
      ],
      "metadata": {
        "colab": {
          "base_uri": "https://localhost:8080/"
        },
        "id": "PXaUStsVkNmX",
        "outputId": "2e51a7b3-0924-4f48-d2c3-04a671f83008"
      },
      "execution_count": 36,
      "outputs": [
        {
          "output_type": "stream",
          "name": "stdout",
          "text": [
            "id like to invite you ! Peter Parker, to a dinner hosted by me\n"
          ]
        }
      ]
    },
    {
      "cell_type": "code",
      "source": [
        "message4 = f\"I have just been informed that we have gotten a bigger table {guest} I am going to invite more people!\"\n",
        "print(message4)\n"
      ],
      "metadata": {
        "colab": {
          "base_uri": "https://localhost:8080/"
        },
        "id": "TEMzJAhZkk7u",
        "outputId": "84317603-91d7-4f0f-db8e-b1807f3989bb"
      },
      "execution_count": 43,
      "outputs": [
        {
          "output_type": "stream",
          "name": "stdout",
          "text": [
            "I have just been informed that we have gotten a bigger table ['drake', 'peter parker', 'homelander'] I am going to invite more people!\n"
          ]
        }
      ]
    },
    {
      "cell_type": "code",
      "source": [
        "print(guest)"
      ],
      "metadata": {
        "colab": {
          "base_uri": "https://localhost:8080/"
        },
        "id": "aUs-6FanmuJP",
        "outputId": "db61390e-efe8-4516-e2cb-562dee4d7c7c"
      },
      "execution_count": 52,
      "outputs": [
        {
          "output_type": "stream",
          "name": "stdout",
          "text": [
            "['drake', 'peter parker', 'homelander']\n"
          ]
        }
      ]
    },
    {
      "cell_type": "code",
      "source": [
        "guest.insert(3, 'green goblin')\n",
        "print(guest)"
      ],
      "metadata": {
        "colab": {
          "base_uri": "https://localhost:8080/"
        },
        "id": "lRwsbQWjm9Zn",
        "outputId": "935bd330-dcbf-4807-b1ee-1f513925ef6d"
      },
      "execution_count": 55,
      "outputs": [
        {
          "output_type": "stream",
          "name": "stdout",
          "text": [
            "['drake', 'peter parker', 'homelander', 'green goblin']\n"
          ]
        }
      ]
    },
    {
      "cell_type": "code",
      "source": [
        "guest.insert(4, 'venom')\n",
        "print(guest)"
      ],
      "metadata": {
        "colab": {
          "base_uri": "https://localhost:8080/"
        },
        "id": "zwW6sr60nOQr",
        "outputId": "4aa38505-dc57-4221-ab65-0754d60eb83d"
      },
      "execution_count": 56,
      "outputs": [
        {
          "output_type": "stream",
          "name": "stdout",
          "text": [
            "['drake', 'peter parker', 'homelander', 'green goblin', 'venom']\n"
          ]
        }
      ]
    },
    {
      "cell_type": "code",
      "source": [
        "guest.insert(5, 'batman')\n",
        "print(guest)"
      ],
      "metadata": {
        "colab": {
          "base_uri": "https://localhost:8080/"
        },
        "id": "7zjknLVanTzj",
        "outputId": "098f8502-4229-4042-d5ac-d3426a229eb8"
      },
      "execution_count": 57,
      "outputs": [
        {
          "output_type": "stream",
          "name": "stdout",
          "text": [
            "['drake', 'peter parker', 'homelander', 'green goblin', 'venom', 'batman']\n"
          ]
        }
      ]
    },
    {
      "cell_type": "code",
      "source": [
        "message3 = f\"id like to invite you ! {guest[3].title()}, to a dinner hosted by me\"\n",
        "print(message3)"
      ],
      "metadata": {
        "colab": {
          "base_uri": "https://localhost:8080/"
        },
        "id": "FbQI_o8pnZEX",
        "outputId": "d55921b0-b9d1-4209-a930-25b5cd256b52"
      },
      "execution_count": 63,
      "outputs": [
        {
          "output_type": "stream",
          "name": "stdout",
          "text": [
            "id like to invite you ! Green Goblin, to a dinner hosted by me\n"
          ]
        }
      ]
    },
    {
      "cell_type": "code",
      "source": [
        "message3 = f\"id like to invite you ! {guest[4].title()}, to a dinner hosted by me\"\n",
        "print(message3)"
      ],
      "metadata": {
        "colab": {
          "base_uri": "https://localhost:8080/"
        },
        "id": "xbRHH-AEoXy9",
        "outputId": "133bc144-e9c5-4e14-b995-d13622bd88b5"
      },
      "execution_count": 60,
      "outputs": [
        {
          "output_type": "stream",
          "name": "stdout",
          "text": [
            "id like to invite you ! Venom, to a dinner hosted by me\n"
          ]
        }
      ]
    },
    {
      "cell_type": "code",
      "source": [
        "message3 = f\"id like to invite you ! {guest[5].title()}, to a dinner hosted by me\"\n",
        "print(message3)"
      ],
      "metadata": {
        "colab": {
          "base_uri": "https://localhost:8080/"
        },
        "id": "YA7FR2DYoc_x",
        "outputId": "3b9215c5-68c9-441a-ec37-c42849597a29"
      },
      "execution_count": 61,
      "outputs": [
        {
          "output_type": "stream",
          "name": "stdout",
          "text": [
            "id like to invite you ! Batman, to a dinner hosted by me\n"
          ]
        }
      ]
    },
    {
      "cell_type": "code",
      "source": [
        "message5 = f\"I have just been informed that I can only bring two people to dinner now\"\n",
        "print(message5)"
      ],
      "metadata": {
        "colab": {
          "base_uri": "https://localhost:8080/"
        },
        "id": "NrJObwgmojOC",
        "outputId": "81c26624-72ba-489c-d54f-eb4a9f61d345"
      },
      "execution_count": 64,
      "outputs": [
        {
          "output_type": "stream",
          "name": "stdout",
          "text": [
            "I have just been informed that I can only bring two people to dinner now\n"
          ]
        }
      ]
    },
    {
      "cell_type": "code",
      "source": [
        "guest = ['drake', 'peter parker', 'homelander', 'green goblin', 'venom', 'batman']\n",
        "message6 = f\"Sorry but I am going to have to reschedule our dinner for another time\"\n",
        "print(guest)\n",
        "\n",
        "popped_guest = guest.pop(5)\n",
        "print(guest)\n",
        "print(message6)\n",
        "\n",
        "popped_guest = guest.pop(4)\n",
        "print(guest)\n",
        "print(message6)\n",
        "\n",
        "popped_guest = guest.pop(3)\n",
        "print(guest)\n",
        "print(message6)\n",
        "\n",
        "popped_guest = guest.pop(2)\n",
        "print(guest)\n"
      ],
      "metadata": {
        "colab": {
          "base_uri": "https://localhost:8080/"
        },
        "id": "YxVV2L2GpTB9",
        "outputId": "b822eb07-88e1-4ab3-a914-482de7e8a0ec"
      },
      "execution_count": 86,
      "outputs": [
        {
          "output_type": "stream",
          "name": "stdout",
          "text": [
            "['drake', 'peter parker', 'homelander', 'green goblin', 'venom', 'batman']\n",
            "['drake', 'peter parker', 'homelander', 'green goblin', 'venom']\n",
            "Sorry but I am going to have to reschedule our dinner for another time\n",
            "['drake', 'peter parker', 'homelander', 'green goblin']\n",
            "Sorry but I am going to have to reschedule our dinner for another time\n",
            "['drake', 'peter parker', 'homelander']\n",
            "Sorry but I am going to have to reschedule our dinner for another time\n",
            "['drake', 'peter parker']\n"
          ]
        }
      ]
    },
    {
      "cell_type": "code",
      "source": [
        "message7 = f\"you are still invited to my dinner {guest[0].title()}\"\n",
        "print(message7)\n",
        "\n",
        "message7 = f\"you are still invited to my dinner {guest[1].title()}\"\n",
        "print(message7)"
      ],
      "metadata": {
        "colab": {
          "base_uri": "https://localhost:8080/"
        },
        "id": "jv4d8Zdtr_pg",
        "outputId": "d08c96f6-5071-4d9d-b484-68f7197541a4"
      },
      "execution_count": 82,
      "outputs": [
        {
          "output_type": "stream",
          "name": "stdout",
          "text": [
            "you are still invited to my dinner Drake\n",
            "you are still invited to my dinner Peter Parker\n"
          ]
        }
      ]
    },
    {
      "cell_type": "code",
      "source": [
        "print(guest)"
      ],
      "metadata": {
        "colab": {
          "base_uri": "https://localhost:8080/"
        },
        "id": "_qir5bC2sZlp",
        "outputId": "6e57ff45-74f5-4853-eb69-e943cd881478"
      },
      "execution_count": 87,
      "outputs": [
        {
          "output_type": "stream",
          "name": "stdout",
          "text": [
            "['drake', 'peter parker']\n"
          ]
        }
      ]
    },
    {
      "cell_type": "code",
      "source": [
        "guest.remove('drake')\n",
        "print(guest)"
      ],
      "metadata": {
        "colab": {
          "base_uri": "https://localhost:8080/"
        },
        "id": "9Ek9HtJQt4D6",
        "outputId": "a7d8beea-e590-4309-e59e-c81691e4a464"
      },
      "execution_count": 89,
      "outputs": [
        {
          "output_type": "stream",
          "name": "stdout",
          "text": [
            "['peter parker']\n"
          ]
        }
      ]
    },
    {
      "cell_type": "code",
      "source": [
        "guest.remove('peter parker')\n",
        "print(guest)"
      ],
      "metadata": {
        "colab": {
          "base_uri": "https://localhost:8080/"
        },
        "id": "6bMCqNnruIaS",
        "outputId": "35b1e97b-b7b0-478a-81d1-e64a214e3454"
      },
      "execution_count": 90,
      "outputs": [
        {
          "output_type": "stream",
          "name": "stdout",
          "text": [
            "[]\n"
          ]
        }
      ]
    },
    {
      "cell_type": "code",
      "source": [
        "places = ['japan','germany','thailand','russia','italy','france','dublin','barcelona']\n",
        "print(places)\n",
        "\n",
        "print(sorted(places))\n",
        "\n",
        "print(places)\n",
        "\n",
        "places.reverse()\n",
        "print(places)\n",
        "\n",
        "places.reverse()\n",
        "print(places)\n",
        "\n",
        "print(sorted(places))"
      ],
      "metadata": {
        "colab": {
          "base_uri": "https://localhost:8080/"
        },
        "id": "9ocTmDtXuM-K",
        "outputId": "d013727c-0240-48aa-ecb9-00dc3e64e44b"
      },
      "execution_count": 106,
      "outputs": [
        {
          "output_type": "stream",
          "name": "stdout",
          "text": [
            "['japan', 'germany', 'thailand', 'russia', 'italy', 'france', 'dublin', 'barcelona']\n",
            "['barcelona', 'dublin', 'france', 'germany', 'italy', 'japan', 'russia', 'thailand']\n",
            "['japan', 'germany', 'thailand', 'russia', 'italy', 'france', 'dublin', 'barcelona']\n",
            "['barcelona', 'dublin', 'france', 'italy', 'russia', 'thailand', 'germany', 'japan']\n",
            "['japan', 'germany', 'thailand', 'russia', 'italy', 'france', 'dublin', 'barcelona']\n",
            "['barcelona', 'dublin', 'france', 'germany', 'italy', 'japan', 'russia', 'thailand']\n"
          ]
        }
      ]
    },
    {
      "cell_type": "code",
      "source": [
        "places = ['japan','germany','thailand','russia','italy','france','dublin','barcelona']\n",
        "\n",
        "print(places[8])"
      ],
      "metadata": {
        "colab": {
          "base_uri": "https://localhost:8080/",
          "height": 208
        },
        "id": "48W-9rr-wtxU",
        "outputId": "f73d9144-2fe4-4ff9-c620-ff8b33886f75"
      },
      "execution_count": 107,
      "outputs": [
        {
          "output_type": "error",
          "ename": "IndexError",
          "evalue": "ignored",
          "traceback": [
            "\u001b[0;31m---------------------------------------------------------------------------\u001b[0m",
            "\u001b[0;31mIndexError\u001b[0m                                Traceback (most recent call last)",
            "\u001b[0;32m<ipython-input-107-db0140c3965c>\u001b[0m in \u001b[0;36m<cell line: 3>\u001b[0;34m()\u001b[0m\n\u001b[1;32m      1\u001b[0m \u001b[0mplaces\u001b[0m \u001b[0;34m=\u001b[0m \u001b[0;34m[\u001b[0m\u001b[0;34m'japan'\u001b[0m\u001b[0;34m,\u001b[0m\u001b[0;34m'germany'\u001b[0m\u001b[0;34m,\u001b[0m\u001b[0;34m'thailand'\u001b[0m\u001b[0;34m,\u001b[0m\u001b[0;34m'russia'\u001b[0m\u001b[0;34m,\u001b[0m\u001b[0;34m'italy'\u001b[0m\u001b[0;34m,\u001b[0m\u001b[0;34m'france'\u001b[0m\u001b[0;34m,\u001b[0m\u001b[0;34m'dublin'\u001b[0m\u001b[0;34m,\u001b[0m\u001b[0;34m'barcelona'\u001b[0m\u001b[0;34m]\u001b[0m\u001b[0;34m\u001b[0m\u001b[0;34m\u001b[0m\u001b[0m\n\u001b[1;32m      2\u001b[0m \u001b[0;34m\u001b[0m\u001b[0m\n\u001b[0;32m----> 3\u001b[0;31m \u001b[0mprint\u001b[0m\u001b[0;34m(\u001b[0m\u001b[0mplaces\u001b[0m\u001b[0;34m[\u001b[0m\u001b[0;36m8\u001b[0m\u001b[0;34m]\u001b[0m\u001b[0;34m)\u001b[0m\u001b[0;34m\u001b[0m\u001b[0;34m\u001b[0m\u001b[0m\n\u001b[0m",
            "\u001b[0;31mIndexError\u001b[0m: list index out of range"
          ]
        }
      ]
    },
    {
      "cell_type": "code",
      "source": [
        "print(places[-1])"
      ],
      "metadata": {
        "colab": {
          "base_uri": "https://localhost:8080/"
        },
        "id": "d5uq5gI7xPYT",
        "outputId": "16364b0e-86d8-4d30-f017-81ecddef6e95"
      },
      "execution_count": 108,
      "outputs": [
        {
          "output_type": "stream",
          "name": "stdout",
          "text": [
            "barcelona\n"
          ]
        }
      ]
    }
  ]
}