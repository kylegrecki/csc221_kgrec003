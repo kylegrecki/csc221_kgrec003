{
  "nbformat": 4,
  "nbformat_minor": 0,
  "metadata": {
    "colab": {
      "provenance": [],
      "authorship_tag": "ABX9TyOGASO8rMxlXgtnY57wY5Fi",
      "include_colab_link": true
    },
    "kernelspec": {
      "name": "python3",
      "display_name": "Python 3"
    },
    "language_info": {
      "name": "python"
    }
  },
  "cells": [
    {
      "cell_type": "markdown",
      "metadata": {
        "id": "view-in-github",
        "colab_type": "text"
      },
      "source": [
        "<a href=\"https://colab.research.google.com/github/kylegrecki/csc221_kgrec003/blob/main/Assignment23_25.ipynb\" target=\"_parent\"><img src=\"https://colab.research.google.com/assets/colab-badge.svg\" alt=\"Open In Colab\"/></a>"
      ]
    },
    {
      "cell_type": "markdown",
      "source": [
        "**CSC221**\n",
        "\n",
        "Kyle Grecki\n",
        "\n",
        "Assignment 23-25"
      ],
      "metadata": {
        "id": "WWTv9DCr-i8N"
      }
    },
    {
      "cell_type": "code",
      "source": [
        "# part 1\n",
        "def func(a, b):\n",
        "    print(\"Value of a:\", a)\n",
        "    print(\"Value of b:\", b)\n",
        "\n",
        "# Test code\n",
        "func(10, 20)\n",
        "print()\n",
        "func('Hello', 'World')\n",
        "print()\n",
        "func([1, 2, 3], [4, 5, 6])"
      ],
      "metadata": {
        "colab": {
          "base_uri": "https://localhost:8080/"
        },
        "id": "X6LR3aFauJKy",
        "outputId": "060d06bb-e05d-4ff3-be54-e198973276b6"
      },
      "execution_count": 6,
      "outputs": [
        {
          "output_type": "stream",
          "name": "stdout",
          "text": [
            "Value of a: 10\n",
            "Value of b: 20\n",
            "\n",
            "Value of a: Hello\n",
            "Value of b: World\n",
            "\n",
            "Value of a: [1, 2, 3]\n",
            "Value of b: [4, 5, 6]\n"
          ]
        }
      ]
    },
    {
      "cell_type": "code",
      "source": [
        "# part 2\n",
        "def func(*s):\n",
        "    for arg in s:\n",
        "        print(\"Argument:\", arg)\n",
        "\n",
        "\n",
        "# Test code\n",
        "func(8, 9, 10)\n",
        "print()\n",
        "func('k', 'y', 'l', 'e')\n",
        "print()\n",
        "func(True, False, True, False, True)"
      ],
      "metadata": {
        "colab": {
          "base_uri": "https://localhost:8080/"
        },
        "id": "ojo3BXO4uWho",
        "outputId": "6599d5f6-9b9b-48ec-f8dc-1956b9761f68"
      },
      "execution_count": 11,
      "outputs": [
        {
          "output_type": "stream",
          "name": "stdout",
          "text": [
            "Argument: 8\n",
            "Argument: 9\n",
            "Argument: 10\n",
            "\n",
            "Argument: k\n",
            "Argument: y\n",
            "Argument: l\n",
            "Argument: e\n",
            "\n",
            "Argument: True\n",
            "Argument: False\n",
            "Argument: True\n",
            "Argument: False\n",
            "Argument: True\n"
          ]
        }
      ]
    },
    {
      "cell_type": "code",
      "source": [
        "# part 3\n",
        "def func(**kwargs):\n",
        "    for key, value in kwargs.items():\n",
        "        print(f\"{key}: {value}\")\n",
        "\n",
        "# Test code\n",
        "func(Name=\"spiderman\", Age=24)\n",
        "print()\n",
        "func(Universe=\"1-9999\", Planet=\"Earth\")\n",
        "print()\n",
        "func(Job=\"teacher\", subject=\"chemistry\")"
      ],
      "metadata": {
        "colab": {
          "base_uri": "https://localhost:8080/"
        },
        "id": "4IS3LCUQvKf1",
        "outputId": "50b8cdd8-0233-4a21-ae69-b81577035e87"
      },
      "execution_count": 18,
      "outputs": [
        {
          "output_type": "stream",
          "name": "stdout",
          "text": [
            "Name: spiderman\n",
            "Age: 24\n",
            "\n",
            "Universe: 1-9999\n",
            "Planet: Earth\n",
            "\n",
            "Job: teacher\n",
            "subject: chemistry\n"
          ]
        }
      ]
    },
    {
      "cell_type": "code",
      "source": [
        "# part 4\n",
        "def func(operator='+', initial_value=0, *args):\n",
        "    result = initial_value\n",
        "\n",
        "    if operator == '+':\n",
        "        result += sum(args)\n",
        "    elif operator == '-':\n",
        "        result -= sum(args)\n",
        "    else:\n",
        "        print(\"Invalid operator. Please use '+' or '-'.\")\n",
        "\n",
        "    return result\n",
        "\n",
        "# Test code\n",
        "result1 = func('+', 1, 2, 3)\n",
        "print(\"Result 1:\", result1)\n",
        "print()\n",
        "result2 = func('-', 5, 3, 2)\n",
        "print(\"Result 2:\", result2)\n",
        "print()\n",
        "result3 = func('+', 10, 4, 5, 6)\n",
        "print(\"Result 3:\", result3)\n",
        "\n",
        "\n"
      ],
      "metadata": {
        "colab": {
          "base_uri": "https://localhost:8080/"
        },
        "id": "tHVehP0-wx81",
        "outputId": "40c98063-fae7-45f2-a44f-47c59943ef30"
      },
      "execution_count": 22,
      "outputs": [
        {
          "output_type": "stream",
          "name": "stdout",
          "text": [
            "Result 1: 6\n",
            "\n",
            "Result 2: 0\n",
            "\n",
            "Result 3: 25\n"
          ]
        }
      ]
    },
    {
      "cell_type": "code",
      "source": [
        "# part 5\n",
        "global_variable = 10\n",
        "\n",
        "def modify_global_variable(new_value):\n",
        "    global global_variable\n",
        "    print(\"Current value of global_variable:\", global_variable)\n",
        "    global_variable = new_value\n",
        "    print(\"Updated value of global_variable:\", global_variable)\n",
        "\n",
        "#test code\n",
        "modify_global_variable(99)\n",
        "\n",
        "print(\"Final value of global_variable:\", global_variable)"
      ],
      "metadata": {
        "colab": {
          "base_uri": "https://localhost:8080/"
        },
        "id": "zB4-kyrZzjy2",
        "outputId": "e1b1f913-721c-4192-8e3a-7f2d045139e4"
      },
      "execution_count": 77,
      "outputs": [
        {
          "output_type": "stream",
          "name": "stdout",
          "text": [
            "Current value of global_variable: 10\n",
            "Updated value of global_variable: 99\n",
            "Final value of global_variable: 99\n"
          ]
        }
      ]
    },
    {
      "cell_type": "code",
      "source": [
        "# part 6\n",
        "vowels = 'aeiou'\n",
        "\n",
        "def count_vowels(word):\n",
        "    return sum(1 for letter in word if letter in vowels)\n",
        "\n",
        "#test code\n",
        "words = [\"apple\", \"banana\", \"cherry\", \"pineapple\"]\n",
        "\n",
        "words.sort(key=count_vowels, reverse = True)\n",
        "print(words)"
      ],
      "metadata": {
        "colab": {
          "base_uri": "https://localhost:8080/"
        },
        "id": "eqOZPEbL1RPy",
        "outputId": "703b7c15-754a-4aa5-c69b-05667f940bd0"
      },
      "execution_count": 56,
      "outputs": [
        {
          "output_type": "stream",
          "name": "stdout",
          "text": [
            "['pineapple', 'banana', 'apple', 'cherry']\n"
          ]
        }
      ]
    },
    {
      "cell_type": "code",
      "source": [
        "# part 7\n",
        "def logger(func):\n",
        "    def wrapper(*args):\n",
        "        result = func(*args)\n",
        "\n",
        "        with open('log.txt', 'a') as log_file:\n",
        "            log_file.write(f\"{func.__name__}{args} -> {result}\\n\")\n",
        "\n",
        "        return result\n",
        "\n",
        "    return wrapper\n",
        "\n",
        "@logger\n",
        "def add(a, b):\n",
        "    return a + b\n",
        "\n",
        "@logger\n",
        "def multiply(x, y):\n",
        "    return x * y\n",
        "\n",
        "# Test code\n",
        "result1 = add(3, 5)\n",
        "result2 = multiply(2, 4)\n",
        "result3 = add(455,544)"
      ],
      "metadata": {
        "id": "lye6Q35z8bn6"
      },
      "execution_count": 78,
      "outputs": []
    },
    {
      "cell_type": "code",
      "source": [
        "# part 8\n",
        "from functools import reduce\n",
        "\n",
        "numbers = [1, 2, 3, 4, 5]\n",
        "doubled_numbers = [x * 2 for x in numbers]\n",
        "print(\"Map - Doubled Numbers:\", doubled_numbers)\n",
        "\n",
        "even_numbers = [x for x in numbers if x % 2 == 0]\n",
        "print(\"Filter - Even Numbers:\", even_numbers)\n",
        "\n",
        "product = reduce(lambda x, y: x * y, numbers)\n",
        "print(\"Reduce - Product of Numbers:\", product)"
      ],
      "metadata": {
        "colab": {
          "base_uri": "https://localhost:8080/"
        },
        "id": "rTQyVCYW-DDe",
        "outputId": "d669c8e6-059b-46a6-d09f-7bd20a3e973f"
      },
      "execution_count": 67,
      "outputs": [
        {
          "output_type": "stream",
          "name": "stdout",
          "text": [
            "Map - Doubled Numbers: [2, 4, 6, 8, 10]\n",
            "Filter - Even Numbers: [2, 4]\n",
            "Reduce - Product of Numbers: 120\n"
          ]
        }
      ]
    },
    {
      "cell_type": "code",
      "source": [
        "# part 9\n",
        "while True:\n",
        "    expression = input(\"Enter a Python expression (or 'exit' to quit): \")\n",
        "\n",
        "    if expression.lower() == 'exit':\n",
        "        break\n",
        "\n",
        "    try:\n",
        "        result = eval(expression)\n",
        "        print(\"Result:\", result)\n",
        "    except Exception as e:\n",
        "        print(f\"Error: {e}\")\n",
        "        break\n"
      ],
      "metadata": {
        "colab": {
          "base_uri": "https://localhost:8080/"
        },
        "id": "UFVebFm2-5v-",
        "outputId": "329c67e8-59a7-4408-8bd5-764238f02d57"
      },
      "execution_count": 76,
      "outputs": [
        {
          "name": "stdout",
          "output_type": "stream",
          "text": [
            "Enter a Python expression (or 'exit' to quit): 500-5/4*3+7\n",
            "Result: 503.25\n",
            "Enter a Python expression (or 'exit' to quit): 500*2/2+500-1\n",
            "Result: 999.0\n",
            "Enter a Python expression (or 'exit' to quit): exit\n"
          ]
        }
      ]
    }
  ]
}